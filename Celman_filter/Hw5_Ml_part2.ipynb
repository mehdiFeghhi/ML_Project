{
  "nbformat": 4,
  "nbformat_minor": 0,
  "metadata": {
    "colab": {
      "provenance": []
    },
    "kernelspec": {
      "name": "python3",
      "display_name": "Python 3"
    },
    "language_info": {
      "name": "python"
    }
  },
  "cells": [
    {
      "cell_type": "code",
      "execution_count": null,
      "metadata": {
        "id": "gItXqwBAscTJ"
      },
      "outputs": [],
      "source": []
    },
    {
      "cell_type": "code",
      "source": [
        "!pip install pgmpy"
      ],
      "metadata": {
        "colab": {
          "base_uri": "https://localhost:8080/"
        },
        "id": "f9_BjgBPffbI",
        "outputId": "73b55d3c-c18d-4164-8708-f0764482944d"
      },
      "execution_count": null,
      "outputs": [
        {
          "output_type": "stream",
          "name": "stdout",
          "text": [
            "Looking in indexes: https://pypi.org/simple, https://us-python.pkg.dev/colab-wheels/public/simple/\n",
            "Requirement already satisfied: pgmpy in /usr/local/lib/python3.10/dist-packages (0.1.22)\n",
            "Requirement already satisfied: networkx in /usr/local/lib/python3.10/dist-packages (from pgmpy) (3.1)\n",
            "Requirement already satisfied: numpy in /usr/local/lib/python3.10/dist-packages (from pgmpy) (1.22.4)\n",
            "Requirement already satisfied: scipy in /usr/local/lib/python3.10/dist-packages (from pgmpy) (1.10.1)\n",
            "Requirement already satisfied: scikit-learn in /usr/local/lib/python3.10/dist-packages (from pgmpy) (1.2.2)\n",
            "Requirement already satisfied: pandas in /usr/local/lib/python3.10/dist-packages (from pgmpy) (1.5.3)\n",
            "Requirement already satisfied: pyparsing in /usr/local/lib/python3.10/dist-packages (from pgmpy) (3.0.9)\n",
            "Requirement already satisfied: torch in /usr/local/lib/python3.10/dist-packages (from pgmpy) (2.0.1+cu118)\n",
            "Requirement already satisfied: statsmodels in /usr/local/lib/python3.10/dist-packages (from pgmpy) (0.13.5)\n",
            "Requirement already satisfied: tqdm in /usr/local/lib/python3.10/dist-packages (from pgmpy) (4.65.0)\n",
            "Requirement already satisfied: joblib in /usr/local/lib/python3.10/dist-packages (from pgmpy) (1.2.0)\n",
            "Requirement already satisfied: opt-einsum in /usr/local/lib/python3.10/dist-packages (from pgmpy) (3.3.0)\n",
            "Requirement already satisfied: python-dateutil>=2.8.1 in /usr/local/lib/python3.10/dist-packages (from pandas->pgmpy) (2.8.2)\n",
            "Requirement already satisfied: pytz>=2020.1 in /usr/local/lib/python3.10/dist-packages (from pandas->pgmpy) (2022.7.1)\n",
            "Requirement already satisfied: threadpoolctl>=2.0.0 in /usr/local/lib/python3.10/dist-packages (from scikit-learn->pgmpy) (3.1.0)\n",
            "Requirement already satisfied: patsy>=0.5.2 in /usr/local/lib/python3.10/dist-packages (from statsmodels->pgmpy) (0.5.3)\n",
            "Requirement already satisfied: packaging>=21.3 in /usr/local/lib/python3.10/dist-packages (from statsmodels->pgmpy) (23.1)\n",
            "Requirement already satisfied: filelock in /usr/local/lib/python3.10/dist-packages (from torch->pgmpy) (3.12.0)\n",
            "Requirement already satisfied: typing-extensions in /usr/local/lib/python3.10/dist-packages (from torch->pgmpy) (4.5.0)\n",
            "Requirement already satisfied: sympy in /usr/local/lib/python3.10/dist-packages (from torch->pgmpy) (1.11.1)\n",
            "Requirement already satisfied: jinja2 in /usr/local/lib/python3.10/dist-packages (from torch->pgmpy) (3.1.2)\n",
            "Requirement already satisfied: triton==2.0.0 in /usr/local/lib/python3.10/dist-packages (from torch->pgmpy) (2.0.0)\n",
            "Requirement already satisfied: cmake in /usr/local/lib/python3.10/dist-packages (from triton==2.0.0->torch->pgmpy) (3.25.2)\n",
            "Requirement already satisfied: lit in /usr/local/lib/python3.10/dist-packages (from triton==2.0.0->torch->pgmpy) (16.0.5)\n",
            "Requirement already satisfied: six in /usr/local/lib/python3.10/dist-packages (from patsy>=0.5.2->statsmodels->pgmpy) (1.16.0)\n",
            "Requirement already satisfied: MarkupSafe>=2.0 in /usr/local/lib/python3.10/dist-packages (from jinja2->torch->pgmpy) (2.1.2)\n",
            "Requirement already satisfied: mpmath>=0.19 in /usr/local/lib/python3.10/dist-packages (from sympy->torch->pgmpy) (1.3.0)\n"
          ]
        }
      ]
    },
    {
      "cell_type": "code",
      "source": [
        "from pgmpy.models import BayesianModel\n",
        "from pgmpy.factors.discrete.CPD import TabularCPD"
      ],
      "metadata": {
        "id": "o_mdK2Pbsh63"
      },
      "execution_count": null,
      "outputs": []
    },
    {
      "cell_type": "markdown",
      "source": [
        "در این جا به کمک مدل شبکه بیز درخت یاد شده را با احتمالات آن میسازیم.\n",
        "\n",
        "---\n",
        "\n"
      ],
      "metadata": {
        "id": "-HUXO_u0ZyQf"
      }
    },
    {
      "cell_type": "code",
      "source": [
        "# Defining the Bayesian Model Structure\n",
        "model = BayesianModel([('Weather', 'Road'), ('Road', 'Accident')])\n",
        "\n",
        "cpd_weather = TabularCPD(variable='Weather', variable_card=2, values=[[0.7], [0.3]])\n",
        "cpd_road = TabularCPD(variable='Road', variable_card=2,\n",
        "                  values=[[0.9, 0.6], [0.1, 0.4]],\n",
        "                  evidence=['Weather'], evidence_card=[2])\n",
        "cpd_accident = TabularCPD(variable='Accident', variable_card=2,\n",
        "                  values=[[0.95, 0.25], [0.05, 0.75]],\n",
        "                  evidence=['Road'], evidence_card=[2])\n",
        "\n",
        "# Associating the CPDs with the network structure\n",
        "model.add_cpds(cpd_weather, cpd_road, cpd_accident)"
      ],
      "metadata": {
        "id": "jONnoWqSslsw"
      },
      "execution_count": null,
      "outputs": []
    },
    {
      "cell_type": "markdown",
      "source": [
        "از اینجا به بعد به کمک درخت بیزین و در انتها به کمک مارکف تسک‌های خواسته شده را انجام می‌دهیم"
      ],
      "metadata": {
        "id": "DUsS3CDXtG6t"
      }
    },
    {
      "cell_type": "code",
      "source": [
        "# Task 1: Calculate the probability of a car accident when the weather is sunny and the road\n",
        "# is dry.\n",
        "from pgmpy.inference import VariableElimination\n",
        "\n",
        "# Create an inference object\n",
        "infer = VariableElimination(model)\n",
        "\n",
        "# Compute P(Accident | Road=dry, Weather=sunny)\n",
        "q = infer.query(['Accident'], evidence={'Road':0 , 'Weather': 0})\n",
        "print(q)"
      ],
      "metadata": {
        "colab": {
          "base_uri": "https://localhost:8080/"
        },
        "id": "HG5jfAMUtMD3",
        "outputId": "6b980226-5e96-499b-aed0-97acd91681a1"
      },
      "execution_count": null,
      "outputs": [
        {
          "output_type": "stream",
          "name": "stdout",
          "text": [
            "+-------------+-----------------+\n",
            "| Accident    |   phi(Accident) |\n",
            "+=============+=================+\n",
            "| Accident(0) |          0.9500 |\n",
            "+-------------+-----------------+\n",
            "| Accident(1) |          0.0500 |\n",
            "+-------------+-----------------+\n"
          ]
        }
      ]
    },
    {
      "cell_type": "code",
      "source": [
        "# Task 2: Calculate the probability of a car accident when the weather is rainy and the road\n",
        "# is wet.\n",
        "\n",
        "# Compute P(Accident | Road=wet, Weather=rainy)\n",
        "q = infer.query(['Accident'], evidence={'Road':1 , 'Weather': 1})\n",
        "print(q)"
      ],
      "metadata": {
        "colab": {
          "base_uri": "https://localhost:8080/"
        },
        "id": "NxeTcM7atPZ4",
        "outputId": "ad13c84e-be80-4b37-972e-0e1aeb13940d"
      },
      "execution_count": null,
      "outputs": [
        {
          "output_type": "stream",
          "name": "stdout",
          "text": [
            "+-------------+-----------------+\n",
            "| Accident    |   phi(Accident) |\n",
            "+=============+=================+\n",
            "| Accident(0) |          0.2500 |\n",
            "+-------------+-----------------+\n",
            "| Accident(1) |          0.7500 |\n",
            "+-------------+-----------------+\n"
          ]
        }
      ]
    },
    {
      "cell_type": "code",
      "source": [
        "# Task 3: Calculate the conditional probability distribution of Accident given Weather=rainy.\n",
        "\n",
        "q = infer.query(['Accident'], evidence={'Weather': 1})\n",
        "print(q)"
      ],
      "metadata": {
        "colab": {
          "base_uri": "https://localhost:8080/"
        },
        "id": "6GbaIKFxtThA",
        "outputId": "99579533-62eb-45fa-883c-5a3534bfdc4a"
      },
      "execution_count": null,
      "outputs": [
        {
          "output_type": "stream",
          "name": "stdout",
          "text": [
            "+-------------+-----------------+\n",
            "| Accident    |   phi(Accident) |\n",
            "+=============+=================+\n",
            "| Accident(0) |          0.6700 |\n",
            "+-------------+-----------------+\n",
            "| Accident(1) |          0.3300 |\n",
            "+-------------+-----------------+\n"
          ]
        }
      ]
    }
  ]
}