{
  "cells": [
    {
      "cell_type": "markdown",
      "metadata": {
        "collapsed": true,
        "id": "EKhg_F9JScsK"
      },
      "source": [
        "# Speed Dating Experiment\n",
        "\n",
        "This project uses data from the [speed dating experiment dataset](https://www.kaggle.com/annavictoria/speed-dating-experiment) on Kaggle. Using information about daters and their partners, can we predict whether they wanted to see each other again?"
      ]
    },
    {
      "cell_type": "code",
      "execution_count": null,
      "metadata": {
        "id": "f0izycSPSjkL"
      },
      "outputs": [],
      "source": [
        "import numpy as np\n",
        "import pandas as pd\n",
        "import gzip\n",
        "import os\n",
        "from sklearn.pipeline import make_pipeline\n",
        "from sklearn.preprocessing import StandardScaler\n",
        "from sklearn.svm import SVC,LinearSVC\n",
        "from sklearn.manifold import TSNE\n",
        "import random\n",
        "from sklearn.datasets import make_gaussian_quantiles\n",
        "from sklearn.datasets import make_blobs\n",
        "from sklearn.datasets import make_classification\n",
        "from sklearn.datasets import make_moons\n",
        "from sklearn.model_selection import train_test_split\n",
        "from skimage import color\n",
        "from sklearn.model_selection import GridSearchCV\n",
        "from mlxtend.plotting import plot_decision_regions\n",
        "from sklearn.decomposition import PCA\n",
        "import cv2\n",
        "from sklearn.multiclass import OneVsRestClassifier\n",
        "from sklearn.tree import DecisionTreeClassifier\n",
        "from sklearn.metrics import confusion_matrix,ConfusionMatrixDisplay,precision_score,recall_score,f1_score,RocCurveDisplay,accuracy_score\n",
        "import matplotlib.pyplot as plt\n",
        "from sklearn.model_selection import cross_val_score\n",
        "from sklearn import metrics\n",
        "from sklearn.preprocessing import label_binarize\n",
        "from sklearn.metrics import roc_curve, auc,f1_score\n",
        "from sklearn.calibration import CalibratedClassifierCV\n",
        "import time\n"
      ]
    },
    {
      "cell_type": "code",
      "execution_count": null,
      "metadata": {
        "colab": {
          "base_uri": "https://localhost:8080/"
        },
        "id": "1QmYcdvEScsO",
        "outputId": "daea2975-398b-4160-e328-76b6e5f96095"
      },
      "outputs": [
        {
          "output_type": "stream",
          "name": "stdout",
          "text": [
            "Populating the interactive namespace from numpy and matplotlib\n"
          ]
        }
      ],
      "source": [
        "import pandas as pd\n",
        "import numpy as np\n",
        "import seaborn as sns\n",
        "from xgboost import XGBClassifier\n",
        "\n",
        "from sklearn.model_selection import train_test_split, cross_val_score, GridSearchCV\n",
        "from sklearn.metrics import roc_auc_score\n",
        "\n",
        "# Some warnings tend to pop up during grid search\n",
        "import warnings\n",
        "warnings.filterwarnings('ignore')\n",
        "\n",
        "%pylab inline"
      ]
    },
    {
      "cell_type": "code",
      "execution_count": null,
      "metadata": {
        "colab": {
          "base_uri": "https://localhost:8080/"
        },
        "id": "KeRem9euScsR",
        "outputId": "368c1e91-8b42-45fc-b82e-6753ea7f09df"
      },
      "outputs": [
        {
          "name": "stdout",
          "output_type": "stream",
          "text": [
            "8378 observations and 195 features\n"
          ]
        }
      ],
      "source": [
        "# Pre-wrangled, using the steps below\n",
        "data = pd.read_csv('Speed Dating Data.csv', encoding='latin-1')\n",
        "\n",
        "print(data.shape[0], 'observations and', data.shape[1], 'features')"
      ]
    },
    {
      "cell_type": "code",
      "execution_count": null,
      "metadata": {
        "colab": {
          "base_uri": "https://localhost:8080/"
        },
        "id": "Lno3mIJGScsT",
        "outputId": "ba8beca4-9cd5-4a60-f18d-49dd7cc29597"
      },
      "outputs": [
        {
          "data": {
            "text/plain": [
              "float64    174\n",
              "int64       13\n",
              "object       8\n",
              "dtype: int64"
            ]
          },
          "execution_count": 48,
          "metadata": {},
          "output_type": "execute_result"
        }
      ],
      "source": [
        "# What kind of data are we dealing with?\n",
        "data.dtypes.value_counts()"
      ]
    },
    {
      "cell_type": "code",
      "execution_count": null,
      "metadata": {
        "colab": {
          "base_uri": "https://localhost:8080/"
        },
        "id": "uEXF0j-bScsU",
        "outputId": "ca43c670-3b67-44ee-ae46-f11f50df9dbb"
      },
      "outputs": [
        {
          "data": {
            "text/plain": [
              "1.0    277\n",
              "0.0    274\n",
              "Name: gender, dtype: int64"
            ]
          },
          "execution_count": 49,
          "metadata": {},
          "output_type": "execute_result"
        }
      ],
      "source": [
        "# Men (1) and women (0)\n",
        "data.groupby('iid').mean().gender.value_counts()"
      ]
    },
    {
      "cell_type": "code",
      "execution_count": null,
      "metadata": {
        "colab": {
          "base_uri": "https://localhost:8080/"
        },
        "id": "ZWSzsJapScsV",
        "outputId": "e496a2a7-988e-4eca-9b21-027a741393da"
      },
      "outputs": [
        {
          "data": {
            "text/plain": [
              "0    0.835283\n",
              "1    0.164717\n",
              "Name: match, dtype: float64"
            ]
          },
          "execution_count": 50,
          "metadata": {},
          "output_type": "execute_result"
        }
      ],
      "source": [
        "# What percentage of pairs resulted in a match?\n",
        "data['match'].value_counts(normalize=True)"
      ]
    },
    {
      "cell_type": "markdown",
      "metadata": {
        "id": "B0_ewpYyScsW"
      },
      "source": [
        "About 16% of pairs resulted in a match -- a bit higher than I expected!\n",
        "\n",
        "Using the Synthetic Minority Oversampling Technique (SMOTE) inside of the **`imbalanced-learn`** library can create new data points that resemble existing ones (using a k-nearest neighbors algorithm). I tried this in an earlier draft of the project, but it didn't lead to a significant increase in my model's performance. Trying it, however, was a great learning experience and gave me a new tool in my machine learning toolbox!"
      ]
    },
    {
      "cell_type": "code",
      "execution_count": null,
      "metadata": {
        "colab": {
          "base_uri": "https://localhost:8080/",
          "height": 110
        },
        "id": "Ha3lEC3cScsX",
        "outputId": "db473834-8c67-4aa8-c85e-196178029a33"
      },
      "outputs": [
        {
          "data": {
            "text/html": [
              "\n",
              "  <div id=\"df-5197e2d3-c071-40fc-a74e-fb3fedb1d021\">\n",
              "    <div class=\"colab-df-container\">\n",
              "      <div>\n",
              "<style scoped>\n",
              "    .dataframe tbody tr th:only-of-type {\n",
              "        vertical-align: middle;\n",
              "    }\n",
              "\n",
              "    .dataframe tbody tr th {\n",
              "        vertical-align: top;\n",
              "    }\n",
              "\n",
              "    .dataframe thead th {\n",
              "        text-align: right;\n",
              "    }\n",
              "</style>\n",
              "<table border=\"1\" class=\"dataframe\">\n",
              "  <thead>\n",
              "    <tr style=\"text-align: right;\">\n",
              "      <th></th>\n",
              "      <th>iid</th>\n",
              "      <th>id</th>\n",
              "      <th>gender</th>\n",
              "      <th>idg</th>\n",
              "      <th>condtn</th>\n",
              "      <th>wave</th>\n",
              "      <th>round</th>\n",
              "      <th>position</th>\n",
              "      <th>positin1</th>\n",
              "      <th>order</th>\n",
              "      <th>...</th>\n",
              "      <th>attr3_3</th>\n",
              "      <th>sinc3_3</th>\n",
              "      <th>intel3_3</th>\n",
              "      <th>fun3_3</th>\n",
              "      <th>amb3_3</th>\n",
              "      <th>attr5_3</th>\n",
              "      <th>sinc5_3</th>\n",
              "      <th>intel5_3</th>\n",
              "      <th>fun5_3</th>\n",
              "      <th>amb5_3</th>\n",
              "    </tr>\n",
              "  </thead>\n",
              "  <tbody>\n",
              "    <tr>\n",
              "      <th>0</th>\n",
              "      <td>1</td>\n",
              "      <td>1.0</td>\n",
              "      <td>0</td>\n",
              "      <td>1</td>\n",
              "      <td>1</td>\n",
              "      <td>1</td>\n",
              "      <td>10</td>\n",
              "      <td>7</td>\n",
              "      <td>NaN</td>\n",
              "      <td>4</td>\n",
              "      <td>...</td>\n",
              "      <td>5.0</td>\n",
              "      <td>7.0</td>\n",
              "      <td>7.0</td>\n",
              "      <td>7.0</td>\n",
              "      <td>7.0</td>\n",
              "      <td>NaN</td>\n",
              "      <td>NaN</td>\n",
              "      <td>NaN</td>\n",
              "      <td>NaN</td>\n",
              "      <td>NaN</td>\n",
              "    </tr>\n",
              "  </tbody>\n",
              "</table>\n",
              "<p>1 rows × 195 columns</p>\n",
              "</div>\n",
              "      <button class=\"colab-df-convert\" onclick=\"convertToInteractive('df-5197e2d3-c071-40fc-a74e-fb3fedb1d021')\"\n",
              "              title=\"Convert this dataframe to an interactive table.\"\n",
              "              style=\"display:none;\">\n",
              "        \n",
              "  <svg xmlns=\"http://www.w3.org/2000/svg\" height=\"24px\"viewBox=\"0 0 24 24\"\n",
              "       width=\"24px\">\n",
              "    <path d=\"M0 0h24v24H0V0z\" fill=\"none\"/>\n",
              "    <path d=\"M18.56 5.44l.94 2.06.94-2.06 2.06-.94-2.06-.94-.94-2.06-.94 2.06-2.06.94zm-11 1L8.5 8.5l.94-2.06 2.06-.94-2.06-.94L8.5 2.5l-.94 2.06-2.06.94zm10 10l.94 2.06.94-2.06 2.06-.94-2.06-.94-.94-2.06-.94 2.06-2.06.94z\"/><path d=\"M17.41 7.96l-1.37-1.37c-.4-.4-.92-.59-1.43-.59-.52 0-1.04.2-1.43.59L10.3 9.45l-7.72 7.72c-.78.78-.78 2.05 0 2.83L4 21.41c.39.39.9.59 1.41.59.51 0 1.02-.2 1.41-.59l7.78-7.78 2.81-2.81c.8-.78.8-2.07 0-2.86zM5.41 20L4 18.59l7.72-7.72 1.47 1.35L5.41 20z\"/>\n",
              "  </svg>\n",
              "      </button>\n",
              "      \n",
              "  <style>\n",
              "    .colab-df-container {\n",
              "      display:flex;\n",
              "      flex-wrap:wrap;\n",
              "      gap: 12px;\n",
              "    }\n",
              "\n",
              "    .colab-df-convert {\n",
              "      background-color: #E8F0FE;\n",
              "      border: none;\n",
              "      border-radius: 50%;\n",
              "      cursor: pointer;\n",
              "      display: none;\n",
              "      fill: #1967D2;\n",
              "      height: 32px;\n",
              "      padding: 0 0 0 0;\n",
              "      width: 32px;\n",
              "    }\n",
              "\n",
              "    .colab-df-convert:hover {\n",
              "      background-color: #E2EBFA;\n",
              "      box-shadow: 0px 1px 2px rgba(60, 64, 67, 0.3), 0px 1px 3px 1px rgba(60, 64, 67, 0.15);\n",
              "      fill: #174EA6;\n",
              "    }\n",
              "\n",
              "    [theme=dark] .colab-df-convert {\n",
              "      background-color: #3B4455;\n",
              "      fill: #D2E3FC;\n",
              "    }\n",
              "\n",
              "    [theme=dark] .colab-df-convert:hover {\n",
              "      background-color: #434B5C;\n",
              "      box-shadow: 0px 1px 3px 1px rgba(0, 0, 0, 0.15);\n",
              "      filter: drop-shadow(0px 1px 2px rgba(0, 0, 0, 0.3));\n",
              "      fill: #FFFFFF;\n",
              "    }\n",
              "  </style>\n",
              "\n",
              "      <script>\n",
              "        const buttonEl =\n",
              "          document.querySelector('#df-5197e2d3-c071-40fc-a74e-fb3fedb1d021 button.colab-df-convert');\n",
              "        buttonEl.style.display =\n",
              "          google.colab.kernel.accessAllowed ? 'block' : 'none';\n",
              "\n",
              "        async function convertToInteractive(key) {\n",
              "          const element = document.querySelector('#df-5197e2d3-c071-40fc-a74e-fb3fedb1d021');\n",
              "          const dataTable =\n",
              "            await google.colab.kernel.invokeFunction('convertToInteractive',\n",
              "                                                     [key], {});\n",
              "          if (!dataTable) return;\n",
              "\n",
              "          const docLinkHtml = 'Like what you see? Visit the ' +\n",
              "            '<a target=\"_blank\" href=https://colab.research.google.com/notebooks/data_table.ipynb>data table notebook</a>'\n",
              "            + ' to learn more about interactive tables.';\n",
              "          element.innerHTML = '';\n",
              "          dataTable['output_type'] = 'display_data';\n",
              "          await google.colab.output.renderOutput(dataTable, element);\n",
              "          const docLink = document.createElement('div');\n",
              "          docLink.innerHTML = docLinkHtml;\n",
              "          element.appendChild(docLink);\n",
              "        }\n",
              "      </script>\n",
              "    </div>\n",
              "  </div>\n",
              "  "
            ],
            "text/plain": [
              "   iid   id  gender  idg  condtn  wave  round  position  positin1  order  ...  \\\n",
              "0    1  1.0       0    1       1     1     10         7       NaN      4  ...   \n",
              "\n",
              "   attr3_3  sinc3_3  intel3_3  fun3_3  amb3_3  attr5_3  sinc5_3  intel5_3  \\\n",
              "0      5.0      7.0       7.0     7.0     7.0      NaN      NaN       NaN   \n",
              "\n",
              "   fun5_3  amb5_3  \n",
              "0     NaN     NaN  \n",
              "\n",
              "[1 rows x 195 columns]"
            ]
          },
          "execution_count": 51,
          "metadata": {},
          "output_type": "execute_result"
        }
      ],
      "source": [
        "# Getting a rough feel for how the data looks\n",
        "data.head(1)"
      ]
    },
    {
      "cell_type": "markdown",
      "metadata": {
        "id": "5uHodaPPScsY"
      },
      "source": [
        "*This* dataset contains multiple speed dating events, and a few measured people's personalities differently.\n",
        "\n",
        "In all cases, participants had to rate how important different qualities in a parter were (such as ambition, sincerity, intelligence, etc.).\n",
        "\n",
        "Some events gave people 100 points to distribute over these qualities, while others simply asked people to rate their importance from 1-10. Upon extensive testing, I found that removing the less-common scoring method resulted in a better model. Conversely, trying to normalize both methods didn't work quite as well."
      ]
    },
    {
      "cell_type": "code",
      "execution_count": null,
      "metadata": {
        "id": "b9w06T8VScsZ"
      },
      "outputs": [],
      "source": [
        "# Waves 6-11 rated importance, others allocated 100 points\n",
        "points = (data.wave != 6 ) &\\\n",
        "    (data.wave != 7 ) &\\\n",
        "    (data.wave != 8 ) &\\\n",
        "    (data.wave != 9 ) &\\\n",
        "    (data.wave != 10 ) &\\\n",
        "    (data.wave != 11 )\n",
        "\n",
        "data = data[points]"
      ]
    },
    {
      "cell_type": "markdown",
      "metadata": {
        "id": "58vq3oDBScsa"
      },
      "source": [
        "**Certain features are a little too similar to the target variable (whether there was a match). I'm electing to remove them, because I don't think it's interesting to predict matches based, for instance, on someone's response to the question, \"How attracted are you to this person?\" (That's too easy!)**\n",
        "\n",
        "**The data I *will* use here is the average rating of each participant, as determined by how often his or her partners wanted to see them again. This gives us a rough estimate of each person's desirability, which is important since birds of a feather flock together.**\n",
        "\n",
        "**Similarly, I'll look at how \"choosy\" someone was -- were they interested in every person they met, or hardly anyone? I think this data is fair game for the machine learning task, since a dating website would have similar statistics.**"
      ]
    },
    {
      "cell_type": "code",
      "execution_count": null,
      "metadata": {
        "id": "agFbeNNeScsb"
      },
      "outputs": [],
      "source": [
        "desirability = data.groupby('iid').mean()['dec_o'].to_dict()\n",
        "data['desirability'] = data['iid'].map(desirability)\n",
        "\n",
        "choosiness = data.groupby('iid').mean()['dec'].to_dict()\n",
        "data['choosiness'] = data['iid'].map(choosiness)"
      ]
    },
    {
      "cell_type": "code",
      "execution_count": null,
      "metadata": {
        "colab": {
          "base_uri": "https://localhost:8080/"
        },
        "id": "8fDTYtuNScsc",
        "outputId": "9e7c7b51-f796-4f2f-8dc0-87ea38f73d27"
      },
      "outputs": [
        {
          "data": {
            "text/plain": [
              "Index(['match', 'dec_o', 'dec', 'like_o', 'like', 'fun_o', 'fun', 'shar_o',\n",
              "       'shar', 'attr_o', 'attr', 'prob_o', 'prob'],\n",
              "      dtype='object')"
            ]
          },
          "execution_count": 54,
          "metadata": {},
          "output_type": "execute_result"
        }
      ],
      "source": [
        "match_corrs = data.select_dtypes(include=[np.number])\\\n",
        ".corrwith(data.match)\\\n",
        ".sort_values(ascending=False)\n",
        "\n",
        "match_corrs = match_corrs[match_corrs > .25].index\n",
        "\n",
        "data = data.dropna(subset=['id', 'pid'], axis=0)\n",
        "\n",
        "for i in match_corrs[1:]:\n",
        "    del data[i]\n",
        "\n",
        "# Other columns that are too predictive\n",
        "del data['int_corr']\n",
        "del data['them_cal']\n",
        "del data['you_call']\n",
        "\n",
        "del data['field'] # redundant\n",
        "\n",
        "match_corrs"
      ]
    },
    {
      "cell_type": "markdown",
      "metadata": {
        "id": "GLWAQdJpScsd"
      },
      "source": [
        "This is a dirty dataset that needs to be cleaned. The first thing we'll do is fix the columns that are strings but should be numbers. I'm replacing the null values with -100 in anticipation of using a tree-based algorithm. A quick cross-validation showed that this strategy is better than using the feature's mean or median value."
      ]
    },
    {
      "cell_type": "code",
      "execution_count": null,
      "metadata": {
        "id": "hbkWwLE3Scsd"
      },
      "outputs": [],
      "source": [
        "def fix_numeric(col, df=data, median=False):\n",
        "    try:\n",
        "        df[col] = df[col].str.replace(',', '')\n",
        "    except:\n",
        "        print('Column is not a string!')\n",
        "    \n",
        "    df[col] = df[col].astype(float)\n",
        "    \n",
        "    if median:\n",
        "        df[col] = df[col].fillna(data.fillna.median())\n",
        "    \n",
        "    else:\n",
        "        df[col] = df[col].fillna(-100)\n",
        "    \n",
        "    return df\n",
        "\n",
        "for i in 'zipcode mn_sat tuition income'.split():\n",
        "    data = fix_numeric(i)"
      ]
    },
    {
      "cell_type": "markdown",
      "metadata": {
        "id": "mR35ixuTScse"
      },
      "source": [
        "Next we'll convert all string-based columns to lower case so we can process the data more reliably."
      ]
    },
    {
      "cell_type": "code",
      "execution_count": null,
      "metadata": {
        "colab": {
          "base_uri": "https://localhost:8080/"
        },
        "id": "I9DRTNavScse",
        "outputId": "bd9bdd4a-e473-4c51-a111-b3ff49df17e7"
      },
      "outputs": [
        {
          "name": "stdout",
          "output_type": "stream",
          "text": [
            "undergra, from, career, "
          ]
        }
      ],
      "source": [
        "for i in data.columns:\n",
        "    if data[i].dtype == \"O\":\n",
        "        data[i] = data[i].str.lower()\n",
        "        print(i, end=', ')"
      ]
    },
    {
      "cell_type": "markdown",
      "metadata": {
        "id": "RUvYMaJHScsf"
      },
      "source": [
        "# Benchmark\n",
        "\n",
        "ROC-AUC has turned out to be the best metric to use for this project, and a naive predictor will always obtain a ROC-AUC score of 0.5. Nonetheless, let's run to the code to make it official."
      ]
    },
    {
      "cell_type": "code",
      "execution_count": null,
      "metadata": {
        "colab": {
          "base_uri": "https://localhost:8080/"
        },
        "id": "_rWg9HbLScsg",
        "outputId": "4520b129-7e8d-423c-dcbc-178d9aa0f52b"
      },
      "outputs": [
        {
          "name": "stdout",
          "output_type": "stream",
          "text": [
            "Naive Benchmark: 0.5\n"
          ]
        }
      ],
      "source": [
        "from sklearn.dummy import DummyClassifier\n",
        "\n",
        "data_benchmark = pd.get_dummies(data)\n",
        "data_benchmark.fillna(data_benchmark.median(), inplace=True)\n",
        "\n",
        "xbench = data_benchmark.drop('match', axis=1)\n",
        "ybench = data_benchmark['match']\n",
        "\n",
        "dum = DummyClassifier(strategy='constant', constant=1)\n",
        "\n",
        "cvs = cross_val_score(dum, xbench, ybench, scoring='roc_auc', cv=5)\n",
        "\n",
        "benchmark_score = cvs.mean()\n",
        "\n",
        "print('Naive Benchmark:', benchmark_score)"
      ]
    },
    {
      "cell_type": "markdown",
      "metadata": {
        "id": "2zMM2CsFScsg"
      },
      "source": [
        "# Feature Engineering\n",
        "And now we'll engineer some new features based on people's responses to the open-ended questions.\n",
        "\n",
        "I examined people's responses to the three features \"from,\" \"undergra(d),\" and \"career,\" and combined some of the more common answers into a single variable. First we set the default value to zero, and then overwrite it with a 1 when a response matches the strings listed."
      ]
    },
    {
      "cell_type": "code",
      "execution_count": null,
      "metadata": {
        "id": "wu0JTnfoScsg"
      },
      "outputs": [],
      "source": [
        "data['from_new_england'] = 0\n",
        "for i in 'massachu connect rhode vermont vt hampsh maine boston cambridge'.split():\n",
        "    data['from_new_england'] = np.where((data['from'].str.contains(i)) |\\\n",
        "                                   (data['undergra'].str.contains(i)), 1,\n",
        "                                        data['from_new_england'])\n",
        "    \n",
        "data['from_china'] = 0\n",
        "for i in 'china beijing shanghai hong taiwan'.split():\n",
        "    data['from_china'] = np.where((data['from'].str.contains(i)) |\\\n",
        "                                  (data['undergra'].str.contains(i)), 1,\n",
        "                                  data['from_china'])\n",
        "\n",
        "data['from_india'] = 0\n",
        "for i in 'india delhi bangalore'.split():\n",
        "    data['from_india'] = np.where((data['from'].str.contains(i)) |\\\n",
        "                                  (data['undergra'].str.contains(i)), 1,\n",
        "                                  data['from_india'])\n",
        "    \n",
        "data['from_europe'] = 0\n",
        "for i in 'europe germany italy france spain poland portugal netherlands holland sweden switz greece belgium paris rome'.split():\n",
        "    data['from_europe'] = np.where((data['from'].str.contains(i)) |\\\n",
        "                                   (data['undergra'].str.contains(i)), 1,\n",
        "                                   data['from_europe'])\n",
        "\n",
        "data['from_uk'] = 0\n",
        "for i in 'london england uk britain scotland ireland kingdom oxford'.split():\n",
        "    data['from_uk'] = np.where((data['from'].str.contains(i)) |\\\n",
        "                                   (data['undergra'].str.contains(i)), 1,\n",
        "                               data['from_uk'])\n",
        "\n",
        "data['from_ny'] = 0\n",
        "for i in ['new york', 'ny']:\n",
        "    data['from_ny'] = np.where((data['from'].str.contains(i)) |\\\n",
        "                               (data['undergra'].str.contains(i)), 1,\n",
        "                               data['from_ny'])\n",
        "\n",
        "data['from_nj'] = 0\n",
        "for i in ['new jersey', 'nj']:\n",
        "    data['from_nj'] = np.where((data['from'].str.contains(i)) |\\\n",
        "                               (data['undergra'].str.contains(i)), 1,\n",
        "                               data['from_nj'])\n",
        "\n",
        "data['from_california'] = 0\n",
        "for i in 'cali diego francisco jose davis sacramento oakland clara angeles ucla stanford berkeley alto torrance'.split():\n",
        "    data['from_california'] = np.where((data['from'].str.contains(i)) |\\\n",
        "                                   (data['undergra'].str.contains(i)), 1,\n",
        "                                       data['from_california'])\n",
        "    \n",
        "data['from_texas'] = 0\n",
        "for i in 'texas tx dallas austin houston dfw antonio'.split():\n",
        "    data['from_texas'] = np.where((data['from'].str.contains(i)) |\\\n",
        "                                   (data['undergra'].str.contains(i)), 1,\n",
        "                                  data['from_texas'])\n",
        "    "
      ]
    },
    {
      "cell_type": "markdown",
      "metadata": {
        "id": "DLbG9uL6Scsh"
      },
      "source": [
        "Now let's do something similar with careers."
      ]
    },
    {
      "cell_type": "code",
      "execution_count": null,
      "metadata": {
        "id": "fVr4_sHfScsh"
      },
      "outputs": [],
      "source": [
        "data['career_education'] = 0\n",
        "for i in 'professor teach academ educ'.split():\n",
        "    data['career_education'] = np.where(data['career'].str.contains(i),\n",
        "                                        1, data['career_education'])\n",
        "\n",
        "data['career_law'] = 0\n",
        "for i in 'law attorney legal defender counsel'.split():\n",
        "    data['career_law'] = np.where(data['career'].str.contains(i),\n",
        "                                  1, data['career_law'])\n",
        "\n",
        "data['career_medicine'] = 0\n",
        "for i in 'doctor dr physician md medical m.d. cardio dentist surg'.split():\n",
        "    data['career_medicine'] = np.where(data['career'].str.contains(i),\n",
        "                                       1, data['career_medicine'])\n",
        "\n",
        "data['career_business'] = 0\n",
        "for i in 'business mba m.b.a. consult manage ceo c.e.o. entre finance venture market strategy invest bank equity'.split():\n",
        "    data['career_business'] = np.where(data['career'].str.contains(i),\n",
        "                                       1, data['career_business'])\n",
        "    \n",
        "data['career_science'] = 0\n",
        "for i in 'sci research biolo chemi'.split():\n",
        "    data['career_science'] = np.where(data['career'].str.contains(i),\n",
        "                                      1, data['career_science'])\n",
        "\n",
        "data['career_gov'] = 0\n",
        "for i in 'gov diplo poli'.split():\n",
        "    data['career_gov'] = np.where(data['career'].str.contains(i),\n",
        "                                  1, data['career_gov'])\n"
      ]
    },
    {
      "cell_type": "markdown",
      "metadata": {
        "id": "L32utcvyScsi"
      },
      "source": [
        "And schools. The data is from Columbia, so I thought it deserved its own feature. Other than that, I think it's only the other Ivy League schools that are noteworthy here (we've already used schools to determine where people are from)."
      ]
    },
    {
      "cell_type": "code",
      "execution_count": null,
      "metadata": {
        "id": "FNluUdxGScsi"
      },
      "outputs": [],
      "source": [
        "data['school_columbia'] = 0\n",
        "for i in 'columbia'.split():\n",
        "    data['school_columbia'] = np.where(data['undergra'].str.contains(i),\n",
        "                                       1, data['school_columbia'])\n",
        "\n",
        "# Ivy league and other prestigious schools\n",
        "data['school_ivy'] = 0\n",
        "for i in 'dartmouth cornell princeton penn yale brown harvard stanford mit berkeley oxford'.split():\n",
        "    data['school_ivy'] = np.where(data['undergra'].str.contains(i),\n",
        "                                  1, data['school_ivy'])"
      ]
    },
    {
      "cell_type": "markdown",
      "metadata": {
        "id": "lAb4fFN-Scsj"
      },
      "source": [
        "Time to dummify our remaining data and do some final tidying up."
      ]
    },
    {
      "cell_type": "code",
      "execution_count": null,
      "metadata": {
        "id": "nKWlKVsGScsj"
      },
      "outputs": [],
      "source": []
    },
    {
      "cell_type": "code",
      "execution_count": null,
      "metadata": {
        "colab": {
          "base_uri": "https://localhost:8080/"
        },
        "id": "f0BettsnScsj",
        "outputId": "cdb1b82f-f2e7-47d8-f640-87a36d82dbf5"
      },
      "outputs": [
        {
          "data": {
            "text/plain": [
              "(5761, 822)"
            ]
          },
          "execution_count": 61,
          "metadata": {},
          "output_type": "execute_result"
        }
      ],
      "source": [
        "# Dummify\n",
        "data = pd.get_dummies(data, prefix='dummy')\n",
        "\n",
        "# Some Stackoverflow code to fix duplicate column names\n",
        "cols = pd.Series(data.columns)\n",
        "\n",
        "for dup in cols[cols.duplicated()]:\n",
        "    cols[data.columns.get_loc(dup)] =\\\n",
        "    [dup+'.'+str(d_idx) if d_idx!=0 else dup for d_idx in range(data.columns.get_loc(dup).sum())]\n",
        "\n",
        "data.columns = cols\n",
        "\n",
        "data.shape"
      ]
    },
    {
      "cell_type": "markdown",
      "metadata": {
        "id": "baHJlexEScsk"
      },
      "source": [
        "We have a lot of null values in this dataset. After some experimentation, I found that predicting them using a regressor was the best strategy. The main thing we have to be careful about is not using our target variable to regress these values -- that would be looking into the future and would contaminate our dataset.\n",
        "\n",
        "I chose to use a k-neighbors regressor because it's computationally cheap and there is a lot of data to process."
      ]
    },
    {
      "cell_type": "code",
      "execution_count": null,
      "metadata": {
        "colab": {
          "base_uri": "https://localhost:8080/"
        },
        "id": "6GGTBadnScsk",
        "outputId": "a02a464a-cd7b-444d-c40e-d43b09707886"
      },
      "outputs": [
        {
          "data": {
            "text/plain": [
              "num_in_3    5278\n",
              "numdat_3    5067\n",
              "attr2_3     4271\n",
              "attr7_3     4271\n",
              "sinc7_3     4271\n",
              "intel7_3    4271\n",
              "fun7_3      4271\n",
              "amb7_3      4271\n",
              "shar7_3     4271\n",
              "attr4_3     4271\n",
              "dtype: int64"
            ]
          },
          "execution_count": 62,
          "metadata": {},
          "output_type": "execute_result"
        }
      ],
      "source": [
        "# Just a sample of how much missing data we have.\n",
        "data.isnull().sum().sort_values(ascending=False)[:10]"
      ]
    },
    {
      "cell_type": "code",
      "execution_count": null,
      "metadata": {
        "id": "wvBxjqVbScsl",
        "scrolled": true
      },
      "outputs": [],
      "source": [
        "from sklearn.neighbors import KNeighborsRegressor\n",
        "from sklearn.metrics import r2_score\n",
        "\n",
        "# Get null columns\n",
        "null_cols = data.isnull().sum()\n",
        "null_cols = list(null_cols[null_cols != 0].index)\n",
        "\n",
        "for i in null_cols:\n",
        "    #print(i, 'has', data[i].isnull().sum(), 'missing values')\n",
        "    x = data.fillna(data.mean()).drop(['match', 'id'], axis=1)\n",
        "    y = x.pop(i)\n",
        "    \n",
        "    xtrain, xtest, ytrain, ytest = train_test_split(x, y, test_size=0.2)\n",
        "    reg = KNeighborsRegressor()\n",
        "    reg.fit(xtrain, ytrain)      \n",
        "    pred = reg.predict(xtest)\n",
        "    r2 = r2_score(ytest, pred)\n",
        "    \n",
        "    # If we can reasonably predict these values, do so\n",
        "    if r2 > .20:\n",
        "        #print('regressing', i, 'with an r2 of', round(r2, 3))\n",
        "        data['predicted'] = reg.predict(data.fillna(data.median()).drop([i, 'match', 'id'], axis=1))\n",
        "        data[i] = np.where(data[i].isnull(), data['predicted'], data[i])\n",
        "        del data['predicted']\n",
        "    \n",
        "    # Otherwise, just take the median\n",
        "    else:\n",
        "        #print('averaging', i)\n",
        "        data[i] = data[i].fillna(data[i].median())\n",
        "    #print()"
      ]
    },
    {
      "cell_type": "markdown",
      "metadata": {
        "id": "X05kp4MyScsl"
      },
      "source": [
        "Let's add more features. We're vastly increasing the dimensionality of the data, but we'll try dimensionality reduction techniques later and cross-validate them."
      ]
    },
    {
      "cell_type": "code",
      "execution_count": null,
      "metadata": {
        "id": "MYOvbfZsScsm"
      },
      "outputs": [],
      "source": [
        "def get_partner_data(pid, col):\n",
        "    '''Looks up the person's partner and adds their data\n",
        "    as new features. If the partner ID doesn't exist,\n",
        "    returns a -1.'''\n",
        "    try:\n",
        "        partner = data[data['iid'] == pid].head(1)[col].iloc[0]\n",
        "        if partner:\n",
        "            return partner\n",
        "        else:\n",
        "            return -1\n",
        "    except:\n",
        "        return -1\n",
        "\n",
        "# Income (where income data is available, take the log difference)\n",
        "data['partner_income'] = data['pid'].apply(get_partner_data, col='income')\n",
        "data['income_difference'] = np.where((data.partner_income == -1) |\\\n",
        "                                     (data.income == -1),\n",
        "                                     -1, np.log1p(np.abs(data.income - data.partner_income)))\n",
        "\n",
        "# Age\n",
        "data['age'].fillna(data['age'].median(), inplace=True)\n",
        "data['age_o'].fillna(data['age_o'].median(), inplace=True)\n",
        "data['age_difference'] = data['age'] - data['age_o']"
      ]
    },
    {
      "cell_type": "code",
      "execution_count": null,
      "metadata": {
        "id": "Nsp8-2LsScsm"
      },
      "outputs": [],
      "source": [
        "# This is important: compare the each person's overall desirability to their partner's.\n",
        "\n",
        "data['partner_desirability'] = data['pid'].apply(get_partner_data, col='desirability')\n",
        "\n",
        "data['des_diff'] = data['desirability'] - data['partner_desirability']\n",
        "\n",
        "# Also for Choosiness\n",
        "\n",
        "data['partner_choosiness'] = data['pid'].apply(get_partner_data, col='choosiness')\n",
        "\n",
        "data['choose_diff'] = data['choosiness'] - data['partner_choosiness']"
      ]
    },
    {
      "cell_type": "markdown",
      "metadata": {
        "id": "gwkLkv0hScsn"
      },
      "source": [
        "There was a *lot* of data gathered at these events; probably more than necessary. Not only were participants rating the importance of these qualities in others, but they also:\n",
        "\n",
        "- Rated themselves\n",
        "- Rated how they think *others* might score them\n",
        "- Updated their ratings midway through the speed-dating event\n",
        "\n",
        "I believe the fundamentally important information is how a partner stacked up against someone's expectations. So we'll definitely calculate that. But we'll also do it in **two** ways, because people updated their self-ratings midway through.\n",
        "\n",
        "It's complicated and I don't agree with the study's methodology, but we should make use of all the data we have."
      ]
    },
    {
      "cell_type": "code",
      "execution_count": null,
      "metadata": {
        "id": "YIg3f-R9Scsn"
      },
      "outputs": [],
      "source": [
        "# Attractiveness\n",
        "data['partner_attractiveness'] = data['pid'].apply(get_partner_data, col='attr3_1')\n",
        "data['attr_expectations'] = (10*data['attr1_1']/data['attr1_1'].max()) -\\\n",
        "                                     data['partner_attractiveness']\n",
        "data['partner_attractiveness_2'] = data['pid'].apply(get_partner_data, col='attr5_1')\n",
        "data['attr_expectations_2'] = (10*data['attr1_1']/data['attr1_1'].max()) -\\\n",
        "                                       data['partner_attractiveness_2']\n",
        "\n",
        "# Intelligence\n",
        "data['partner_intelligence'] = data['pid'].apply(get_partner_data, col='intel3_1')\n",
        "data['intel_expectations'] = (10*data['intel1_1']/data['intel1_1'].max()) -\\\n",
        "                                     data['partner_intelligence']\n",
        "data['partner_intelligence_2'] = data['pid'].apply(get_partner_data, col='intel5_1')\n",
        "data['intel_expectations_2'] = (10*data['intel1_1']/data['intel1_1'].max()) -\\\n",
        "                                       data['partner_intelligence_2']\n",
        "\n",
        "# Fun\n",
        "data['partner_fun'] = data['pid'].apply(get_partner_data, col='fun3_1')\n",
        "data['fun_expectations'] = (10*data['fun1_1']/data['fun1_1'].max()) -\\\n",
        "                                     data['partner_fun']\n",
        "data['partner_fun_2'] = data['pid'].apply(get_partner_data, col='fun5_1')\n",
        "data['fun_expectations_2'] = (10*data['fun1_1']/data['fun1_1'].max()) -\\\n",
        "                                       data['partner_fun_2']\n",
        "\n",
        "# Ambitious\n",
        "data['partner_ambition'] = data['pid'].apply(get_partner_data, col='amb3_1')\n",
        "data['amb_expectations'] = (10*data['amb1_1']/data['amb1_1'].max()) -\\\n",
        "                                     data['partner_ambition']\n",
        "data['partner_ambition_2'] = data['pid'].apply(get_partner_data, col='amb5_1')\n",
        "data['amb_expectations_2'] = (10*data['amb1_1']/data['amb1_1'].max()) -\\\n",
        "                                       data['partner_ambition_2']\n",
        "\n",
        "# Sincerity\n",
        "data['partner_sincerity'] = data['pid'].apply(get_partner_data, col='sinc3_1')\n",
        "data['sinc_expectations'] = (10*data['sinc1_1']/data['sinc1_1'].max()) -\\\n",
        "                                     data['partner_sincerity']\n",
        "data['partner_sincerity_2'] = data['pid'].apply(get_partner_data, col='sinc5_1')\n",
        "data['sinc_expectations_2'] = (10*data['sinc1_1']/data['sinc1_1'].max()) -\\\n",
        "                                       data['partner_sincerity_2']"
      ]
    },
    {
      "cell_type": "markdown",
      "metadata": {
        "id": "dxf4nPmYScso"
      },
      "source": [
        "We're going to calculate expectations one last way: by binning traits into \"above average\" and \"below average\" and seeing how each pair stacks up. We'll assign a \"1\" when a partner meets or exceeds someone's expectations, and a \"0\" otherwise.\n",
        "\n",
        "I'm also going to try comparing ambition importance to the partner's socioeconomic status (zip code average income). Maybe this will be more important than simply whether someone *says* they're ambitious."
      ]
    },
    {
      "cell_type": "code",
      "execution_count": null,
      "metadata": {
        "id": "J88mQFshScsp"
      },
      "outputs": [],
      "source": [
        "# Measuring expectations one more way\n",
        "\n",
        "data['attr_above_avg'] = np.where(data['partner_attractiveness'] > data['partner_attractiveness'].mean(),\n",
        "                                  1, 0)\n",
        "data['attr_imp_above_avg']= np.where(data['attr1_1'] > data['attr1_1'].mean(),\n",
        "                                     1, 0)\n",
        "data['attr_match'] = np.where(data['attr_above_avg'] >= data['attr_imp_above_avg'],\n",
        "                             1, 0)\n",
        "\n",
        "data['sinc_above_avg'] = np.where(data['partner_sincerity'] > data['partner_sincerity'].mean(),\n",
        "                                  1, 0)\n",
        "data['sinc_imp_above_avg']= np.where(data['sinc1_1'] > data['sinc1_1'].mean(),\n",
        "                                     1, 0)\n",
        "data['sinc_match'] = np.where(data['sinc_above_avg'] >= data['sinc_imp_above_avg'],\n",
        "                             1, 0)\n",
        "\n",
        "data['int_above_avg'] = np.where(data['partner_intelligence'] > data['partner_intelligence'].mean(),\n",
        "                                  1, 0)\n",
        "data['int_imp_above_avg']= np.where(data['intel1_1'] > data['intel1_1'].mean(),\n",
        "                                     1, 0)\n",
        "data['int_match'] = np.where(data['int_above_avg'] >= data['int_imp_above_avg'],\n",
        "                             1, 0)\n",
        "\n",
        "data['fun_above_avg'] = np.where(data['partner_fun'] > data['partner_fun'].mean(),\n",
        "                                  1, 0)\n",
        "data['fun_imp_above_avg']= np.where(data['fun1_1'] > data['fun1_1'].mean(),\n",
        "                                     1, 0)\n",
        "data['fun_match'] = np.where(data['fun_above_avg'] >= data['fun_imp_above_avg'],\n",
        "                             1, 0)"
      ]
    },
    {
      "cell_type": "code",
      "execution_count": null,
      "metadata": {
        "id": "0PZtT8fWScsp"
      },
      "outputs": [],
      "source": [
        "# Ambition (recall we're doing this one differently)\n",
        "\n",
        "# Temporarily replace missing values with the median\n",
        "data['income_temp'] = np.where(data['income'] == -100, data['income'].median(), data['income'])\n",
        "\n",
        "data['income_above_avg']= np.where(data['income_temp'] > data['income_temp'].median(), 1, 0)\n",
        "data['partner_income_above_avg'] = data['pid'].apply(get_partner_data, col='income_above_avg')\n",
        "\n",
        "data['amb_imp_above_avg'] = np.where(data['amb1_1'] > data['amb1_1'].mean(), 1, 0)\n",
        "\n",
        "data['amb_match'] = np.where(data['partner_income_above_avg'] >= data['amb_imp_above_avg'],\n",
        "                             1, 0)\n",
        "del data['income_temp']"
      ]
    },
    {
      "cell_type": "markdown",
      "metadata": {
        "id": "P_xBxb40Scsp"
      },
      "source": [
        "Now let's add some more information about people's partners. If a participant and their partner both went to the same school, are from the same place, or have similar career ambitions, we'll assign a \"1\" for that feature, otherwise we'll assign a \"0.\""
      ]
    },
    {
      "cell_type": "code",
      "execution_count": null,
      "metadata": {
        "id": "sWiDDcimScsq"
      },
      "outputs": [],
      "source": [
        "cols = data.columns\n",
        "\n",
        "for i in cols:\n",
        "    if 'from_' in i:\n",
        "        data['partner_loc'] = data['pid'].apply(get_partner_data, col=i)\n",
        "        data['both_' + i] = np.where((data[i] == 1) & (data['partner_loc'] == 1), 1, 0)\n",
        "        del data['partner_loc']\n",
        "        \n",
        "for i in cols:\n",
        "    if 'school_' in i:\n",
        "        data['partner_edu'] = data['pid'].apply(get_partner_data, col=i)\n",
        "        data['both_' + i] = np.where((data[i] == 1) & (data['partner_edu'] == 1), 1, 0)\n",
        "        del data['partner_edu']\n",
        "        \n",
        "for i in cols:\n",
        "    if 'career_' in i:\n",
        "        data['partner_car'] = data['pid'].apply(get_partner_data, col=i)\n",
        "        data['both_' + i] = np.where((data[i] == 1) & (data['partner_car'] == 1), 1, 0)\n",
        "        del data['partner_car']"
      ]
    },
    {
      "cell_type": "markdown",
      "metadata": {
        "id": "wyNOdIsDScsq"
      },
      "source": [
        "And now do something similar for hobbies."
      ]
    },
    {
      "cell_type": "code",
      "execution_count": null,
      "metadata": {
        "id": "oUc3bVrWScsr"
      },
      "outputs": [],
      "source": [
        "hobbies = ['go_out', 'sports', 'tvsports', 'exercise', 'dining', 'museums',\n",
        " 'art', 'hiking', 'gaming', 'clubbing', 'reading', 'tv', 'theater',\n",
        " 'movies', 'concerts', 'music', 'shopping', 'yoga']\n",
        "\n",
        "for i in hobbies:\n",
        "    data['partner_' + i] = data['pid'].apply(get_partner_data, col=i)\n",
        "    data[i + '_in_common'] = np.where((data[i] > 7) & (data['partner_' + i] > 7), 1, 0)\n",
        "    del data['partner_' + i]"
      ]
    },
    {
      "cell_type": "markdown",
      "metadata": {
        "id": "k5K5RYDiScsr"
      },
      "source": [
        "Dimensionality is increasing quickly. Let's remove dummies where only a single person has a \"1.\" My testing showed that this improved the model's performance."
      ]
    },
    {
      "cell_type": "code",
      "execution_count": null,
      "metadata": {
        "id": "m2HF45FKScsr"
      },
      "outputs": [],
      "source": [
        "counts =\\\n",
        "data.groupby('iid').mean().sum(axis=0).sort_values()\n",
        "\n",
        "deleted = []\n",
        "\n",
        "for i in counts[counts < 2].index:\n",
        "    if 'dummy_' in i:\n",
        "        deleted.append(i)\n",
        "        del data[i]\n",
        "\n",
        "# Fix anything that got counted twice\n",
        "for i in data.columns:\n",
        "    if 'dummy_' in i:\n",
        "        data[i] = np.where(data[i] >= 1, 1, 0)"
      ]
    },
    {
      "cell_type": "code",
      "execution_count": null,
      "metadata": {
        "colab": {
          "base_uri": "https://localhost:8080/"
        },
        "id": "mfo6wBEYScss",
        "outputId": "5112562b-1d36-4430-b09e-9ed990cc612f"
      },
      "outputs": [
        {
          "name": "stdout",
          "output_type": "stream",
          "text": [
            "Deleted: 489\n",
            "Data shape: (5761, 412)\n"
          ]
        }
      ],
      "source": [
        "# Nearly 500 features removed. Not bad!\n",
        "print('Deleted:', len(deleted))\n",
        "print('Data shape:', data.shape)"
      ]
    },
    {
      "cell_type": "markdown",
      "metadata": {
        "id": "mMOt5xf-Scss"
      },
      "source": [
        "After several dozen hours of grid searching and trying to improve my model's performance, I finally went all-out and just appended *all* the partner data. My intuition that feature selection and machine learning would figure out what to do with this additional data was correct.\n",
        "\n",
        "I would generally be more selective in situations like this, but I cross-validated and this strategy worked."
      ]
    },
    {
      "cell_type": "code",
      "execution_count": null,
      "metadata": {
        "id": "Qtln9h9gScss"
      },
      "outputs": [],
      "source": [
        "cols = data.drop(['match', 'pid'], axis=1).columns\n",
        "for i in cols:\n",
        "    try:\n",
        "        data['pid'].apply(get_partner_data, col=i)\n",
        "    except:\n",
        "        continue"
      ]
    },
    {
      "cell_type": "markdown",
      "metadata": {
        "id": "qbPRif6RScst"
      },
      "source": [
        "One last feature to engineer: processing zip code data.\n",
        "\n",
        "This was an interesting case. Originally, I planned to compare zip codes to see how far apart people grew up. It would be something along the lines of:\n",
        "\n",
        "- 5 digits in common: Same neighborhood\n",
        "- 4 digits in common: Same city\n",
        "- 3 digits in common: Same state\n",
        "\n",
        "and so on. But what I found was that comparing zip codes like this actually *reduced* our model's accuracy, while simply breaking down zip code components and adding the partner's data improved it.\n",
        "\n",
        "So the code below might seem odd, but it leads to a marginal improvement in performance."
      ]
    },
    {
      "cell_type": "code",
      "execution_count": null,
      "metadata": {
        "id": "dUVfILcHScst"
      },
      "outputs": [],
      "source": [
        "data['zipcode'] = data['zipcode'].astype(str)\n",
        "data['zip_5'] = (data['zipcode'].str[:5]).astype(float)\n",
        "data['zip_4'] = (data['zipcode'].str[:4]).astype(float)\n",
        "data['zip_3'] = (data['zipcode'].str[:3]).astype(float)\n",
        "data['zip_2'] = (data['zipcode'].str[:2]).astype(float)\n",
        "del data['zipcode']\n",
        "\n",
        "data['partner_zip'] = data['pid'].apply(get_partner_data, col='zipcode')\n",
        "data['partner_zip'] = data['partner_zip'].astype(str)\n",
        "data['partner_zip_5'] = (data['partner_zip'].str[:5]).astype(float)\n",
        "data['partner_zip_4'] = (data['partner_zip'].str[:4]).astype(float)\n",
        "data['partner_zip_3'] = (data['partner_zip'].str[:3]).astype(float)\n",
        "data['partner_zip_2'] = (data['partner_zip'].str[:2]).astype(float)\n",
        "del data['partner_zip']"
      ]
    },
    {
      "cell_type": "markdown",
      "metadata": {
        "id": "FvmXPDhAScsu"
      },
      "source": [
        "One last thought I had was to check the correlations between columns and make sure no features were too similar to one another. I did this with the for-loop below, but ultimately decided not to remove any features."
      ]
    },
    {
      "cell_type": "code",
      "execution_count": null,
      "metadata": {
        "colab": {
          "base_uri": "https://localhost:8080/"
        },
        "id": "oFLFsOeqScsu",
        "outputId": "d3d2f111-2d75-4765-81f8-ee27216ee16e"
      },
      "outputs": [
        {
          "name": "stdout",
          "output_type": "stream",
          "text": [
            "idg id\n",
            "wave iid\n",
            "wave pid\n",
            "pid iid\n",
            "school_columbia both_school_columbia\n",
            "partner_income_above_avg amb_match\n",
            "both_school_ivy both_school_columbia\n",
            "zip_4 zip_3\n",
            "zip_4 zip_2\n",
            "zip_3 zip_2\n"
          ]
        }
      ],
      "source": [
        "cols = data.columns\n",
        "\n",
        "for i in cols:\n",
        "    for j in cols:\n",
        "        if i > j:\n",
        "            corr = np.corrcoef(data[i], data[j])[0,1]\n",
        "            if corr > .90:\n",
        "                print(i, j)"
      ]
    },
    {
      "cell_type": "code",
      "execution_count": null,
      "metadata": {
        "id": "6P1qguoSScsv"
      },
      "outputs": [],
      "source": [
        "print('Data shape:', data.shape)"
      ]
    },
    {
      "cell_type": "code",
      "execution_count": null,
      "metadata": {
        "collapsed": true,
        "id": "J8Qk1MkGScsv"
      },
      "outputs": [],
      "source": [
        "# Checkpoint\n",
        "data.to_csv('Speed Dating Data Processed.csv')"
      ]
    },
    {
      "cell_type": "markdown",
      "metadata": {
        "id": "3kh2_KbmScsw"
      },
      "source": [
        "# Preliminary Visualizations"
      ]
    },
    {
      "cell_type": "code",
      "execution_count": null,
      "metadata": {
        "id": "7HUoremvScsw"
      },
      "outputs": [],
      "source": [
        "data = pd.read_csv('Speed Dating Data Processed.csv', encoding='latin-1')"
      ]
    },
    {
      "cell_type": "code",
      "execution_count": null,
      "metadata": {
        "id": "vmkPRcD2Scsw"
      },
      "outputs": [],
      "source": [
        "sns.lmplot(\"attr1_1\", \"amb1_1\",\n",
        "           data=data, hue='gender', fit_reg=False,\n",
        "           x_jitter=5, y_jitter=5,\n",
        "           palette=['magenta', 'blue'],\n",
        "           scatter_kws={'alpha':.05})\n",
        "\n",
        "plt.title('Importance of attractiveness vs. ambition in men and women');"
      ]
    },
    {
      "cell_type": "code",
      "execution_count": null,
      "metadata": {
        "colab": {
          "base_uri": "https://localhost:8080/",
          "height": 295
        },
        "id": "vwnutE4LScsx",
        "outputId": "5c3ca315-6c69-4500-ff7c-a119a5e93d2f"
      },
      "outputs": [
        {
          "output_type": "display_data",
          "data": {
            "text/plain": [
              "<Figure size 432x288 with 1 Axes>"
            ],
            "image/png": "[encoded data removed]"
          },
          "metadata": {
            "needs_background": "light"
          }
        }
      ],
      "source": [
        "sns.kdeplot(data[data.gender == 1].age,\n",
        "            bw=1.5, shade=True, color='blue', label='men')\n",
        "sns.kdeplot(data[data.gender == 0].age,\n",
        "            bw=1.5, shade=True, color='magenta', label='women')\n",
        "plt.title('Age of daters')\n",
        "plt.xlabel('Age');"
      ]
    },
    {
      "cell_type": "code",
      "execution_count": null,
      "metadata": {
        "colab": {
          "base_uri": "https://localhost:8080/",
          "height": 312
        },
        "id": "IvYt-ugfScsy",
        "outputId": "14313ff4-8f88-41cc-fe0b-f49cc3d3c190"
      },
      "outputs": [
        {
          "output_type": "execute_result",
          "data": {
            "text/plain": [
              "Text(0.5, 0, 'Zip code median income')"
            ]
          },
          "metadata": {},
          "execution_count": 8
        },
        {
          "output_type": "display_data",
          "data": {
            "text/plain": [
              "<Figure size 432x288 with 1 Axes>"
            ],
            "image/png": "[encoded data removed]"
          },
          "metadata": {
            "needs_background": "light"
          }
        }
      ],
      "source": [
        "sns.kdeplot(data[(data.gender == 1) & (data.income > 0)].income,\n",
        "            bw=15000, shade=True, color='blue', label='men')\n",
        "sns.kdeplot(data[(data.gender == 0) & (data.income > 0)].income,\n",
        "            bw=15000, shade=True, color='magenta', label='women')\n",
        "plt.title('Estimated income of daters')\n",
        "\n",
        "plt.xlim(0,150000)\n",
        "plt.xlabel('Zip code median income')"
      ]
    },
    {
      "cell_type": "markdown",
      "metadata": {
        "id": "hK8iKRJ8Scsy"
      },
      "source": [
        "# Trying Different Classifiers\n",
        "\n",
        "I did some experimentation with adjusting the hyperparameters of each model below. Each score is fairly representative of the algorithm's best performance."
      ]
    },
    {
      "cell_type": "code",
      "execution_count": null,
      "metadata": {
        "id": "gTzmOcrL-xya"
      },
      "outputs": [],
      "source": [
        "def polynomial_kernel(X, Y, degree=3, gamma=1, coef0=1):\n",
        "    \"\"\"\n",
        "    Polynomial kernel implementation for SVM using NumPy.\n",
        "    \n",
        "    Args:\n",
        "        X (ndarray): Input data with shape (n_samples_X, n_features).\n",
        "        Y (ndarray): Input data with shape (n_samples_Y, n_features).\n",
        "        degree (int): Degree of the polynomial kernel function.\n",
        "        gamma (float): Kernel coefficient for 'rbf', 'poly' and 'sigmoid'.\n",
        "        coef0 (float): Independent term in kernel function. It is only significant\n",
        "            in 'poly' and 'sigmoid'.\n",
        "        \n",
        "    Returns:\n",
        "        K (ndarray): Computed kernel matrix with shape (n_samples_X, n_samples_Y).\n",
        "    \"\"\"\n",
        "    K = np.dot(X, Y.T)\n",
        "    K = (gamma * K + coef0) ** degree\n",
        "    \n",
        "    return K"
      ]
    },
    {
      "cell_type": "code",
      "execution_count": null,
      "metadata": {
        "id": "1xruwdtNvH00"
      },
      "outputs": [],
      "source": [
        "\n",
        "def experiment_model(X_train,y_train,X_test):\n",
        "    result_list = []\n",
        "    # Define the parameter grid for gamma and C\n",
        "    param_grid = {'gamma': [0.01,0.1, 1, 10], 'C': [0.01,0.1, 1, 10,100]}\n",
        "\n",
        "    # Initialize the SVM with a rbf kernel\n",
        "    svm_model = SVC(kernel='rbf')\n",
        "    clf_one = GridSearchCV(estimator=svm_model, param_grid=param_grid,cv=4, scoring='f1')\n",
        "    clf_one.fit(X_train, y_train)\n",
        "    Predicted_labels= clf_one.predict(X_test)\n",
        "    result_list.append((Predicted_labels,clf_one))\n",
        "    print(f\"SVM , Kernal = RBF , Best parameters: {clf_one.best_params_}\")\n",
        "\n",
        "    # Define the parameter grid for gamma and C\n",
        "    # param_grid = {'C': [0.1, 1, 10]}\n",
        "    # svm_model = SVC(kernel='linear')\n",
        "    # clf_two = GridSearchCV(estimator=svm_model, param_grid=param_grid)\n",
        "    # clf_two.fit(X_train, y_train)\n",
        "    # Predicted_labels= clf_two.predict(X_test)\n",
        "    # result_list.append((Predicted_labels,clf_two))\n",
        "    # print(f\"SVM , Kernel = Linear ,Best parameters: {clf_two.best_params_}\")\n",
        "\n",
        "\n",
        "    #Initialize the SVM with a polynomial kernel\n",
        "    # param_grid = {\"degree\": [2, 3, 4],\"C\": [ 0.1, 1, 10]}\n",
        "    # svm_model = SVC(kernel='poly')\n",
        "    # clf_five = GridSearchCV(estimator=svm_model, param_grid=param_grid,cv=4, scoring='f1')\n",
        "    # clf_five.fit(X_train, y_train)\n",
        "    # Predicted_labels= clf_five.predict(X_test)\n",
        "    # result_list.append((Predicted_labels,clf_five))\n",
        "    # print(f\"SVM , Kernel = Poly , Best parameters: {clf_five.best_params_}\")\n",
        "\n",
        "    \n",
        "    param_grid = {'gamma': [0.01,0.1, 1, 10], 'C': [0.01,0.1, 1, 10,100]}\n",
        "\n",
        "    # Initialize the SVM with a Sigmoid kernel\n",
        "    svm_model = SVC(kernel='sigmoid')\n",
        "    clf_six = GridSearchCV(estimator=svm_model, param_grid=param_grid,cv=4, scoring='f1')\n",
        "    clf_six.fit(X_train, y_train)\n",
        "    Predicted_labels= clf_six.predict(X_test)\n",
        "    result_list.append((Predicted_labels,clf_six))\n",
        "    print(f\"SVM , Kernel = Sigmoid , Best parameters: {clf_six.best_params_}\")\n",
        "\n",
        "\n",
        "    # print(\"SVM , Kernel = Manual, \")\n",
        "\n",
        "    # Create an SVM model with Polynomial kernel\n",
        "    # clf_seven = SVC(kernel=polynomial_kernel)\n",
        "\n",
        "    # Fit the model to your data\n",
        "    # clf_seven.fit(X_train, y_train)\n",
        "    # Predicted_labels= clf_seven.predict(X_test)\n",
        "    # result_list.append((Predicted_labels,clf_seven))\n",
        "\n",
        "\n",
        "\n",
        "    return result_list"
      ]
    },
    {
      "cell_type": "markdown",
      "metadata": {
        "id": "zWsy3PNr6suB"
      },
      "source": [
        "I did some experimentation with adjusting the hyperparameters of each model below. Each score is fairly representative of the algorithm's best performance."
      ]
    },
    {
      "cell_type": "code",
      "execution_count": null,
      "metadata": {
        "colab": {
          "base_uri": "https://localhost:8080/"
        },
        "id": "vM79bnxb6NFv",
        "outputId": "570e30c1-de02-41c7-df99-6649088b4365"
      },
      "outputs": [
        {
          "output_type": "execute_result",
          "data": {
            "text/plain": [
              "(4608, 418)"
            ]
          },
          "metadata": {},
          "execution_count": 6
        }
      ],
      "source": [
        "\n",
        "\n",
        "from sklearn.model_selection import train_test_split, GridSearchCV\n",
        "\n",
        "x = data.drop('match', axis=1)\n",
        "y = data['match']\n",
        "\n",
        "# Fixing a csv import bug\n",
        "for i in x.columns:\n",
        "    if 'Unnamed' in i:\n",
        "        del x[i]\n",
        "\n",
        "xtrain, xtest, ytrain, ytest = train_test_split(x, y, test_size=.2)\n",
        "\n",
        "xtrain.shape\n",
        "\n"
      ]
    },
    {
      "cell_type": "code",
      "execution_count": null,
      "metadata": {
        "colab": {
          "base_uri": "https://localhost:8080/"
        },
        "id": "wpIThAUq67Wp",
        "outputId": "819d501c-89b3-4cba-c34d-1795fc0e2aa2"
      },
      "outputs": [
        {
          "output_type": "stream",
          "name": "stdout",
          "text": [
            "SVM , Kernal = RBF , Best parameters: {'C': 0.01, 'gamma': 0.01}\n",
            "SVM , Kernel = Sigmoid , Best parameters: {'C': 1, 'gamma': 0.01}\n"
          ]
        }
      ],
      "source": [
        "res_list = experiment_model(xtrain,ytrain,xtest)"
      ]
    },
    {
      "cell_type": "code",
      "execution_count": null,
      "metadata": {
        "id": "3fPwxXYZ7pgP"
      },
      "outputs": [],
      "source": [
        "def show_metric(y_test,Predicted_labels):\n",
        "  \n",
        "    confu = confusion_matrix(y_test,Predicted_labels,labels=None)\n",
        "    disp = ConfusionMatrixDisplay(confusion_matrix=confu,display_labels=[\"0\",\"1\"])\n",
        "    disp.plot()\n",
        "    ACC = accuracy_score(y_test,Predicted_labels)\n",
        "    Rec = recall_score(y_test,Predicted_labels)\n",
        "    Precision = precision_score(y_test,Predicted_labels)\n",
        "    f1score = f1_score(y_test,Predicted_labels)\n",
        "    print(\"ACC is :\",ACC ,\"\\nRec is :\",Rec,\"\\nPersision is : \",Precision,\"\\nF1 Score is :\",f1score)"
      ]
    },
    {
      "cell_type": "code",
      "execution_count": null,
      "metadata": {
        "colab": {
          "base_uri": "https://localhost:8080/",
          "height": 348
        },
        "id": "Gejr_65642Yy",
        "outputId": "0f58d6a3-b947-4b15-d8f3-96650b3e6a74"
      },
      "outputs": [
        {
          "output_type": "stream",
          "name": "stdout",
          "text": [
            "ACC is : 0.8326105810928014 \n",
            "Rec is : 0.0 \n",
            "Persision is :  0.0 \n",
            "F1 Score is : 0.0\n"
          ]
        },
        {
          "output_type": "display_data",
          "data": {
            "text/plain": [
              "<Figure size 432x288 with 2 Axes>"
            ],
            "image/png": "[encoded data removed]"
          },
          "metadata": {
            "needs_background": "light"
          }
        }
      ],
      "source": [
        "show_metric(ytest,res_list[0][0])"
      ]
    },
    {
      "cell_type": "code",
      "execution_count": null,
      "metadata": {
        "colab": {
          "base_uri": "https://localhost:8080/",
          "height": 351
        },
        "id": "nQMWx11Q8bpa",
        "outputId": "440b8e77-cbe9-4caf-ba62-f2d70f316f8f"
      },
      "outputs": [
        {
          "output_type": "stream",
          "name": "stdout",
          "text": [
            "ACC is : 0.7285342584562012 \n",
            "Rec is : 0.18134715025906736 \n",
            "Persision is :  0.18421052631578946 \n",
            "F1 Score is : 0.18276762402088773\n"
          ]
        },
        {
          "output_type": "display_data",
          "data": {
            "text/plain": [
              "<Figure size 432x288 with 2 Axes>"
            ],
            "image/png": "[encoded data removed]"
          },
          "metadata": {
            "needs_background": "light"
          }
        }
      ],
      "source": [
        "show_metric(ytest,res_list[1][0])"
      ]
    },
    {
      "cell_type": "code",
      "source": [
        "from sklearn.decomposition import PCA\n",
        "\n",
        "pca100 = PCA(n_components=100)\n",
        "trainx_pca100 = pca100.fit_transform(xtrain)\n",
        "testx_pac100 = pca100.transform(xtest)\n",
        "\n",
        "pca30 = PCA(n_components=30)\n",
        "trainx_pca30 = pca30.fit_transform(xtrain)\n",
        "testx_pac30 = pca30.transform(xtest)\n",
        "\n"
      ],
      "metadata": {
        "id": "K2VW5zGhseYQ"
      },
      "execution_count": null,
      "outputs": []
    },
    {
      "cell_type": "code",
      "source": [
        "trainx_pca100.shape"
      ],
      "metadata": {
        "colab": {
          "base_uri": "https://localhost:8080/"
        },
        "id": "8NOTyrUHt23z",
        "outputId": "65ddea02-1915-47a3-e813-ec6d4c2d54ca"
      },
      "execution_count": null,
      "outputs": [
        {
          "output_type": "execute_result",
          "data": {
            "text/plain": [
              "(4608, 100)"
            ]
          },
          "metadata": {},
          "execution_count": 17
        }
      ]
    },
    {
      "cell_type": "code",
      "source": [
        "res_list_100 = experiment_model(trainx_pca100,ytrain,testx_pac100)"
      ],
      "metadata": {
        "colab": {
          "base_uri": "https://localhost:8080/"
        },
        "id": "axBcbcokt_cG",
        "outputId": "27513ab1-ddce-455e-e915-69d502d8a461"
      },
      "execution_count": null,
      "outputs": [
        {
          "output_type": "stream",
          "name": "stdout",
          "text": [
            "SVM , Kernal = RBF , Best parameters: {'C': 0.01, 'gamma': 0.01}\n",
            "SVM , Kernel = Sigmoid , Best parameters: {'C': 10, 'gamma': 0.01}\n"
          ]
        }
      ]
    },
    {
      "cell_type": "code",
      "source": [
        "show_metric(ytest,res_list_100[0][0])"
      ],
      "metadata": {
        "colab": {
          "base_uri": "https://localhost:8080/",
          "height": 348
        },
        "id": "05ExO7-mvNXC",
        "outputId": "a6ebddf7-e9b8-407c-92bd-11ff64fda790"
      },
      "execution_count": null,
      "outputs": [
        {
          "output_type": "stream",
          "name": "stdout",
          "text": [
            "ACC is : 0.8326105810928014 \n",
            "Rec is : 0.0 \n",
            "Persision is :  0.0 \n",
            "F1 Score is : 0.0\n"
          ]
        },
        {
          "output_type": "display_data",
          "data": {
            "text/plain": [
              "<Figure size 432x288 with 2 Axes>"
            ],
            "image/png": "[encoded data removed]"
          },
          "metadata": {
            "needs_background": "light"
          }
        }
      ]
    },
    {
      "cell_type": "code",
      "source": [
        "show_metric(ytest,res_list_100[1][0])"
      ],
      "metadata": {
        "colab": {
          "base_uri": "https://localhost:8080/",
          "height": 352
        },
        "id": "0tEjwbymvXge",
        "outputId": "ac616538-6187-4164-f37c-bc46d5fc6ab4"
      },
      "execution_count": null,
      "outputs": [
        {
          "output_type": "stream",
          "name": "stdout",
          "text": [
            "ACC is : 0.7241977450130095 \n",
            "Rec is : 0.17098445595854922 \n",
            "Persision is :  0.17277486910994763 \n",
            "F1 Score is : 0.17187500000000003\n"
          ]
        },
        {
          "output_type": "display_data",
          "data": {
            "text/plain": [
              "<Figure size 432x288 with 2 Axes>"
            ],
            "image/png": "[encoded data removed]"
          },
          "metadata": {
            "needs_background": "light"
          }
        }
      ]
    },
    {
      "cell_type": "code",
      "source": [
        "res_list_30 = experiment_model(trainx_pca30,ytrain,testx_pac30)"
      ],
      "metadata": {
        "colab": {
          "base_uri": "https://localhost:8080/"
        },
        "id": "LqSuDSu2uG0D",
        "outputId": "f5a8ede0-4df0-41dc-8524-8939b9d5e9a6"
      },
      "execution_count": null,
      "outputs": [
        {
          "output_type": "stream",
          "name": "stdout",
          "text": [
            "SVM , Kernal = RBF , Best parameters: {'C': 10, 'gamma': 0.01}\n",
            "SVM , Kernel = Sigmoid , Best parameters: {'C': 10, 'gamma': 0.01}\n"
          ]
        }
      ]
    },
    {
      "cell_type": "code",
      "source": [
        "show_metric(ytest,res_list_30[0][0])"
      ],
      "metadata": {
        "colab": {
          "base_uri": "https://localhost:8080/",
          "height": 348
        },
        "id": "2IO6BllpvaAV",
        "outputId": "a90fe1b0-4c26-438a-f0d1-473fb22003db"
      },
      "execution_count": null,
      "outputs": [
        {
          "output_type": "stream",
          "name": "stdout",
          "text": [
            "ACC is : 0.8282740676496098 \n",
            "Rec is : 0.02072538860103627 \n",
            "Persision is :  0.3076923076923077 \n",
            "F1 Score is : 0.038834951456310676\n"
          ]
        },
        {
          "output_type": "display_data",
          "data": {
            "text/plain": [
              "<Figure size 432x288 with 2 Axes>"
            ],
            "image/png": "[encoded data removed]"
          },
          "metadata": {
            "needs_background": "light"
          }
        }
      ]
    },
    {
      "cell_type": "code",
      "source": [
        "show_metric(ytest,res_list_30[1][0])"
      ],
      "metadata": {
        "colab": {
          "base_uri": "https://localhost:8080/",
          "height": 352
        },
        "id": "gy7aCyBGve6a",
        "outputId": "75f39651-a560-4845-d8f7-bb2e0c280a85"
      },
      "execution_count": null,
      "outputs": [
        {
          "output_type": "stream",
          "name": "stdout",
          "text": [
            "ACC is : 0.7241977450130095 \n",
            "Rec is : 0.17098445595854922 \n",
            "Persision is :  0.17277486910994763 \n",
            "F1 Score is : 0.17187500000000003\n"
          ]
        },
        {
          "output_type": "display_data",
          "data": {
            "text/plain": [
              "<Figure size 432x288 with 2 Axes>"
            ],
            "image/png": "[encoded data removed]"
          },
          "metadata": {
            "needs_background": "light"
          }
        }
      ]
    },
    {
      "cell_type": "markdown",
      "source": [
        "**LLE**\n",
        "\n",
        "***LLE (Locally Linear Embedding):*** This is another nonlinear dimensionality reduction technique that preserves the local structure of the data."
      ],
      "metadata": {
        "id": "J8DHXLajknk6"
      }
    },
    {
      "cell_type": "code",
      "source": [
        "from sklearn.manifold import LocallyLinearEmbedding"
      ],
      "metadata": {
        "id": "eGWtQcPumKqX"
      },
      "execution_count": null,
      "outputs": []
    },
    {
      "cell_type": "code",
      "source": [
        "embedding300 = LocallyLinearEmbedding(n_components=300)\n",
        "xtrain_embedding300 = embedding300.fit_transform(xtrain)\n",
        "xtest_embedding300= embedding300.transform(xtest)\n",
        "\n"
      ],
      "metadata": {
        "id": "wBD41xaRkjEb"
      },
      "execution_count": null,
      "outputs": []
    },
    {
      "cell_type": "code",
      "source": [
        "res_list_embedding300 = experiment_model(xtrain_embedding300,ytrain,xtest_embedding300)"
      ],
      "metadata": {
        "colab": {
          "base_uri": "https://localhost:8080/"
        },
        "id": "txARIMvYlYKF",
        "outputId": "405f7f4e-7248-4993-cfa2-a2623fdc0258"
      },
      "execution_count": null,
      "outputs": [
        {
          "output_type": "stream",
          "name": "stdout",
          "text": [
            "SVM , Kernal = RBF , Best parameters: {'C': 100, 'gamma': 10}\n",
            "SVM , Kernel = Sigmoid , Best parameters: {'C': 100, 'gamma': 10}\n"
          ]
        }
      ]
    },
    {
      "cell_type": "code",
      "source": [
        "show_metric(ytest,res_list_embedding300[0][0])"
      ],
      "metadata": {
        "colab": {
          "base_uri": "https://localhost:8080/",
          "height": 348
        },
        "id": "p8F_tz6KlHal",
        "outputId": "69aeaa70-a4d9-44ae-8574-c571755a4385"
      },
      "execution_count": null,
      "outputs": [
        {
          "output_type": "stream",
          "name": "stdout",
          "text": [
            "ACC is : 0.8169991326973114 \n",
            "Rec is : 0.029556650246305417 \n",
            "Persision is :  0.3 \n",
            "F1 Score is : 0.0538116591928251\n"
          ]
        },
        {
          "output_type": "display_data",
          "data": {
            "text/plain": [
              "<Figure size 432x288 with 2 Axes>"
            ],
            "image/png": "[encoded data removed]"
          },
          "metadata": {
            "needs_background": "light"
          }
        }
      ]
    },
    {
      "cell_type": "code",
      "source": [
        "show_metric(ytest,res_list_embedding300[1][0])"
      ],
      "metadata": {
        "colab": {
          "base_uri": "https://localhost:8080/",
          "height": 351
        },
        "id": "I4UT7cBjl6qi",
        "outputId": "dc251e4d-a69e-4de5-c000-720d53767388"
      },
      "execution_count": null,
      "outputs": [
        {
          "output_type": "stream",
          "name": "stdout",
          "text": [
            "ACC is : 0.8013876843018214 \n",
            "Rec is : 0.08374384236453201 \n",
            "Persision is :  0.2833333333333333 \n",
            "F1 Score is : 0.12927756653992395\n"
          ]
        },
        {
          "output_type": "display_data",
          "data": {
            "text/plain": [
              "<Figure size 432x288 with 2 Axes>"
            ],
            "image/png": "[encoded data removed]"
          },
          "metadata": {
            "needs_background": "light"
          }
        }
      ]
    },
    {
      "cell_type": "code",
      "source": [
        "embedding200 = LocallyLinearEmbedding(n_components=200)\n",
        "xtrain_embedding200 = embedding200.fit_transform(xtrain)\n",
        "xtest_embedding200= embedding200.transform(xtest)\n"
      ],
      "metadata": {
        "id": "diWORKmgl-UM"
      },
      "execution_count": null,
      "outputs": []
    },
    {
      "cell_type": "code",
      "source": [
        "res_list_embedding200 = experiment_model(xtrain_embedding200,ytrain,xtest_embedding200)"
      ],
      "metadata": {
        "colab": {
          "base_uri": "https://localhost:8080/"
        },
        "id": "Y-j5ZRI6mZgE",
        "outputId": "4a9dc130-e616-4bb1-d535-900015aae88e"
      },
      "execution_count": null,
      "outputs": [
        {
          "output_type": "stream",
          "name": "stdout",
          "text": [
            "SVM , Kernal = RBF , Best parameters: {'C': 100, 'gamma': 1}\n",
            "SVM , Kernel = Sigmoid , Best parameters: {'C': 100, 'gamma': 10}\n"
          ]
        }
      ]
    },
    {
      "cell_type": "code",
      "source": [
        "show_metric(ytest,res_list_embedding200[0][0])"
      ],
      "metadata": {
        "colab": {
          "base_uri": "https://localhost:8080/",
          "height": 348
        },
        "id": "aDGDBXOuml3L",
        "outputId": "aa707d9e-b87e-4b52-f724-4369d8549c47"
      },
      "execution_count": null,
      "outputs": [
        {
          "output_type": "stream",
          "name": "stdout",
          "text": [
            "ACC is : 0.8196010407632264 \n",
            "Rec is : 0.024630541871921183 \n",
            "Persision is :  0.3333333333333333 \n",
            "F1 Score is : 0.045871559633027525\n"
          ]
        },
        {
          "output_type": "display_data",
          "data": {
            "text/plain": [
              "<Figure size 432x288 with 2 Axes>"
            ],
            "image/png": "[encoded data removed]"
          },
          "metadata": {
            "needs_background": "light"
          }
        }
      ]
    },
    {
      "cell_type": "code",
      "source": [
        "show_metric(ytest,res_list_embedding200[1][0])"
      ],
      "metadata": {
        "colab": {
          "base_uri": "https://localhost:8080/",
          "height": 352
        },
        "id": "OM_XM78HmqsY",
        "outputId": "1f754d01-a759-453c-e9e1-d2847c349f15"
      },
      "execution_count": null,
      "outputs": [
        {
          "output_type": "stream",
          "name": "stdout",
          "text": [
            "ACC is : 0.7779705117085863 \n",
            "Rec is : 0.061452513966480445 \n",
            "Persision is :  0.1111111111111111 \n",
            "F1 Score is : 0.07913669064748202\n"
          ]
        },
        {
          "output_type": "display_data",
          "data": {
            "text/plain": [
              "<Figure size 432x288 with 2 Axes>"
            ],
            "image/png": "[encoded data removed]"
          },
          "metadata": {
            "needs_background": "light"
          }
        }
      ]
    },
    {
      "cell_type": "code",
      "source": [
        "embedding30 = LocallyLinearEmbedding(n_components=30)\n",
        "xtrain_embedding30 = embedding30.fit_transform(xtrain)\n",
        "xtest_embedding30= embedding30.transform(xtest)\n"
      ],
      "metadata": {
        "id": "k_rVJroMnTyF"
      },
      "execution_count": null,
      "outputs": []
    },
    {
      "cell_type": "code",
      "source": [
        "res_list_embedding30 = experiment_model(xtrain_embedding30,ytrain,xtest_embedding30)"
      ],
      "metadata": {
        "id": "wZtvZYMsoeO0",
        "colab": {
          "base_uri": "https://localhost:8080/"
        },
        "outputId": "e8dd0297-404d-4ddd-ed23-491300032766"
      },
      "execution_count": null,
      "outputs": [
        {
          "output_type": "stream",
          "name": "stdout",
          "text": [
            "SVM , Kernal = RBF , Best parameters: {'C': 100, 'gamma': 10}\n",
            "SVM , Kernel = Sigmoid , Best parameters: {'C': 100, 'gamma': 10}\n"
          ]
        }
      ]
    },
    {
      "cell_type": "code",
      "source": [
        "show_metric(ytest,res_list_embedding30[0][0])"
      ],
      "metadata": {
        "id": "uDIIRnBEoIWF",
        "colab": {
          "base_uri": "https://localhost:8080/",
          "height": 348
        },
        "outputId": "b64a94c3-fd5b-42be-8f66-22c31ccef4d9"
      },
      "execution_count": null,
      "outputs": [
        {
          "output_type": "stream",
          "name": "stdout",
          "text": [
            "ACC is : 0.8256721595836947 \n",
            "Rec is : 0.025252525252525252 \n",
            "Persision is :  0.38461538461538464 \n",
            "F1 Score is : 0.04739336492890995\n"
          ]
        },
        {
          "output_type": "display_data",
          "data": {
            "text/plain": [
              "<Figure size 432x288 with 2 Axes>"
            ],
            "image/png": "[encoded data removed]"
          },
          "metadata": {
            "needs_background": "light"
          }
        }
      ]
    },
    {
      "cell_type": "code",
      "source": [
        "show_metric(ytest,res_list_embedding30[1][0])"
      ],
      "metadata": {
        "id": "2pifE5mboJBc",
        "colab": {
          "base_uri": "https://localhost:8080/",
          "height": 348
        },
        "outputId": "ddb7beaf-e261-44a1-d8e0-8986af6e74a6"
      },
      "execution_count": null,
      "outputs": [
        {
          "output_type": "stream",
          "name": "stdout",
          "text": [
            "ACC is : 0.8256721595836947 \n",
            "Rec is : 0.025252525252525252 \n",
            "Persision is :  0.38461538461538464 \n",
            "F1 Score is : 0.04739336492890995\n"
          ]
        },
        {
          "output_type": "display_data",
          "data": {
            "text/plain": [
              "<Figure size 432x288 with 2 Axes>"
            ],
            "image/png": "[encoded data removed]"
          },
          "metadata": {
            "needs_background": "light"
          }
        }
      ]
    },
    {
      "cell_type": "markdown",
      "source": [
        "**Try to give better model by change weight**"
      ],
      "metadata": {
        "id": "uwdVrmAFlIp_"
      }
    },
    {
      "cell_type": "code",
      "source": [
        "from sklearn.svm import SVC\n",
        "from sklearn.utils import class_weight\n",
        "\n",
        "# Assume you have training data stored in X_train and y_train\n",
        "# y_train is a binary class variable (0 or 1) with many 0s and only a few 1s\n",
        "\n",
        "# Compute the class weights\n",
        "class_weights = class_weight.compute_class_weight('balanced', classes=[0, 1], y=ytrain)\n",
        "\n",
        "# # Train the SVM classifier with the computed class weights\n",
        "# clf = SVC(kernel='linear', class_weight={0: class_weights[0], 1: class_weights[1]})\n",
        "# clf.fit(X_train, y_train)"
      ],
      "metadata": {
        "id": "l6Pw5fv7Eqmp"
      },
      "execution_count": null,
      "outputs": []
    },
    {
      "cell_type": "code",
      "source": [
        "print(class_weights)"
      ],
      "metadata": {
        "colab": {
          "base_uri": "https://localhost:8080/"
        },
        "id": "uipKVps1HhlX",
        "outputId": "affc579d-6eab-4190-dce9-d4789a4209c2"
      },
      "execution_count": null,
      "outputs": [
        {
          "output_type": "stream",
          "name": "stdout",
          "text": [
            "[0.59921977 3.01965924]\n"
          ]
        }
      ]
    },
    {
      "cell_type": "code",
      "source": [],
      "metadata": {
        "id": "p5lk0kSdLSjC"
      },
      "execution_count": null,
      "outputs": []
    },
    {
      "cell_type": "markdown",
      "source": [
        "I change experiment model function with this approch because I have alot of zero label and few one label , I give more to one weight to predict one label as good ass zero label ."
      ],
      "metadata": {
        "id": "ZVoryeVIHHDj"
      }
    },
    {
      "cell_type": "code",
      "source": [
        "def experiment_model(X_train,y_train,X_test,class_weights):\n",
        "    result_list = []\n",
        "    # Define the parameter grid for gamma and C\n",
        "    param_grid = {'gamma': [0.01,0.1, 1, 10], 'C': [0.01,0.1, 1, 10,100]}\n",
        "\n",
        "    # Initialize the SVM with a rbf kernel\n",
        "    svm_model = SVC(kernel='rbf',class_weight={0: class_weights[0], 1: class_weights[1]})\n",
        "    clf_one = GridSearchCV(estimator=svm_model, param_grid=param_grid,cv=4, scoring='f1')\n",
        "    clf_one.fit(X_train, y_train)\n",
        "    Predicted_labels= clf_one.predict(X_test)\n",
        "    result_list.append((Predicted_labels,clf_one))\n",
        "    print(f\"SVM , Kernal = RBF , Best parameters: {clf_one.best_params_}\")\n",
        "\n",
        "    \n",
        "    param_grid = {'gamma': [0.01,0.1, 1, 10], 'C': [0.01,0.1, 1, 10,100]}\n",
        "    # Initialize the SVM with a Sigmoid kernel\n",
        "    svm_model = SVC(kernel='sigmoid',class_weight={0: class_weights[0], 1: class_weights[1]})\n",
        "    clf_six = GridSearchCV(estimator=svm_model, param_grid=param_grid,cv=4, scoring='f1')\n",
        "    clf_six.fit(X_train, y_train)\n",
        "    Predicted_labels= clf_six.predict(X_test)\n",
        "    result_list.append((Predicted_labels,clf_six))\n",
        "    print(f\"SVM , Kernel = Sigmoid , Best parameters: {clf_six.best_params_}\")\n",
        "\n",
        "\n",
        "    # print(\"SVM , Kernel = Manual, \")\n",
        "\n",
        "    # Create an SVM model with Polynomial kernel\n",
        "    # clf_seven = SVC(kernel=polynomial_kernel)\n",
        "\n",
        "    # Fit the model to your data\n",
        "    # clf_seven.fit(X_train, y_train)\n",
        "    # Predicted_labels= clf_seven.predict(X_test)\n",
        "    # result_list.append((Predicted_labels,clf_seven))\n",
        "\n",
        "\n",
        "\n",
        "    return result_list"
      ],
      "metadata": {
        "id": "jyIwI3LnG93l"
      },
      "execution_count": null,
      "outputs": []
    },
    {
      "cell_type": "code",
      "source": [
        "res_list = experiment_model(xtrain,ytrain,xtest,class_weights)"
      ],
      "metadata": {
        "colab": {
          "base_uri": "https://localhost:8080/"
        },
        "id": "Psjer-bcIih6",
        "outputId": "93572718-1183-46a7-d326-dd45e98111cd"
      },
      "execution_count": null,
      "outputs": [
        {
          "output_type": "stream",
          "name": "stdout",
          "text": [
            "SVM , Kernal = RBF , Best parameters: {'C': 0.01, 'gamma': 0.01}\n",
            "SVM , Kernel = Sigmoid , Best parameters: {'C': 10, 'gamma': 0.01}\n"
          ]
        }
      ]
    },
    {
      "cell_type": "code",
      "source": [
        "show_metric(ytest,res_list[0][0])"
      ],
      "metadata": {
        "colab": {
          "base_uri": "https://localhost:8080/",
          "height": 348
        },
        "id": "YHIONN4xItGo",
        "outputId": "24c0c534-d00b-4a8f-e79e-b55da2cc5985"
      },
      "execution_count": null,
      "outputs": [
        {
          "output_type": "stream",
          "name": "stdout",
          "text": [
            "ACC is : 0.16652211621856028 \n",
            "Rec is : 1.0 \n",
            "Persision is :  0.16652211621856028 \n",
            "F1 Score is : 0.2855018587360595\n"
          ]
        },
        {
          "output_type": "display_data",
          "data": {
            "text/plain": [
              "<Figure size 432x288 with 2 Axes>"
            ],
            "image/png": "[encoded data removed]"
          },
          "metadata": {
            "needs_background": "light"
          }
        }
      ]
    },
    {
      "cell_type": "code",
      "source": [
        "show_metric(ytest,res_list[1][0])"
      ],
      "metadata": {
        "colab": {
          "base_uri": "https://localhost:8080/",
          "height": 348
        },
        "id": "VhaLSQ4DItmm",
        "outputId": "c91af616-58f7-4be0-c38a-66713ecb5282"
      },
      "execution_count": null,
      "outputs": [
        {
          "output_type": "stream",
          "name": "stdout",
          "text": [
            "ACC is : 0.36253252385082396 \n",
            "Rec is : 0.640625 \n",
            "Persision is :  0.155893536121673 \n",
            "F1 Score is : 0.2507645259938838\n"
          ]
        },
        {
          "output_type": "display_data",
          "data": {
            "text/plain": [
              "<Figure size 432x288 with 2 Axes>"
            ],
            "image/png": "[encoded data removed]"
          },
          "metadata": {
            "needs_background": "light"
          }
        }
      ]
    },
    {
      "cell_type": "code",
      "source": [],
      "metadata": {
        "id": "Ca9BkVKtkcfE"
      },
      "execution_count": null,
      "outputs": []
    },
    {
      "cell_type": "markdown",
      "source": [
        "**change weight**\n",
        "\n"
      ],
      "metadata": {
        "id": "Pc5CTkGaL52y"
      }
    },
    {
      "cell_type": "code",
      "source": [
        "class_weights = [1,2.5]"
      ],
      "metadata": {
        "id": "N54ikGfjL9LO"
      },
      "execution_count": null,
      "outputs": []
    },
    {
      "cell_type": "code",
      "source": [
        "res_list = experiment_model(xtrain,ytrain,xtest,class_weights)"
      ],
      "metadata": {
        "colab": {
          "base_uri": "https://localhost:8080/"
        },
        "id": "KtIVqumVMV_h",
        "outputId": "5e30d4a0-32cc-4624-9b5a-f1923c79e747"
      },
      "execution_count": null,
      "outputs": [
        {
          "output_type": "stream",
          "name": "stdout",
          "text": [
            "SVM , Kernal = RBF , Best parameters: {'C': 0.01, 'gamma': 0.01}\n",
            "SVM , Kernel = Sigmoid , Best parameters: {'C': 0.01, 'gamma': 0.01}\n"
          ]
        }
      ]
    },
    {
      "cell_type": "code",
      "source": [
        "show_metric(ytest,res_list[0][0])"
      ],
      "metadata": {
        "colab": {
          "base_uri": "https://localhost:8080/",
          "height": 348
        },
        "id": "0rqUXsI7MX-R",
        "outputId": "718b54c4-7dca-435a-887a-4cbf4180a15f"
      },
      "execution_count": null,
      "outputs": [
        {
          "output_type": "stream",
          "name": "stdout",
          "text": [
            "ACC is : 0.17606244579358196 \n",
            "Rec is : 1.0 \n",
            "Persision is :  0.17606244579358196 \n",
            "F1 Score is : 0.2994100294985251\n"
          ]
        },
        {
          "output_type": "display_data",
          "data": {
            "text/plain": [
              "<Figure size 432x288 with 2 Axes>"
            ],
            "image/png": "[encoded data removed]"
          },
          "metadata": {
            "needs_background": "light"
          }
        }
      ]
    },
    {
      "cell_type": "code",
      "source": [
        "show_metric(ytest,res_list[1][0])"
      ],
      "metadata": {
        "colab": {
          "base_uri": "https://localhost:8080/",
          "height": 348
        },
        "id": "8Jb3E6WhMaUa",
        "outputId": "a20e787c-8122-49da-80a6-1ea0f70c0660"
      },
      "execution_count": null,
      "outputs": [
        {
          "output_type": "stream",
          "name": "stdout",
          "text": [
            "ACC is : 0.45446660884648743 \n",
            "Rec is : 0.46798029556650245 \n",
            "Persision is :  0.15422077922077923 \n",
            "F1 Score is : 0.231990231990232\n"
          ]
        },
        {
          "output_type": "display_data",
          "data": {
            "text/plain": [
              "<Figure size 432x288 with 2 Axes>"
            ],
            "image/png": "[encoded data removed]"
          },
          "metadata": {
            "needs_background": "light"
          }
        }
      ]
    },
    {
      "cell_type": "code",
      "source": [
        "class_weights = [1.5,2.5]"
      ],
      "metadata": {
        "id": "KKBUTnoPQRZZ"
      },
      "execution_count": null,
      "outputs": []
    },
    {
      "cell_type": "code",
      "source": [
        "res_list = experiment_model(xtrain,ytrain,xtest,class_weights)"
      ],
      "metadata": {
        "colab": {
          "base_uri": "https://localhost:8080/"
        },
        "id": "8gyheu5vQWQO",
        "outputId": "5c4f6b5d-ca81-4735-ea99-cfd9644c7713"
      },
      "execution_count": null,
      "outputs": [
        {
          "output_type": "stream",
          "name": "stdout",
          "text": [
            "SVM , Kernal = RBF , Best parameters: {'C': 0.01, 'gamma': 0.01}\n",
            "SVM , Kernel = Sigmoid , Best parameters: {'C': 0.01, 'gamma': 0.01}\n"
          ]
        }
      ]
    },
    {
      "cell_type": "code",
      "source": [
        "show_metric(ytest,res_list[0][0])"
      ],
      "metadata": {
        "colab": {
          "base_uri": "https://localhost:8080/",
          "height": 348
        },
        "id": "4vVOvUiZQtVg",
        "outputId": "9cafed63-7bcd-434b-8535-120e3fee0901"
      },
      "execution_count": null,
      "outputs": [
        {
          "output_type": "stream",
          "name": "stdout",
          "text": [
            "ACC is : 0.823937554206418 \n",
            "Rec is : 0.0 \n",
            "Persision is :  0.0 \n",
            "F1 Score is : 0.0\n"
          ]
        },
        {
          "output_type": "display_data",
          "data": {
            "text/plain": [
              "<Figure size 432x288 with 2 Axes>"
            ],
            "image/png": "[encoded data removed]"
          },
          "metadata": {
            "needs_background": "light"
          }
        }
      ]
    },
    {
      "cell_type": "code",
      "source": [
        "show_metric(ytest,res_list[1][0])"
      ],
      "metadata": {
        "colab": {
          "base_uri": "https://localhost:8080/",
          "height": 348
        },
        "id": "T6niwe2PQuTm",
        "outputId": "36927a50-ab87-43ee-f173-a6cdd8ff78d0"
      },
      "execution_count": null,
      "outputs": [
        {
          "output_type": "stream",
          "name": "stdout",
          "text": [
            "ACC is : 0.6227233304423244 \n",
            "Rec is : 0.31527093596059114 \n",
            "Persision is :  0.17777777777777778 \n",
            "F1 Score is : 0.22735346358792186\n"
          ]
        },
        {
          "output_type": "display_data",
          "data": {
            "text/plain": [
              "<Figure size 432x288 with 2 Axes>"
            ],
            "image/png": "[encoded data removed]"
          },
          "metadata": {
            "needs_background": "light"
          }
        }
      ]
    },
    {
      "cell_type": "code",
      "source": [
        "def find_best_weight(X_train, y_train,X_test):\n",
        "\n",
        "      param_grid = {'C': [0.1, 1, 10, 100],\n",
        "                    'gamma': [0.001, 0.01, 0.1, 1],\n",
        "                    'kernel': ['sigmoid']}\n",
        "      svm = SVC(class_weight='balanced')\n",
        "      grid_search = GridSearchCV(svm, param_grid=param_grid, cv=5,scoring='f1')\n",
        "      grid_search.fit(X_train, y_train)\n",
        "\n",
        "      print(\"Best parameters: \", grid_search.best_params_)\n",
        "      print(\"Best score:\", grid_search.best_score_)\n"
      ],
      "metadata": {
        "id": "lD2CHofqSeLA"
      },
      "execution_count": null,
      "outputs": []
    },
    {
      "cell_type": "code",
      "source": [
        "find_best_weight(xtrain,ytrain,xtest)"
      ],
      "metadata": {
        "colab": {
          "base_uri": "https://localhost:8080/"
        },
        "id": "EjDfwCF0T-tf",
        "outputId": "b83433d1-c3a4-410e-96f4-0b3331821f7a"
      },
      "execution_count": null,
      "outputs": [
        {
          "output_type": "stream",
          "name": "stdout",
          "text": [
            "Best parameters:  {'C': 1, 'gamma': 0.001, 'kernel': 'sigmoid'}\n",
            "Best score: 0.2685772432845176\n"
          ]
        }
      ]
    },
    {
      "cell_type": "code",
      "source": [
        "svm = SVC(class_weight='balanced',C=100,gamma=0.001,kernel='sigmoid')\n"
      ],
      "metadata": {
        "id": "fRuFkPKjWKSs"
      },
      "execution_count": null,
      "outputs": []
    },
    {
      "cell_type": "code",
      "source": [
        "svm.fit(xtrain,ytrain)"
      ],
      "metadata": {
        "colab": {
          "base_uri": "https://localhost:8080/",
          "height": 75
        },
        "id": "VjOBDYeTWrdg",
        "outputId": "5f05e9e1-a184-4927-9571-3dba50672371"
      },
      "execution_count": null,
      "outputs": [
        {
          "output_type": "execute_result",
          "data": {
            "text/plain": [
              "SVC(C=1, class_weight='balanced', gamma=0.001, kernel='sigmoid')"
            ],
            "text/html": [
              "<style>#sk-container-id-1 {color: black;background-color: white;}#sk-container-id-1 pre{padding: 0;}#sk-container-id-1 div.sk-toggleable {background-color: white;}#sk-container-id-1 label.sk-toggleable__label {cursor: pointer;display: block;width: 100%;margin-bottom: 0;padding: 0.3em;box-sizing: border-box;text-align: center;}#sk-container-id-1 label.sk-toggleable__label-arrow:before {content: \"▸\";float: left;margin-right: 0.25em;color: #696969;}#sk-container-id-1 label.sk-toggleable__label-arrow:hover:before {color: black;}#sk-container-id-1 div.sk-estimator:hover label.sk-toggleable__label-arrow:before {color: black;}#sk-container-id-1 div.sk-toggleable__content {max-height: 0;max-width: 0;overflow: hidden;text-align: left;background-color: #f0f8ff;}#sk-container-id-1 div.sk-toggleable__content pre {margin: 0.2em;color: black;border-radius: 0.25em;background-color: #f0f8ff;}#sk-container-id-1 input.sk-toggleable__control:checked~div.sk-toggleable__content {max-height: 200px;max-width: 100%;overflow: auto;}#sk-container-id-1 input.sk-toggleable__control:checked~label.sk-toggleable__label-arrow:before {content: \"▾\";}#sk-container-id-1 div.sk-estimator input.sk-toggleable__control:checked~label.sk-toggleable__label {background-color: #d4ebff;}#sk-container-id-1 div.sk-label input.sk-toggleable__control:checked~label.sk-toggleable__label {background-color: #d4ebff;}#sk-container-id-1 input.sk-hidden--visually {border: 0;clip: rect(1px 1px 1px 1px);clip: rect(1px, 1px, 1px, 1px);height: 1px;margin: -1px;overflow: hidden;padding: 0;position: absolute;width: 1px;}#sk-container-id-1 div.sk-estimator {font-family: monospace;background-color: #f0f8ff;border: 1px dotted black;border-radius: 0.25em;box-sizing: border-box;margin-bottom: 0.5em;}#sk-container-id-1 div.sk-estimator:hover {background-color: #d4ebff;}#sk-container-id-1 div.sk-parallel-item::after {content: \"\";width: 100%;border-bottom: 1px solid gray;flex-grow: 1;}#sk-container-id-1 div.sk-label:hover label.sk-toggleable__label {background-color: #d4ebff;}#sk-container-id-1 div.sk-serial::before {content: \"\";position: absolute;border-left: 1px solid gray;box-sizing: border-box;top: 0;bottom: 0;left: 50%;z-index: 0;}#sk-container-id-1 div.sk-serial {display: flex;flex-direction: column;align-items: center;background-color: white;padding-right: 0.2em;padding-left: 0.2em;position: relative;}#sk-container-id-1 div.sk-item {position: relative;z-index: 1;}#sk-container-id-1 div.sk-parallel {display: flex;align-items: stretch;justify-content: center;background-color: white;position: relative;}#sk-container-id-1 div.sk-item::before, #sk-container-id-1 div.sk-parallel-item::before {content: \"\";position: absolute;border-left: 1px solid gray;box-sizing: border-box;top: 0;bottom: 0;left: 50%;z-index: -1;}#sk-container-id-1 div.sk-parallel-item {display: flex;flex-direction: column;z-index: 1;position: relative;background-color: white;}#sk-container-id-1 div.sk-parallel-item:first-child::after {align-self: flex-end;width: 50%;}#sk-container-id-1 div.sk-parallel-item:last-child::after {align-self: flex-start;width: 50%;}#sk-container-id-1 div.sk-parallel-item:only-child::after {width: 0;}#sk-container-id-1 div.sk-dashed-wrapped {border: 1px dashed gray;margin: 0 0.4em 0.5em 0.4em;box-sizing: border-box;padding-bottom: 0.4em;background-color: white;}#sk-container-id-1 div.sk-label label {font-family: monospace;font-weight: bold;display: inline-block;line-height: 1.2em;}#sk-container-id-1 div.sk-label-container {text-align: center;}#sk-container-id-1 div.sk-container {/* jupyter's `normalize.less` sets `[hidden] { display: none; }` but bootstrap.min.css set `[hidden] { display: none !important; }` so we also need the `!important` here to be able to override the default hidden behavior on the sphinx rendered scikit-learn.org. See: https://github.com/scikit-learn/scikit-learn/issues/21755 */display: inline-block !important;position: relative;}#sk-container-id-1 div.sk-text-repr-fallback {display: none;}</style><div id=\"sk-container-id-1\" class=\"sk-top-container\"><div class=\"sk-text-repr-fallback\"><pre>SVC(C=1, class_weight=&#x27;balanced&#x27;, gamma=0.001, kernel=&#x27;sigmoid&#x27;)</pre><b>In a Jupyter environment, please rerun this cell to show the HTML representation or trust the notebook. <br />On GitHub, the HTML representation is unable to render, please try loading this page with nbviewer.org.</b></div><div class=\"sk-container\" hidden><div class=\"sk-item\"><div class=\"sk-estimator sk-toggleable\"><input class=\"sk-toggleable__control sk-hidden--visually\" id=\"sk-estimator-id-1\" type=\"checkbox\" checked><label for=\"sk-estimator-id-1\" class=\"sk-toggleable__label sk-toggleable__label-arrow\">SVC</label><div class=\"sk-toggleable__content\"><pre>SVC(C=1, class_weight=&#x27;balanced&#x27;, gamma=0.001, kernel=&#x27;sigmoid&#x27;)</pre></div></div></div></div></div>"
            ]
          },
          "metadata": {},
          "execution_count": 27
        }
      ]
    },
    {
      "cell_type": "code",
      "source": [
        "ypredict = svm.predict(xtest)"
      ],
      "metadata": {
        "id": "MjLEFAyVXRyy"
      },
      "execution_count": null,
      "outputs": []
    },
    {
      "cell_type": "code",
      "source": [
        "show_metric(ytest,ypredict)"
      ],
      "metadata": {
        "colab": {
          "base_uri": "https://localhost:8080/",
          "height": 348
        },
        "id": "Z2N0LpVkXlw1",
        "outputId": "a2fd6e70-4699-4c76-9766-6646b8ad15ec"
      },
      "execution_count": null,
      "outputs": [
        {
          "output_type": "stream",
          "name": "stdout",
          "text": [
            "ACC is : 0.45099739809193407 \n",
            "Rec is : 0.45320197044334976 \n",
            "Persision is :  0.1498371335504886 \n",
            "F1 Score is : 0.22521419828641376\n"
          ]
        },
        {
          "output_type": "display_data",
          "data": {
            "text/plain": [
              "<Figure size 432x288 with 2 Axes>"
            ],
            "image/png": "[encoded data removed]"
          },
          "metadata": {
            "needs_background": "light"
          }
        }
      ]
    },
    {
      "cell_type": "code",
      "source": [
        "def find_best_weight(X_train, y_train,X_test):\n",
        "\n",
        "      param_grid = {'C': [0.1, 1, 10, 100],\n",
        "                    'gamma': [0.001, 0.01, 0.1, 1],\n",
        "                    'kernel': ['rbf']}\n",
        "      svm = SVC(class_weight='balanced')\n",
        "      grid_search = GridSearchCV(svm, param_grid=param_grid, cv=5,scoring='f1')\n",
        "      grid_search.fit(X_train, y_train)\n",
        "\n",
        "      print(\"Best parameters: \", grid_search.best_params_)\n",
        "      print(\"Best score:\", grid_search.best_score_)"
      ],
      "metadata": {
        "id": "iJLMcuYfX3hT"
      },
      "execution_count": null,
      "outputs": []
    },
    {
      "cell_type": "code",
      "source": [
        "find_best_weight(xtrain,ytrain,xtest)"
      ],
      "metadata": {
        "colab": {
          "base_uri": "https://localhost:8080/"
        },
        "id": "KsAimi8kYIB_",
        "outputId": "1e2a0fe4-9170-4928-b349-42039ad0838f"
      },
      "execution_count": null,
      "outputs": [
        {
          "output_type": "stream",
          "name": "stdout",
          "text": [
            "Best parameters:  {'C': 0.1, 'gamma': 0.01, 'kernel': 'rbf'}\n",
            "Best score: 0.28411781789809054\n"
          ]
        }
      ]
    },
    {
      "cell_type": "code",
      "source": [
        "svm = SVC(class_weight='balanced',C= 0.1,gamma=0.01,kernel='rbf')\n"
      ],
      "metadata": {
        "id": "0WKhcEcTY9DN"
      },
      "execution_count": null,
      "outputs": []
    },
    {
      "cell_type": "code",
      "source": [
        "svm.fit(xtrain,ytrain)"
      ],
      "metadata": {
        "colab": {
          "base_uri": "https://localhost:8080/",
          "height": 75
        },
        "id": "jUBr3ZqDZk1g",
        "outputId": "aac496a1-269a-4960-f23c-34049c2991a7"
      },
      "execution_count": null,
      "outputs": [
        {
          "output_type": "execute_result",
          "data": {
            "text/plain": [
              "SVC(C=0.1, class_weight='balanced', gamma=0.01)"
            ],
            "text/html": [
              "<style>#sk-container-id-2 {color: black;background-color: white;}#sk-container-id-2 pre{padding: 0;}#sk-container-id-2 div.sk-toggleable {background-color: white;}#sk-container-id-2 label.sk-toggleable__label {cursor: pointer;display: block;width: 100%;margin-bottom: 0;padding: 0.3em;box-sizing: border-box;text-align: center;}#sk-container-id-2 label.sk-toggleable__label-arrow:before {content: \"▸\";float: left;margin-right: 0.25em;color: #696969;}#sk-container-id-2 label.sk-toggleable__label-arrow:hover:before {color: black;}#sk-container-id-2 div.sk-estimator:hover label.sk-toggleable__label-arrow:before {color: black;}#sk-container-id-2 div.sk-toggleable__content {max-height: 0;max-width: 0;overflow: hidden;text-align: left;background-color: #f0f8ff;}#sk-container-id-2 div.sk-toggleable__content pre {margin: 0.2em;color: black;border-radius: 0.25em;background-color: #f0f8ff;}#sk-container-id-2 input.sk-toggleable__control:checked~div.sk-toggleable__content {max-height: 200px;max-width: 100%;overflow: auto;}#sk-container-id-2 input.sk-toggleable__control:checked~label.sk-toggleable__label-arrow:before {content: \"▾\";}#sk-container-id-2 div.sk-estimator input.sk-toggleable__control:checked~label.sk-toggleable__label {background-color: #d4ebff;}#sk-container-id-2 div.sk-label input.sk-toggleable__control:checked~label.sk-toggleable__label {background-color: #d4ebff;}#sk-container-id-2 input.sk-hidden--visually {border: 0;clip: rect(1px 1px 1px 1px);clip: rect(1px, 1px, 1px, 1px);height: 1px;margin: -1px;overflow: hidden;padding: 0;position: absolute;width: 1px;}#sk-container-id-2 div.sk-estimator {font-family: monospace;background-color: #f0f8ff;border: 1px dotted black;border-radius: 0.25em;box-sizing: border-box;margin-bottom: 0.5em;}#sk-container-id-2 div.sk-estimator:hover {background-color: #d4ebff;}#sk-container-id-2 div.sk-parallel-item::after {content: \"\";width: 100%;border-bottom: 1px solid gray;flex-grow: 1;}#sk-container-id-2 div.sk-label:hover label.sk-toggleable__label {background-color: #d4ebff;}#sk-container-id-2 div.sk-serial::before {content: \"\";position: absolute;border-left: 1px solid gray;box-sizing: border-box;top: 0;bottom: 0;left: 50%;z-index: 0;}#sk-container-id-2 div.sk-serial {display: flex;flex-direction: column;align-items: center;background-color: white;padding-right: 0.2em;padding-left: 0.2em;position: relative;}#sk-container-id-2 div.sk-item {position: relative;z-index: 1;}#sk-container-id-2 div.sk-parallel {display: flex;align-items: stretch;justify-content: center;background-color: white;position: relative;}#sk-container-id-2 div.sk-item::before, #sk-container-id-2 div.sk-parallel-item::before {content: \"\";position: absolute;border-left: 1px solid gray;box-sizing: border-box;top: 0;bottom: 0;left: 50%;z-index: -1;}#sk-container-id-2 div.sk-parallel-item {display: flex;flex-direction: column;z-index: 1;position: relative;background-color: white;}#sk-container-id-2 div.sk-parallel-item:first-child::after {align-self: flex-end;width: 50%;}#sk-container-id-2 div.sk-parallel-item:last-child::after {align-self: flex-start;width: 50%;}#sk-container-id-2 div.sk-parallel-item:only-child::after {width: 0;}#sk-container-id-2 div.sk-dashed-wrapped {border: 1px dashed gray;margin: 0 0.4em 0.5em 0.4em;box-sizing: border-box;padding-bottom: 0.4em;background-color: white;}#sk-container-id-2 div.sk-label label {font-family: monospace;font-weight: bold;display: inline-block;line-height: 1.2em;}#sk-container-id-2 div.sk-label-container {text-align: center;}#sk-container-id-2 div.sk-container {/* jupyter's `normalize.less` sets `[hidden] { display: none; }` but bootstrap.min.css set `[hidden] { display: none !important; }` so we also need the `!important` here to be able to override the default hidden behavior on the sphinx rendered scikit-learn.org. See: https://github.com/scikit-learn/scikit-learn/issues/21755 */display: inline-block !important;position: relative;}#sk-container-id-2 div.sk-text-repr-fallback {display: none;}</style><div id=\"sk-container-id-2\" class=\"sk-top-container\"><div class=\"sk-text-repr-fallback\"><pre>SVC(C=0.1, class_weight=&#x27;balanced&#x27;, gamma=0.01)</pre><b>In a Jupyter environment, please rerun this cell to show the HTML representation or trust the notebook. <br />On GitHub, the HTML representation is unable to render, please try loading this page with nbviewer.org.</b></div><div class=\"sk-container\" hidden><div class=\"sk-item\"><div class=\"sk-estimator sk-toggleable\"><input class=\"sk-toggleable__control sk-hidden--visually\" id=\"sk-estimator-id-2\" type=\"checkbox\" checked><label for=\"sk-estimator-id-2\" class=\"sk-toggleable__label sk-toggleable__label-arrow\">SVC</label><div class=\"sk-toggleable__content\"><pre>SVC(C=0.1, class_weight=&#x27;balanced&#x27;, gamma=0.01)</pre></div></div></div></div></div>"
            ]
          },
          "metadata": {},
          "execution_count": 34
        }
      ]
    },
    {
      "cell_type": "code",
      "source": [
        "ypredict = svm.predict(xtest)"
      ],
      "metadata": {
        "id": "r_quFtTdZnsT"
      },
      "execution_count": null,
      "outputs": []
    },
    {
      "cell_type": "code",
      "source": [
        "show_metric(ytest,ypredict)"
      ],
      "metadata": {
        "colab": {
          "base_uri": "https://localhost:8080/",
          "height": 348
        },
        "id": "OA6N2Z_dZp1Q",
        "outputId": "3b2997a7-2f07-41ea-b234-dd241214ee47"
      },
      "execution_count": null,
      "outputs": [
        {
          "output_type": "stream",
          "name": "stdout",
          "text": [
            "ACC is : 0.17606244579358196 \n",
            "Rec is : 1.0 \n",
            "Persision is :  0.17606244579358196 \n",
            "F1 Score is : 0.2994100294985251\n"
          ]
        },
        {
          "output_type": "display_data",
          "data": {
            "text/plain": [
              "<Figure size 432x288 with 2 Axes>"
            ],
            "image/png": "[encoded data removed]"
          },
          "metadata": {
            "needs_background": "light"
          }
        }
      ]
    },
    {
      "cell_type": "markdown",
      "source": [
        "**Use Pcf now**"
      ],
      "metadata": {
        "id": "NqNxxKwoa1ed"
      }
    },
    {
      "cell_type": "code",
      "source": [
        "svm = SVC(class_weight='balanced',C=1,gamma=0.001,kernel='rbf')\n"
      ],
      "metadata": {
        "id": "ikIJVG9sa1Cf"
      },
      "execution_count": null,
      "outputs": []
    },
    {
      "cell_type": "code",
      "source": [
        "svm.fit(trainx_pca100,ytrain)"
      ],
      "metadata": {
        "colab": {
          "base_uri": "https://localhost:8080/",
          "height": 74
        },
        "id": "kNfMI89ebUUK",
        "outputId": "9efb52e8-300d-42cd-ccc1-46bd25052690"
      },
      "execution_count": null,
      "outputs": [
        {
          "output_type": "execute_result",
          "data": {
            "text/plain": [
              "SVC(C=1, class_weight='balanced', gamma=0.001)"
            ],
            "text/html": [
              "<style>#sk-container-id-1 {color: black;background-color: white;}#sk-container-id-1 pre{padding: 0;}#sk-container-id-1 div.sk-toggleable {background-color: white;}#sk-container-id-1 label.sk-toggleable__label {cursor: pointer;display: block;width: 100%;margin-bottom: 0;padding: 0.3em;box-sizing: border-box;text-align: center;}#sk-container-id-1 label.sk-toggleable__label-arrow:before {content: \"▸\";float: left;margin-right: 0.25em;color: #696969;}#sk-container-id-1 label.sk-toggleable__label-arrow:hover:before {color: black;}#sk-container-id-1 div.sk-estimator:hover label.sk-toggleable__label-arrow:before {color: black;}#sk-container-id-1 div.sk-toggleable__content {max-height: 0;max-width: 0;overflow: hidden;text-align: left;background-color: #f0f8ff;}#sk-container-id-1 div.sk-toggleable__content pre {margin: 0.2em;color: black;border-radius: 0.25em;background-color: #f0f8ff;}#sk-container-id-1 input.sk-toggleable__control:checked~div.sk-toggleable__content {max-height: 200px;max-width: 100%;overflow: auto;}#sk-container-id-1 input.sk-toggleable__control:checked~label.sk-toggleable__label-arrow:before {content: \"▾\";}#sk-container-id-1 div.sk-estimator input.sk-toggleable__control:checked~label.sk-toggleable__label {background-color: #d4ebff;}#sk-container-id-1 div.sk-label input.sk-toggleable__control:checked~label.sk-toggleable__label {background-color: #d4ebff;}#sk-container-id-1 input.sk-hidden--visually {border: 0;clip: rect(1px 1px 1px 1px);clip: rect(1px, 1px, 1px, 1px);height: 1px;margin: -1px;overflow: hidden;padding: 0;position: absolute;width: 1px;}#sk-container-id-1 div.sk-estimator {font-family: monospace;background-color: #f0f8ff;border: 1px dotted black;border-radius: 0.25em;box-sizing: border-box;margin-bottom: 0.5em;}#sk-container-id-1 div.sk-estimator:hover {background-color: #d4ebff;}#sk-container-id-1 div.sk-parallel-item::after {content: \"\";width: 100%;border-bottom: 1px solid gray;flex-grow: 1;}#sk-container-id-1 div.sk-label:hover label.sk-toggleable__label {background-color: #d4ebff;}#sk-container-id-1 div.sk-serial::before {content: \"\";position: absolute;border-left: 1px solid gray;box-sizing: border-box;top: 0;bottom: 0;left: 50%;z-index: 0;}#sk-container-id-1 div.sk-serial {display: flex;flex-direction: column;align-items: center;background-color: white;padding-right: 0.2em;padding-left: 0.2em;position: relative;}#sk-container-id-1 div.sk-item {position: relative;z-index: 1;}#sk-container-id-1 div.sk-parallel {display: flex;align-items: stretch;justify-content: center;background-color: white;position: relative;}#sk-container-id-1 div.sk-item::before, #sk-container-id-1 div.sk-parallel-item::before {content: \"\";position: absolute;border-left: 1px solid gray;box-sizing: border-box;top: 0;bottom: 0;left: 50%;z-index: -1;}#sk-container-id-1 div.sk-parallel-item {display: flex;flex-direction: column;z-index: 1;position: relative;background-color: white;}#sk-container-id-1 div.sk-parallel-item:first-child::after {align-self: flex-end;width: 50%;}#sk-container-id-1 div.sk-parallel-item:last-child::after {align-self: flex-start;width: 50%;}#sk-container-id-1 div.sk-parallel-item:only-child::after {width: 0;}#sk-container-id-1 div.sk-dashed-wrapped {border: 1px dashed gray;margin: 0 0.4em 0.5em 0.4em;box-sizing: border-box;padding-bottom: 0.4em;background-color: white;}#sk-container-id-1 div.sk-label label {font-family: monospace;font-weight: bold;display: inline-block;line-height: 1.2em;}#sk-container-id-1 div.sk-label-container {text-align: center;}#sk-container-id-1 div.sk-container {/* jupyter's `normalize.less` sets `[hidden] { display: none; }` but bootstrap.min.css set `[hidden] { display: none !important; }` so we also need the `!important` here to be able to override the default hidden behavior on the sphinx rendered scikit-learn.org. See: https://github.com/scikit-learn/scikit-learn/issues/21755 */display: inline-block !important;position: relative;}#sk-container-id-1 div.sk-text-repr-fallback {display: none;}</style><div id=\"sk-container-id-1\" class=\"sk-top-container\"><div class=\"sk-text-repr-fallback\"><pre>SVC(C=1, class_weight=&#x27;balanced&#x27;, gamma=0.001)</pre><b>In a Jupyter environment, please rerun this cell to show the HTML representation or trust the notebook. <br />On GitHub, the HTML representation is unable to render, please try loading this page with nbviewer.org.</b></div><div class=\"sk-container\" hidden><div class=\"sk-item\"><div class=\"sk-estimator sk-toggleable\"><input class=\"sk-toggleable__control sk-hidden--visually\" id=\"sk-estimator-id-1\" type=\"checkbox\" checked><label for=\"sk-estimator-id-1\" class=\"sk-toggleable__label sk-toggleable__label-arrow\">SVC</label><div class=\"sk-toggleable__content\"><pre>SVC(C=1, class_weight=&#x27;balanced&#x27;, gamma=0.001)</pre></div></div></div></div></div>"
            ]
          },
          "metadata": {},
          "execution_count": 14
        }
      ]
    },
    {
      "cell_type": "code",
      "source": [
        "ypredict = svm.predict(testx_pac100)"
      ],
      "metadata": {
        "id": "nFElQBLobail"
      },
      "execution_count": null,
      "outputs": []
    },
    {
      "cell_type": "code",
      "source": [
        "show_metric(ytest,ypredict) "
      ],
      "metadata": {
        "colab": {
          "base_uri": "https://localhost:8080/",
          "height": 352
        },
        "id": "wjiNDU0cbdBP",
        "outputId": "58d27ee1-7a9c-4023-90fb-7c8d0e6a987b"
      },
      "execution_count": null,
      "outputs": [
        {
          "output_type": "stream",
          "name": "stdout",
          "text": [
            "ACC is : 0.795316565481353 \n",
            "Rec is : 0.15083798882681565 \n",
            "Persision is :  0.24324324324324326 \n",
            "F1 Score is : 0.18620689655172415\n"
          ]
        },
        {
          "output_type": "display_data",
          "data": {
            "text/plain": [
              "<Figure size 432x288 with 2 Axes>"
            ],
            "image/png": "[encoded data removed]"
          },
          "metadata": {
            "needs_background": "light"
          }
        }
      ]
    },
    {
      "cell_type": "code",
      "source": [
        "svm = SVC(class_weight='balanced',C=1,gamma=0.001,kernel='sigmoid')\n"
      ],
      "metadata": {
        "id": "uR4OV3KScUxh"
      },
      "execution_count": null,
      "outputs": []
    },
    {
      "cell_type": "code",
      "source": [
        "svm.fit(trainx_pca30,ytrain)"
      ],
      "metadata": {
        "colab": {
          "base_uri": "https://localhost:8080/",
          "height": 75
        },
        "id": "G_D78SxAcb6z",
        "outputId": "be071744-f218-4b62-89b5-4db0ec5bee18"
      },
      "execution_count": null,
      "outputs": [
        {
          "output_type": "execute_result",
          "data": {
            "text/plain": [
              "SVC(C=1, class_weight='balanced', gamma=0.001, kernel='sigmoid')"
            ],
            "text/html": [
              "<style>#sk-container-id-4 {color: black;background-color: white;}#sk-container-id-4 pre{padding: 0;}#sk-container-id-4 div.sk-toggleable {background-color: white;}#sk-container-id-4 label.sk-toggleable__label {cursor: pointer;display: block;width: 100%;margin-bottom: 0;padding: 0.3em;box-sizing: border-box;text-align: center;}#sk-container-id-4 label.sk-toggleable__label-arrow:before {content: \"▸\";float: left;margin-right: 0.25em;color: #696969;}#sk-container-id-4 label.sk-toggleable__label-arrow:hover:before {color: black;}#sk-container-id-4 div.sk-estimator:hover label.sk-toggleable__label-arrow:before {color: black;}#sk-container-id-4 div.sk-toggleable__content {max-height: 0;max-width: 0;overflow: hidden;text-align: left;background-color: #f0f8ff;}#sk-container-id-4 div.sk-toggleable__content pre {margin: 0.2em;color: black;border-radius: 0.25em;background-color: #f0f8ff;}#sk-container-id-4 input.sk-toggleable__control:checked~div.sk-toggleable__content {max-height: 200px;max-width: 100%;overflow: auto;}#sk-container-id-4 input.sk-toggleable__control:checked~label.sk-toggleable__label-arrow:before {content: \"▾\";}#sk-container-id-4 div.sk-estimator input.sk-toggleable__control:checked~label.sk-toggleable__label {background-color: #d4ebff;}#sk-container-id-4 div.sk-label input.sk-toggleable__control:checked~label.sk-toggleable__label {background-color: #d4ebff;}#sk-container-id-4 input.sk-hidden--visually {border: 0;clip: rect(1px 1px 1px 1px);clip: rect(1px, 1px, 1px, 1px);height: 1px;margin: -1px;overflow: hidden;padding: 0;position: absolute;width: 1px;}#sk-container-id-4 div.sk-estimator {font-family: monospace;background-color: #f0f8ff;border: 1px dotted black;border-radius: 0.25em;box-sizing: border-box;margin-bottom: 0.5em;}#sk-container-id-4 div.sk-estimator:hover {background-color: #d4ebff;}#sk-container-id-4 div.sk-parallel-item::after {content: \"\";width: 100%;border-bottom: 1px solid gray;flex-grow: 1;}#sk-container-id-4 div.sk-label:hover label.sk-toggleable__label {background-color: #d4ebff;}#sk-container-id-4 div.sk-serial::before {content: \"\";position: absolute;border-left: 1px solid gray;box-sizing: border-box;top: 0;bottom: 0;left: 50%;z-index: 0;}#sk-container-id-4 div.sk-serial {display: flex;flex-direction: column;align-items: center;background-color: white;padding-right: 0.2em;padding-left: 0.2em;position: relative;}#sk-container-id-4 div.sk-item {position: relative;z-index: 1;}#sk-container-id-4 div.sk-parallel {display: flex;align-items: stretch;justify-content: center;background-color: white;position: relative;}#sk-container-id-4 div.sk-item::before, #sk-container-id-4 div.sk-parallel-item::before {content: \"\";position: absolute;border-left: 1px solid gray;box-sizing: border-box;top: 0;bottom: 0;left: 50%;z-index: -1;}#sk-container-id-4 div.sk-parallel-item {display: flex;flex-direction: column;z-index: 1;position: relative;background-color: white;}#sk-container-id-4 div.sk-parallel-item:first-child::after {align-self: flex-end;width: 50%;}#sk-container-id-4 div.sk-parallel-item:last-child::after {align-self: flex-start;width: 50%;}#sk-container-id-4 div.sk-parallel-item:only-child::after {width: 0;}#sk-container-id-4 div.sk-dashed-wrapped {border: 1px dashed gray;margin: 0 0.4em 0.5em 0.4em;box-sizing: border-box;padding-bottom: 0.4em;background-color: white;}#sk-container-id-4 div.sk-label label {font-family: monospace;font-weight: bold;display: inline-block;line-height: 1.2em;}#sk-container-id-4 div.sk-label-container {text-align: center;}#sk-container-id-4 div.sk-container {/* jupyter's `normalize.less` sets `[hidden] { display: none; }` but bootstrap.min.css set `[hidden] { display: none !important; }` so we also need the `!important` here to be able to override the default hidden behavior on the sphinx rendered scikit-learn.org. See: https://github.com/scikit-learn/scikit-learn/issues/21755 */display: inline-block !important;position: relative;}#sk-container-id-4 div.sk-text-repr-fallback {display: none;}</style><div id=\"sk-container-id-4\" class=\"sk-top-container\"><div class=\"sk-text-repr-fallback\"><pre>SVC(C=1, class_weight=&#x27;balanced&#x27;, gamma=0.001, kernel=&#x27;sigmoid&#x27;)</pre><b>In a Jupyter environment, please rerun this cell to show the HTML representation or trust the notebook. <br />On GitHub, the HTML representation is unable to render, please try loading this page with nbviewer.org.</b></div><div class=\"sk-container\" hidden><div class=\"sk-item\"><div class=\"sk-estimator sk-toggleable\"><input class=\"sk-toggleable__control sk-hidden--visually\" id=\"sk-estimator-id-4\" type=\"checkbox\" checked><label for=\"sk-estimator-id-4\" class=\"sk-toggleable__label sk-toggleable__label-arrow\">SVC</label><div class=\"sk-toggleable__content\"><pre>SVC(C=1, class_weight=&#x27;balanced&#x27;, gamma=0.001, kernel=&#x27;sigmoid&#x27;)</pre></div></div></div></div></div>"
            ]
          },
          "metadata": {},
          "execution_count": 46
        }
      ]
    },
    {
      "cell_type": "code",
      "source": [
        "ypredict = svm.predict(testx_pac30)"
      ],
      "metadata": {
        "id": "yytvLm-6ciN-"
      },
      "execution_count": null,
      "outputs": []
    },
    {
      "cell_type": "code",
      "source": [
        "show_metric(ytest,ypredict) "
      ],
      "metadata": {
        "colab": {
          "base_uri": "https://localhost:8080/",
          "height": 348
        },
        "id": "2IgpmFKPcvm-",
        "outputId": "ad0b0f9b-b99b-434a-8340-5a99f58cdb4b"
      },
      "execution_count": null,
      "outputs": [
        {
          "output_type": "stream",
          "name": "stdout",
          "text": [
            "ACC is : 0.49522983521248914 \n",
            "Rec is : 0.5073891625615764 \n",
            "Persision is :  0.17606837606837608 \n",
            "F1 Score is : 0.2614213197969543\n"
          ]
        },
        {
          "output_type": "display_data",
          "data": {
            "text/plain": [
              "<Figure size 432x288 with 2 Axes>"
            ],
            "image/png": "[encoded data removed]"
          },
          "metadata": {
            "needs_background": "light"
          }
        }
      ]
    },
    {
      "cell_type": "markdown",
      "source": [
        "**LLE**\n",
        "\n",
        "***LLE (Locally Linear Embedding):*** This is another nonlinear dimensionality reduction technique that preserves the local structure of the data.\n"
      ],
      "metadata": {
        "id": "pr635UzpgVkA"
      }
    },
    {
      "cell_type": "code",
      "source": [
        "from sklearn.manifold import LocallyLinearEmbedding"
      ],
      "metadata": {
        "id": "tMJ2vLekhNw6"
      },
      "execution_count": null,
      "outputs": []
    },
    {
      "cell_type": "code",
      "source": [
        "embedding300 = LocallyLinearEmbedding(n_components=300)\n",
        "xtrain_embedding300 = embedding300.fit_transform(xtrain)\n",
        "xtest_embedding300= embedding300.transform(xtest)\n",
        "  \n",
        "svm = SVC(class_weight='balanced',C=100,gamma=10,kernel='sigmoid')\n",
        "\n",
        "svm.fit(xtrain_embedding300,ytrain)\n",
        "\n",
        "ypredict = svm.predict(xtest_embedding300)\n",
        "\n",
        "show_metric(ytest,ypredict) \n"
      ],
      "metadata": {
        "colab": {
          "base_uri": "https://localhost:8080/",
          "height": 348
        },
        "id": "r59vE_CjiLFD",
        "outputId": "881ce479-6a76-4f24-e0bf-2ec8b8ebd15c"
      },
      "execution_count": null,
      "outputs": [
        {
          "output_type": "stream",
          "name": "stdout",
          "text": [
            "ACC is : 0.5706851691240243 \n",
            "Rec is : 0.5533980582524272 \n",
            "Persision is :  0.2205029013539652 \n",
            "F1 Score is : 0.3153526970954357\n"
          ]
        },
        {
          "output_type": "display_data",
          "data": {
            "text/plain": [
              "<Figure size 432x288 with 2 Axes>"
            ],
            "image/png": "[encoded data removed]"
          },
          "metadata": {
            "needs_background": "light"
          }
        }
      ]
    },
    {
      "cell_type": "code",
      "source": [
        "embedding300 = LocallyLinearEmbedding(n_components=300)\n",
        "xtrain_embedding300 = embedding300.fit_transform(xtrain)\n",
        "xtest_embedding300= embedding300.transform(xtest)\n",
        "\n",
        "svm = SVC(class_weight='balanced',C=100,gamma=10,kernel='rbf')\n",
        "\n",
        "svm.fit(xtrain_embedding300,ytrain)\n",
        "\n",
        "ypredict = svm.predict(xtest_embedding300)\n",
        "\n",
        "show_metric(ytest,ypredict) "
      ],
      "metadata": {
        "colab": {
          "base_uri": "https://localhost:8080/",
          "height": 348
        },
        "id": "lfBSXRoy_RB5",
        "outputId": "a567702f-c817-43f5-dbc7-5f7f7e35875f"
      },
      "execution_count": null,
      "outputs": [
        {
          "output_type": "stream",
          "name": "stdout",
          "text": [
            "ACC is : 0.5784908933217693 \n",
            "Rec is : 0.5631067961165048 \n",
            "Persision is :  0.2265625 \n",
            "F1 Score is : 0.3231197771587744\n"
          ]
        },
        {
          "output_type": "display_data",
          "data": {
            "text/plain": [
              "<Figure size 432x288 with 2 Axes>"
            ],
            "image/png": "[encoded data removed]"
          },
          "metadata": {
            "needs_background": "light"
          }
        }
      ]
    },
    {
      "cell_type": "code",
      "source": [
        "embedding200 = LocallyLinearEmbedding(n_components=200)\n",
        "xtrain_embedding200 = embedding200.fit_transform(xtrain)\n",
        "xtest_embedding200= embedding200.transform(xtest)\n",
        "\n",
        "svm = SVC(class_weight='balanced',C=100,gamma=10,kernel='sigmoid')\n",
        "\n",
        "svm.fit(xtrain_embedding200,ytrain)\n",
        "\n",
        "ypredict = svm.predict(xtest_embedding200)\n",
        "\n",
        "show_metric(ytest,ypredict) "
      ],
      "metadata": {
        "colab": {
          "base_uri": "https://localhost:8080/",
          "height": 348
        },
        "id": "qlsRz2oYjI77",
        "outputId": "d36a7b0c-4561-4ec4-aeb7-e45769426dff"
      },
      "execution_count": null,
      "outputs": [
        {
          "output_type": "stream",
          "name": "stdout",
          "text": [
            "ACC is : 0.5117085862966175 \n",
            "Rec is : 0.5825242718446602 \n",
            "Persision is :  0.20100502512562815 \n",
            "F1 Score is : 0.29887920298879206\n"
          ]
        },
        {
          "output_type": "display_data",
          "data": {
            "text/plain": [
              "<Figure size 432x288 with 2 Axes>"
            ],
            "image/png": "[encoded data removed]"
          },
          "metadata": {
            "needs_background": "light"
          }
        }
      ]
    },
    {
      "cell_type": "code",
      "source": [
        "embedding200 = LocallyLinearEmbedding(n_components=200)\n",
        "xtrain_embedding200 = embedding200.fit_transform(xtrain)\n",
        "xtest_embedding200= embedding200.transform(xtest)\n",
        "\n",
        "svm = SVC(class_weight='balanced',C=100,gamma=10,kernel='rbf')\n",
        "\n",
        "svm.fit(xtrain_embedding200,ytrain)\n",
        "\n",
        "ypredict = svm.predict(xtest_embedding200)\n",
        "\n",
        "show_metric(ytest,ypredict) "
      ],
      "metadata": {
        "colab": {
          "base_uri": "https://localhost:8080/",
          "height": 348
        },
        "id": "OrN-Nh-J_KBe",
        "outputId": "b3525941-7a80-47f7-e117-61fb5a85ad9c"
      },
      "execution_count": null,
      "outputs": [
        {
          "output_type": "stream",
          "name": "stdout",
          "text": [
            "ACC is : 0.6027753686036427 \n",
            "Rec is : 0.5048543689320388 \n",
            "Persision is :  0.22608695652173913 \n",
            "F1 Score is : 0.31231231231231227\n"
          ]
        },
        {
          "output_type": "display_data",
          "data": {
            "text/plain": [
              "<Figure size 432x288 with 2 Axes>"
            ],
            "image/png": "[encoded data removed]"
          },
          "metadata": {
            "needs_background": "light"
          }
        }
      ]
    },
    {
      "cell_type": "code",
      "source": [
        "embedding100 = LocallyLinearEmbedding(n_components=100)\n",
        "xtrain_embedding100 = embedding100.fit_transform(xtrain)\n",
        "xtest_embedding100= embedding100.transform(xtest)\n",
        "\n",
        "svm = SVC(class_weight='balanced',C=100,gamma=10,kernel='sigmoid')\n",
        "\n",
        "svm.fit(xtrain_embedding100,ytrain)\n",
        "\n",
        "ypredict = svm.predict(xtest_embedding100)\n",
        "\n",
        "show_metric(ytest,ypredict) "
      ],
      "metadata": {
        "colab": {
          "base_uri": "https://localhost:8080/",
          "height": 348
        },
        "id": "dTzj7EVQj5yN",
        "outputId": "dbcd0d75-b338-460e-ccd1-661129ef5b47"
      },
      "execution_count": null,
      "outputs": [
        {
          "output_type": "stream",
          "name": "stdout",
          "text": [
            "ACC is : 0.5845620121422377 \n",
            "Rec is : 0.46601941747572817 \n",
            "Persision is :  0.2064516129032258 \n",
            "F1 Score is : 0.28614008941877794\n"
          ]
        },
        {
          "output_type": "display_data",
          "data": {
            "text/plain": [
              "<Figure size 432x288 with 2 Axes>"
            ],
            "image/png": "[encoded data removed]"
          },
          "metadata": {
            "needs_background": "light"
          }
        }
      ]
    },
    {
      "cell_type": "code",
      "source": [
        "embedding100 = LocallyLinearEmbedding(n_components=100)\n",
        "xtrain_embedding100 = embedding100.fit_transform(xtrain)\n",
        "xtest_embedding100= embedding100.transform(xtest)\n",
        "\n",
        "svm = SVC(class_weight='balanced',C=100,gamma=10,kernel='rbf')\n",
        "\n",
        "svm.fit(xtrain_embedding100,ytrain)\n",
        "\n",
        "ypredict = svm.predict(xtest_embedding100)\n",
        "\n",
        "show_metric(ytest,ypredict) "
      ],
      "metadata": {
        "colab": {
          "base_uri": "https://localhost:8080/",
          "height": 348
        },
        "id": "9ZQ0UmBV-_pc",
        "outputId": "85ad74d2-09b8-44ab-b71d-6cf3bbde77ad"
      },
      "execution_count": null,
      "outputs": [
        {
          "output_type": "stream",
          "name": "stdout",
          "text": [
            "ACC is : 0.601040763226366 \n",
            "Rec is : 0.5145631067961165 \n",
            "Persision is :  0.22746781115879827 \n",
            "F1 Score is : 0.31547619047619047\n"
          ]
        },
        {
          "output_type": "display_data",
          "data": {
            "text/plain": [
              "<Figure size 432x288 with 2 Axes>"
            ],
            "image/png": "[encoded data removed]"
          },
          "metadata": {
            "needs_background": "light"
          }
        }
      ]
    },
    {
      "cell_type": "code",
      "source": [
        "embedding30 = LocallyLinearEmbedding(n_components=30)\n",
        "xtrain_embedding30 = embedding200.fit_transform(xtrain)\n",
        "xtest_embedding30= embedding200.transform(xtest)\n",
        "\n",
        "svm = SVC(class_weight='balanced',C=100,gamma=10,kernel='sigmoid')\n",
        "\n",
        "svm.fit(xtrain_embedding30,ytrain)\n",
        "\n",
        "ypredict = svm.predict(xtest_embedding30)\n",
        "\n",
        "show_metric(ytest,ypredict) "
      ],
      "metadata": {
        "colab": {
          "base_uri": "https://localhost:8080/",
          "height": 348
        },
        "id": "EFlFx6HgkJQs",
        "outputId": "3c03fef2-b172-4506-b2a7-baf258947bc1"
      },
      "execution_count": null,
      "outputs": [
        {
          "output_type": "stream",
          "name": "stdout",
          "text": [
            "ACC is : 0.5117085862966175 \n",
            "Rec is : 0.5825242718446602 \n",
            "Persision is :  0.20100502512562815 \n",
            "F1 Score is : 0.29887920298879206\n"
          ]
        },
        {
          "output_type": "display_data",
          "data": {
            "text/plain": [
              "<Figure size 432x288 with 2 Axes>"
            ],
            "image/png": "[encoded data removed]"
          },
          "metadata": {
            "needs_background": "light"
          }
        }
      ]
    },
    {
      "cell_type": "markdown",
      "source": [
        "# **Use cross ‫‪validation‬‬**\n",
        "\n"
      ],
      "metadata": {
        "id": "SktJhMV0xCYB"
      }
    },
    {
      "cell_type": "markdown",
      "source": [
        "**K=3**"
      ],
      "metadata": {
        "id": "A-OoryHzDGSU"
      }
    },
    {
      "cell_type": "code",
      "source": [
        "from sklearn.model_selection import cross_validate\n",
        "\n",
        "scoring = ['precision_macro', 'recall_macro','f1','accuracy']\n",
        "clf = SVC(kernel='sigmoid', C=1,gamma=0.01)\n",
        "\n",
        "scores = cross_validate(clf, x, y, scoring=scoring,cv=3)"
      ],
      "metadata": {
        "id": "2d9iPHZTwst3"
      },
      "execution_count": null,
      "outputs": []
    },
    {
      "cell_type": "code",
      "source": [
        "scores"
      ],
      "metadata": {
        "colab": {
          "base_uri": "https://localhost:8080/"
        },
        "id": "Y52O4r30_0hT",
        "outputId": "c1c757b5-26bc-475a-9e1b-e1c0d6f9c1ee"
      },
      "execution_count": null,
      "outputs": [
        {
          "output_type": "execute_result",
          "data": {
            "text/plain": [
              "{'fit_time': array([0.97887063, 0.8592937 , 0.89325595]),\n",
              " 'score_time': array([0.37488461, 0.3630228 , 0.36449432]),\n",
              " 'test_precision_macro': array([0.48649863, 0.50940486, 0.47266249]),\n",
              " 'test_recall_macro': array([0.47761509, 0.50846749, 0.47966013]),\n",
              " 'test_f1': array([0.20588235, 0.17190083, 0.09854015]),\n",
              " 'test_accuracy': array([0.57834461, 0.7390625 , 0.74270833])}"
            ]
          },
          "metadata": {},
          "execution_count": 21
        }
      ]
    },
    {
      "cell_type": "code",
      "source": [
        "clf = SVC(kernel='sigmoid', C=0.01,gamma=0.01,class_weight='balanced')\n",
        "\n",
        "scores = cross_validate(clf, x, y, scoring=scoring,cv=3)"
      ],
      "metadata": {
        "id": "aOGPm5loCPKs"
      },
      "execution_count": null,
      "outputs": []
    },
    {
      "cell_type": "code",
      "source": [
        "scores"
      ],
      "metadata": {
        "colab": {
          "base_uri": "https://localhost:8080/"
        },
        "id": "z0mRB8GsCak9",
        "outputId": "e062f0c2-0dcf-4aee-b4b5-9571613aab02"
      },
      "execution_count": null,
      "outputs": [
        {
          "output_type": "execute_result",
          "data": {
            "text/plain": [
              "{'fit_time': array([2.38614178, 2.1116221 , 2.08915544]),\n",
              " 'score_time': array([0.8687849 , 0.87359047, 0.79191089]),\n",
              " 'test_precision_macro': array([0.48503785, 0.51931424, 0.48858252]),\n",
              " 'test_recall_macro': array([0.48740964, 0.53320921, 0.48714426]),\n",
              " 'test_f1': array([0.12692967, 0.28629579, 0.16068867]),\n",
              " 'test_accuracy': array([0.73503384, 0.45208333, 0.6953125 ])}"
            ]
          },
          "metadata": {},
          "execution_count": 23
        }
      ]
    },
    {
      "cell_type": "code",
      "source": [
        "clf = SVC(kernel='sigmoid', C=1,gamma=0.01)\n",
        "\n",
        "scores = cross_validate(clf, x, y, scoring=scoring,cv=3)"
      ],
      "metadata": {
        "id": "V6My5WF1C9kC"
      },
      "execution_count": null,
      "outputs": []
    },
    {
      "cell_type": "code",
      "source": [
        "scores"
      ],
      "metadata": {
        "colab": {
          "base_uri": "https://localhost:8080/"
        },
        "id": "PYgL9kLHDPbp",
        "outputId": "99cadd4d-d785-466c-fffa-53c8a031aad9"
      },
      "execution_count": null,
      "outputs": [
        {
          "output_type": "execute_result",
          "data": {
            "text/plain": [
              "{'fit_time': array([5.37591672, 1.7553494 , 1.69465065, 1.60810447, 2.23305511]),\n",
              " 'score_time': array([0.26435947, 0.25993109, 0.26148582, 0.34559488, 0.35210156]),\n",
              " 'test_precision_macro': array([0.46759701, 0.48797283, 0.49702729, 0.51820837, 0.53739006]),\n",
              " 'test_recall_macro': array([0.45621244, 0.49297898, 0.49814412, 0.5126292 , 0.53785247]),\n",
              " 'test_f1': array([0.14403292, 0.10135135, 0.11842105, 0.1572327 , 0.23136247]),\n",
              " 'test_accuracy': array([0.63920208, 0.76909722, 0.76736111, 0.76736111, 0.74045139])}"
            ]
          },
          "metadata": {},
          "execution_count": 27
        }
      ]
    },
    {
      "cell_type": "markdown",
      "source": [
        "**K=5**"
      ],
      "metadata": {
        "id": "OJwI8bWtFv-7"
      }
    },
    {
      "cell_type": "code",
      "source": [
        "clf = SVC(kernel='sigmoid', C=1,gamma=0.01)\n",
        "\n",
        "scores = cross_validate(clf, x, y, scoring=scoring,cv=5)"
      ],
      "metadata": {
        "id": "8nN2Ms6cF7HZ"
      },
      "execution_count": null,
      "outputs": []
    },
    {
      "cell_type": "code",
      "source": [
        "scores"
      ],
      "metadata": {
        "colab": {
          "base_uri": "https://localhost:8080/"
        },
        "id": "TDelMSJ6F-0d",
        "outputId": "b5e8e16a-8193-489f-95a4-ec6dfd5e430d"
      },
      "execution_count": null,
      "outputs": [
        {
          "output_type": "execute_result",
          "data": {
            "text/plain": [
              "{'fit_time': array([1.00622082, 0.85937715, 0.6346705 , 0.70443249, 0.95427632]),\n",
              " 'score_time': array([0.13303971, 0.13734436, 0.12854052, 0.13326001, 0.16690898]),\n",
              " 'test_precision_macro': array([0.46759701, 0.48797283, 0.49702729, 0.51820837, 0.53739006]),\n",
              " 'test_recall_macro': array([0.45621244, 0.49297898, 0.49814412, 0.5126292 , 0.53785247]),\n",
              " 'test_f1': array([0.14403292, 0.10135135, 0.11842105, 0.1572327 , 0.23136247]),\n",
              " 'test_accuracy': array([0.63920208, 0.76909722, 0.76736111, 0.76736111, 0.74045139])}"
            ]
          },
          "metadata": {},
          "execution_count": 20
        }
      ]
    },
    {
      "cell_type": "code",
      "source": [
        "clf = SVC(kernel='sigmoid', C=0.01,gamma=0.01,class_weight='balanced')\n",
        "\n",
        "scores = cross_validate(clf, x, y, scoring=scoring,cv=5)"
      ],
      "metadata": {
        "id": "F8cXdz2mDXNB"
      },
      "execution_count": null,
      "outputs": []
    },
    {
      "cell_type": "code",
      "source": [
        "scores"
      ],
      "metadata": {
        "colab": {
          "base_uri": "https://localhost:8080/"
        },
        "id": "k0sVhr6SDfad",
        "outputId": "06217fd5-8d61-4b9a-cec1-79fd5d3a0098"
      },
      "execution_count": null,
      "outputs": [
        {
          "output_type": "execute_result",
          "data": {
            "text/plain": [
              "{'fit_time': array([5.64966083, 6.13062835, 4.66483164, 5.06069756, 6.68122935]),\n",
              " 'score_time': array([1.01914406, 0.65974212, 0.46258044, 0.92395067, 0.5735023 ]),\n",
              " 'test_precision_macro': array([0.43062771, 0.48670369, 0.52299172, 0.51974657, 0.51127366]),\n",
              " 'test_recall_macro': array([0.48621846, 0.4775538 , 0.54082404, 0.52071188, 0.51990145]),\n",
              " 'test_f1': array([0.28006088, 0.20952381, 0.28848485, 0.20603015, 0.26074499]),\n",
              " 'test_accuracy': array([0.17953166, 0.56770833, 0.49045139, 0.72569444, 0.55208333])}"
            ]
          },
          "metadata": {},
          "execution_count": 29
        }
      ]
    },
    {
      "cell_type": "markdown",
      "source": [
        "**K=7**"
      ],
      "metadata": {
        "id": "j0wlcASEE1KC"
      }
    },
    {
      "cell_type": "code",
      "source": [
        "clf = SVC(kernel='sigmoid', C=1,gamma=0.01)\n",
        "\n",
        "scores = cross_validate(clf, x, y, scoring=scoring,cv=7)"
      ],
      "metadata": {
        "id": "HQj3eY4gE9_B"
      },
      "execution_count": null,
      "outputs": []
    },
    {
      "cell_type": "code",
      "source": [
        "scores"
      ],
      "metadata": {
        "colab": {
          "base_uri": "https://localhost:8080/"
        },
        "id": "WMoY4LjqE_W2",
        "outputId": "cf1375ba-cf48-42ab-acd6-546e250fbf08"
      },
      "execution_count": null,
      "outputs": [
        {
          "output_type": "execute_result",
          "data": {
            "text/plain": [
              "{'fit_time': array([2.56014848, 2.43358827, 2.44910765, 2.5730207 , 2.6834805 ,\n",
              "        2.24357724, 2.54140639]),\n",
              " 'score_time': array([0.20396805, 0.20348883, 0.20718575, 0.28636479, 0.20137119,\n",
              "        0.19960809, 0.19486976]),\n",
              " 'test_precision_macro': array([0.47853481, 0.45258169, 0.5633265 , 0.50678137, 0.55415174,\n",
              "        0.44935047, 0.51780837]),\n",
              " 'test_recall_macro': array([0.47457421, 0.43966995, 0.52877393, 0.50468634, 0.5351846 ,\n",
              "        0.47286047, 0.51545012]),\n",
              " 'test_f1': array([0.1483871 , 0.1097561 , 0.16494845, 0.14096916, 0.19909502,\n",
              "        0.04878049, 0.18110236]),\n",
              " 'test_accuracy': array([0.67922236, 0.64520049, 0.80315917, 0.76306197, 0.78493317,\n",
              "        0.76306197, 0.7472661 ])}"
            ]
          },
          "metadata": {},
          "execution_count": 35
        }
      ]
    },
    {
      "cell_type": "code",
      "source": [
        "clf = SVC(kernel='sigmoid', C=0.01,gamma=0.01,class_weight='balanced')\n",
        "\n",
        "scores = cross_validate(clf, x, y, scoring=scoring,cv=7)"
      ],
      "metadata": {
        "id": "kfVOV8PMFMcW"
      },
      "execution_count": null,
      "outputs": []
    },
    {
      "cell_type": "code",
      "source": [
        "scores"
      ],
      "metadata": {
        "colab": {
          "base_uri": "https://localhost:8080/"
        },
        "id": "UKa202bpFRPD",
        "outputId": "77209139-9a8c-4bf9-d597-1e51e3aac535"
      },
      "execution_count": null,
      "outputs": [
        {
          "output_type": "execute_result",
          "data": {
            "text/plain": [
              "{'fit_time': array([6.17551804, 3.97874713, 2.2987628 , 2.29381776, 2.38020921,\n",
              "        2.48980689, 2.6149683 ]),\n",
              " 'score_time': array([0.43813872, 0.22808146, 0.25832033, 0.21347237, 0.22805595,\n",
              "        0.28696012, 0.22434139]),\n",
              " 'test_precision_macro': array([0.50156887, 0.4842462 , 0.4986688 , 0.52439259, 0.53469997,\n",
              "        0.47699208, 0.51952257]),\n",
              " 'test_recall_macro': array([0.50276632, 0.48795092, 0.49775204, 0.54292817, 0.5620914 ,\n",
              "        0.47989527, 0.52860997]),\n",
              " 'test_f1': array([0.24497992, 0.11764706, 0.26234568, 0.29139073, 0.30223881,\n",
              "        0.11764706, 0.28965517]),\n",
              " 'test_accuracy': array([0.54313487, 0.74483597, 0.41919806, 0.4799514 , 0.54556501,\n",
              "        0.72660996, 0.37424058])}"
            ]
          },
          "metadata": {},
          "execution_count": 22
        }
      ]
    },
    {
      "cell_type": "markdown",
      "source": [
        "**K=10**"
      ],
      "metadata": {
        "id": "PDctNC86FWGv"
      }
    },
    {
      "cell_type": "code",
      "source": [
        "clf = SVC(kernel='sigmoid', C=1,gamma=0.01)\n",
        "\n",
        "scores = cross_validate(clf, x, y, scoring=scoring,cv=10)"
      ],
      "metadata": {
        "id": "ErjBUg90GFOA"
      },
      "execution_count": null,
      "outputs": []
    },
    {
      "cell_type": "code",
      "source": [
        "scores"
      ],
      "metadata": {
        "colab": {
          "base_uri": "https://localhost:8080/"
        },
        "id": "sMNIFabXFlXF",
        "outputId": "cd12dc62-dd6e-4f65-f8e9-91e210c01d69"
      },
      "execution_count": null,
      "outputs": [
        {
          "output_type": "execute_result",
          "data": {
            "text/plain": [
              "{'fit_time': array([3.02801704, 3.37361813, 2.77656031, 2.76349163, 2.8059175 ,\n",
              "        3.24257183, 2.65500665, 2.57906461, 2.55921364, 3.15304565]),\n",
              " 'score_time': array([0.15892768, 0.14470792, 0.14812946, 0.15433335, 0.17985344,\n",
              "        0.15672135, 0.15449524, 0.15284848, 0.15396166, 0.21177554]),\n",
              " 'test_precision_macro': array([0.49248455, 0.46855631, 0.45784431, 0.59375   , 0.44645573,\n",
              "        0.55012771, 0.56460745, 0.45817369, 0.46755537, 0.46529909]),\n",
              " 'test_recall_macro': array([0.49420103, 0.459375  , 0.465625  , 0.53541667, 0.465625  ,\n",
              "        0.5304113 , 0.54985688, 0.47462497, 0.4829757 , 0.45838624]),\n",
              " 'test_f1': array([0.13095238, 0.13852814, 0.08187135, 0.171875  , 0.05228758,\n",
              "        0.18543046, 0.23809524, 0.06622517, 0.06993007, 0.12727273]),\n",
              " 'test_accuracy': array([0.74696707, 0.65451389, 0.72743056, 0.81597222, 0.74826389,\n",
              "        0.78645833, 0.77777778, 0.75520833, 0.76909722, 0.66666667])}"
            ]
          },
          "metadata": {},
          "execution_count": 41
        }
      ]
    },
    {
      "cell_type": "code",
      "source": [
        "clf = SVC(kernel='sigmoid', C=0.01,gamma=0.01,class_weight='balanced')\n",
        "\n",
        "scores = cross_validate(clf, x, y, scoring=scoring,cv=10)"
      ],
      "metadata": {
        "id": "m3azMsLmFaqu"
      },
      "execution_count": null,
      "outputs": []
    },
    {
      "cell_type": "code",
      "source": [
        "scores"
      ],
      "metadata": {
        "colab": {
          "base_uri": "https://localhost:8080/"
        },
        "id": "Pq0mPiD2Fdb6",
        "outputId": "9c649dfb-b06f-4966-ce9f-24427f8df6f6"
      },
      "execution_count": null,
      "outputs": [
        {
          "output_type": "execute_result",
          "data": {
            "text/plain": [
              "{'fit_time': array([6.98699594, 7.93514538, 7.11594939, 5.88561821, 7.48958111,\n",
              "        7.70052528, 7.50240564, 7.53732467, 6.66399765, 7.78293204]),\n",
              " 'score_time': array([0.56388974, 0.51835132, 0.42575288, 0.34615898, 0.47128081,\n",
              "        0.3794167 , 0.37377381, 0.46061826, 0.42298532, 0.40573788]),\n",
              " 'test_precision_macro': array([0.50624228, 0.47178131, 0.48922559, 0.50347373, 0.53459577,\n",
              "        0.52165218, 0.52986597, 0.49491597, 0.48377679, 0.48713324]),\n",
              " 'test_recall_macro': array([0.51107174, 0.45      , 0.490625  , 0.50625   , 0.55520833,\n",
              "        0.53775047, 0.55294535, 0.49479155, 0.47165487, 0.47927383]),\n",
              " 'test_f1': array([0.25555556, 0.1954023 , 0.13559322, 0.25396825, 0.3035343 ,\n",
              "        0.28904429, 0.29362881, 0.16243655, 0.23887588, 0.20338983]),\n",
              " 'test_accuracy': array([0.5355286 , 0.51388889, 0.734375  , 0.51041667, 0.41840278,\n",
              "        0.47048611, 0.55729167, 0.71354167, 0.43576389, 0.59201389])}"
            ]
          },
          "metadata": {},
          "execution_count": 43
        }
      ]
    },
    {
      "cell_type": "markdown",
      "source": [
        "**Change C and See effect of it**"
      ],
      "metadata": {
        "id": "u6fRxWfdV8lu"
      }
    },
    {
      "cell_type": "code",
      "source": [
        "%pip install mlxtend --upgrade"
      ],
      "metadata": {
        "colab": {
          "base_uri": "https://localhost:8080/",
          "height": 644
        },
        "id": "WHHddntLfVYz",
        "outputId": "69e2112f-4202-419d-aa78-1a106072e388"
      },
      "execution_count": null,
      "outputs": [
        {
          "output_type": "stream",
          "name": "stdout",
          "text": [
            "Looking in indexes: https://pypi.org/simple, https://us-python.pkg.dev/colab-wheels/public/simple/\n",
            "Requirement already satisfied: mlxtend in /usr/local/lib/python3.9/dist-packages (0.14.0)\n",
            "Collecting mlxtend\n",
            "  Downloading mlxtend-0.21.0-py2.py3-none-any.whl (1.3 MB)\n",
            "\u001b[2K     \u001b[90m━━━━━━━━━━━━━━━━━━━━━━━━━━━━━━━━━━━━━━━━\u001b[0m \u001b[32m1.3/1.3 MB\u001b[0m \u001b[31m16.1 MB/s\u001b[0m eta \u001b[36m0:00:00\u001b[0m\n",
            "\u001b[?25hRequirement already satisfied: scipy>=1.2.1 in /usr/local/lib/python3.9/dist-packages (from mlxtend) (1.10.1)\n",
            "Requirement already satisfied: matplotlib>=3.0.0 in /usr/local/lib/python3.9/dist-packages (from mlxtend) (3.7.1)\n",
            "Requirement already satisfied: setuptools in /usr/local/lib/python3.9/dist-packages (from mlxtend) (67.6.0)\n",
            "Requirement already satisfied: joblib>=0.13.2 in /usr/local/lib/python3.9/dist-packages (from mlxtend) (1.1.1)\n",
            "Requirement already satisfied: pandas>=0.24.2 in /usr/local/lib/python3.9/dist-packages (from mlxtend) (1.4.4)\n",
            "Requirement already satisfied: scikit-learn>=1.0.2 in /usr/local/lib/python3.9/dist-packages (from mlxtend) (1.2.2)\n",
            "Requirement already satisfied: numpy>=1.16.2 in /usr/local/lib/python3.9/dist-packages (from mlxtend) (1.22.4)\n",
            "Requirement already satisfied: cycler>=0.10 in /usr/local/lib/python3.9/dist-packages (from matplotlib>=3.0.0->mlxtend) (0.11.0)\n",
            "Requirement already satisfied: pillow>=6.2.0 in /usr/local/lib/python3.9/dist-packages (from matplotlib>=3.0.0->mlxtend) (8.4.0)\n",
            "Requirement already satisfied: fonttools>=4.22.0 in /usr/local/lib/python3.9/dist-packages (from matplotlib>=3.0.0->mlxtend) (4.39.2)\n",
            "Requirement already satisfied: python-dateutil>=2.7 in /usr/local/lib/python3.9/dist-packages (from matplotlib>=3.0.0->mlxtend) (2.8.2)\n",
            "Requirement already satisfied: packaging>=20.0 in /usr/local/lib/python3.9/dist-packages (from matplotlib>=3.0.0->mlxtend) (23.0)\n",
            "Requirement already satisfied: pyparsing>=2.3.1 in /usr/local/lib/python3.9/dist-packages (from matplotlib>=3.0.0->mlxtend) (3.0.9)\n",
            "Requirement already satisfied: contourpy>=1.0.1 in /usr/local/lib/python3.9/dist-packages (from matplotlib>=3.0.0->mlxtend) (1.0.7)\n",
            "Requirement already satisfied: importlib-resources>=3.2.0 in /usr/local/lib/python3.9/dist-packages (from matplotlib>=3.0.0->mlxtend) (5.12.0)\n",
            "Requirement already satisfied: kiwisolver>=1.0.1 in /usr/local/lib/python3.9/dist-packages (from matplotlib>=3.0.0->mlxtend) (1.4.4)\n",
            "Requirement already satisfied: pytz>=2020.1 in /usr/local/lib/python3.9/dist-packages (from pandas>=0.24.2->mlxtend) (2022.7.1)\n",
            "Requirement already satisfied: threadpoolctl>=2.0.0 in /usr/local/lib/python3.9/dist-packages (from scikit-learn>=1.0.2->mlxtend) (3.1.0)\n",
            "Requirement already satisfied: zipp>=3.1.0 in /usr/local/lib/python3.9/dist-packages (from importlib-resources>=3.2.0->matplotlib>=3.0.0->mlxtend) (3.15.0)\n",
            "Requirement already satisfied: six>=1.5 in /usr/local/lib/python3.9/dist-packages (from python-dateutil>=2.7->matplotlib>=3.0.0->mlxtend) (1.16.0)\n",
            "Installing collected packages: mlxtend\n",
            "  Attempting uninstall: mlxtend\n",
            "    Found existing installation: mlxtend 0.14.0\n",
            "    Uninstalling mlxtend-0.14.0:\n",
            "      Successfully uninstalled mlxtend-0.14.0\n",
            "Successfully installed mlxtend-0.21.0\n"
          ]
        },
        {
          "output_type": "display_data",
          "data": {
            "application/vnd.colab-display-data+json": {
              "pip_warning": {
                "packages": [
                  "mlxtend"
                ]
              }
            }
          },
          "metadata": {}
        }
      ]
    },
    {
      "cell_type": "code",
      "source": [
        "import mlxtend"
      ],
      "metadata": {
        "id": "QweaEKaIhUDI"
      },
      "execution_count": null,
      "outputs": []
    },
    {
      "cell_type": "code",
      "source": [
        "mlxtend.__version__"
      ],
      "metadata": {
        "colab": {
          "base_uri": "https://localhost:8080/",
          "height": 35
        },
        "id": "WoldKrRkhAzr",
        "outputId": "d3d3e5ad-be72-49a2-8adf-bfc918f79ff7"
      },
      "execution_count": null,
      "outputs": [
        {
          "output_type": "execute_result",
          "data": {
            "text/plain": [
              "'0.21.0'"
            ],
            "application/vnd.google.colaboratory.intrinsic+json": {
              "type": "string"
            }
          },
          "metadata": {},
          "execution_count": 2
        }
      ]
    },
    {
      "cell_type": "code",
      "source": [
        "from sklearn.metrics import accuracy_score\n",
        "\n",
        "\n",
        "Cs = np.logspace(-3, 3, 7)\n",
        "\n",
        "list_bias = []\n",
        "list_var = []\n",
        "list_acc = []\n",
        "list_f1 = []\n",
        "# Loop over different values for parameter C, and print bias and variance\n",
        "for C in Cs:\n",
        "    svc = SVC(kernel='sigmoid',gamma=0.01, C=C)\n",
        "    svc.fit(xtrain, ytrain)\n",
        "\n",
        "    y_pred = svc.predict(xtest)\n",
        "    # calculate accuracy score and bias/variance\n",
        "    acc = accuracy_score(ytest, y_pred)\n",
        "    bias = 1 - acc\n",
        "    var = svc.score(xtrain, ytrain) - acc\n",
        "    f1 = f1_score(ytest, y_pred)\n",
        "    list_bias.append(bias)\n",
        "    list_var.append(var)\n",
        "    list_acc.append(acc)\n",
        "    list_f1.append(f1)\n",
        "\n",
        "    print(\"C = {},f1_score = {:.3f} accuracy = {:.3f}, bias = {:.3f}, variance = {:.3f}\".format(C,f1, acc, bias, var))\n",
        "\n"
      ],
      "metadata": {
        "colab": {
          "base_uri": "https://localhost:8080/"
        },
        "id": "m4s3KmngZvqm",
        "outputId": "c251b0d6-f6b6-4c0e-ac40-a2af155f79d2"
      },
      "execution_count": null,
      "outputs": [
        {
          "output_type": "stream",
          "name": "stdout",
          "text": [
            "C = 0.001,f1_score = 0.000 accuracy = 0.832, bias = 0.168, variance = 0.001\n",
            "C = 0.01,f1_score = 0.049 accuracy = 0.800, bias = 0.200, variance = 0.004\n",
            "C = 0.1,f1_score = 0.049 accuracy = 0.800, bias = 0.200, variance = 0.004\n",
            "C = 1.0,f1_score = 0.124 accuracy = 0.742, bias = 0.258, variance = 0.008\n",
            "C = 10.0,f1_score = 0.124 accuracy = 0.742, bias = 0.258, variance = 0.008\n",
            "C = 100.0,f1_score = 0.124 accuracy = 0.742, bias = 0.258, variance = 0.008\n",
            "C = 1000.0,f1_score = 0.124 accuracy = 0.742, bias = 0.258, variance = 0.008\n"
          ]
        }
      ]
    },
    {
      "cell_type": "code",
      "source": [
        " # Plot the bias and variance\n",
        "plt.plot(Cs, list_var, marker='o', color=\"red\")\n",
        "    \n",
        "plt.xlabel(\"C\")\n",
        "plt.ylabel(\"Variance\")\n",
        "plt.title(\"C-Variance\")\n",
        "plt.show()"
      ],
      "metadata": {
        "colab": {
          "base_uri": "https://localhost:8080/",
          "height": 295
        },
        "id": "JJm8CElUrpPQ",
        "outputId": "99cfe9e8-f5c0-4d31-9973-233527c49c30"
      },
      "execution_count": null,
      "outputs": [
        {
          "output_type": "display_data",
          "data": {
            "text/plain": [
              "<Figure size 432x288 with 1 Axes>"
            ],
            "image/png": "[encoded data removed]"
          },
          "metadata": {
            "needs_background": "light"
          }
        }
      ]
    },
    {
      "cell_type": "code",
      "source": [
        "plt.plot(Cs, list_bias, marker='o', color=\"red\")\n",
        "    \n",
        "plt.xlabel(\"C\")\n",
        "plt.ylabel(\"bias\")\n",
        "plt.title(\"C-bias\")\n",
        "plt.show()"
      ],
      "metadata": {
        "colab": {
          "base_uri": "https://localhost:8080/",
          "height": 295
        },
        "id": "OM63AUkhsKG8",
        "outputId": "887ba673-96f7-4693-b5ce-20132ced406d"
      },
      "execution_count": null,
      "outputs": [
        {
          "output_type": "display_data",
          "data": {
            "text/plain": [
              "<Figure size 432x288 with 1 Axes>"
            ],
            "image/png": "[encoded data removed]"
          },
          "metadata": {
            "needs_background": "light"
          }
        }
      ]
    },
    {
      "cell_type": "code",
      "source": [
        "plt.plot(list_bias, list_var, marker='o', color=\"red\")\n",
        "    \n",
        "plt.xlabel(\"bias\")\n",
        "plt.ylabel(\"Variance\")\n",
        "plt.title(\"bias_variance\")\n",
        "plt.show()"
      ],
      "metadata": {
        "colab": {
          "base_uri": "https://localhost:8080/",
          "height": 295
        },
        "id": "T_O5yIKFsWuj",
        "outputId": "1603b840-da82-41cc-c6e7-7c8a0a2f2925"
      },
      "execution_count": null,
      "outputs": [
        {
          "output_type": "display_data",
          "data": {
            "text/plain": [
              "<Figure size 432x288 with 1 Axes>"
            ],
            "image/png": "[encoded data removed]"
          },
          "metadata": {
            "needs_background": "light"
          }
        }
      ]
    }
  ],
  "metadata": {
    "anaconda-cloud": {},
    "colab": {
      "provenance": []
    },
    "kernelspec": {
      "display_name": "Python 3",
      "language": "python",
      "name": "python3"
    },
    "language_info": {
      "codemirror_mode": {
        "name": "ipython",
        "version": 3
      },
      "file_extension": ".py",
      "mimetype": "text/x-python",
      "name": "python",
      "nbconvert_exporter": "python",
      "pygments_lexer": "ipython3",
      "version": "3.7.6"
    }
  },
  "nbformat": 4,
  "nbformat_minor": 0
}