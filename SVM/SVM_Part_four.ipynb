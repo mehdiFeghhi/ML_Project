{
  "cells": [
    {
      "cell_type": "code",
      "execution_count": null,
      "metadata": {
        "pycharm": {
          "name": "#%%\n"
        },
        "id": "nL_4deETkvft"
      },
      "outputs": [],
      "source": [
        "import warnings\n",
        "import numpy as np\n",
        "import pandas as pd\n",
        "import seaborn as sns\n",
        "import matplotlib.pyplot as plt\n",
        "plt.style.use('fivethirtyeight')\n",
        "warnings.filterwarnings(\"ignore\")\n",
        "from sklearn.preprocessing import StandardScaler\n",
        "\n",
        "from sklearn.model_selection import train_test_split"
      ]
    },
    {
      "cell_type": "markdown",
      "metadata": {
        "id": "mR3wINj3kvfv"
      },
      "source": [
        "#### <font color = blue>Import the Dataset"
      ]
    },
    {
      "cell_type": "code",
      "execution_count": null,
      "metadata": {
        "pycharm": {
          "name": "#%%\n"
        },
        "colab": {
          "base_uri": "https://localhost:8080/",
          "height": 206
        },
        "id": "4OJsMSgKkvfw",
        "outputId": "e32adaf0-96d5-4e72-8760-0e7257bfe558"
      },
      "outputs": [
        {
          "output_type": "execute_result",
          "data": {
            "text/plain": [
              "   instant      dteday  season  yr  mnth  holiday  weekday  workingday  \\\n",
              "0        1  01-01-2018       1   0     1        0        6           0   \n",
              "1        2  02-01-2018       1   0     1        0        0           0   \n",
              "2        3  03-01-2018       1   0     1        0        1           1   \n",
              "3        4  04-01-2018       1   0     1        0        2           1   \n",
              "4        5  05-01-2018       1   0     1        0        3           1   \n",
              "\n",
              "   weathersit       temp     atemp      hum  windspeed  casual  registered  \\\n",
              "0           2  14.110847  18.18125  80.5833  10.749882     331         654   \n",
              "1           2  14.902598  17.68695  69.6087  16.652113     131         670   \n",
              "2           1   8.050924   9.47025  43.7273  16.636703     120        1229   \n",
              "3           1   8.200000  10.60610  59.0435  10.739832     108        1454   \n",
              "4           1   9.305237  11.46350  43.6957  12.522300      82        1518   \n",
              "\n",
              "    cnt  \n",
              "0   985  \n",
              "1   801  \n",
              "2  1349  \n",
              "3  1562  \n",
              "4  1600  "
            ],
            "text/html": [
              "\n",
              "  <div id=\"df-a582eff3-f10d-40ec-9723-a8755d93bcf8\">\n",
              "    <div class=\"colab-df-container\">\n",
              "      <div>\n",
              "<style scoped>\n",
              "    .dataframe tbody tr th:only-of-type {\n",
              "        vertical-align: middle;\n",
              "    }\n",
              "\n",
              "    .dataframe tbody tr th {\n",
              "        vertical-align: top;\n",
              "    }\n",
              "\n",
              "    .dataframe thead th {\n",
              "        text-align: right;\n",
              "    }\n",
              "</style>\n",
              "<table border=\"1\" class=\"dataframe\">\n",
              "  <thead>\n",
              "    <tr style=\"text-align: right;\">\n",
              "      <th></th>\n",
              "      <th>instant</th>\n",
              "      <th>dteday</th>\n",
              "      <th>season</th>\n",
              "      <th>yr</th>\n",
              "      <th>mnth</th>\n",
              "      <th>holiday</th>\n",
              "      <th>weekday</th>\n",
              "      <th>workingday</th>\n",
              "      <th>weathersit</th>\n",
              "      <th>temp</th>\n",
              "      <th>atemp</th>\n",
              "      <th>hum</th>\n",
              "      <th>windspeed</th>\n",
              "      <th>casual</th>\n",
              "      <th>registered</th>\n",
              "      <th>cnt</th>\n",
              "    </tr>\n",
              "  </thead>\n",
              "  <tbody>\n",
              "    <tr>\n",
              "      <th>0</th>\n",
              "      <td>1</td>\n",
              "      <td>01-01-2018</td>\n",
              "      <td>1</td>\n",
              "      <td>0</td>\n",
              "      <td>1</td>\n",
              "      <td>0</td>\n",
              "      <td>6</td>\n",
              "      <td>0</td>\n",
              "      <td>2</td>\n",
              "      <td>14.110847</td>\n",
              "      <td>18.18125</td>\n",
              "      <td>80.5833</td>\n",
              "      <td>10.749882</td>\n",
              "      <td>331</td>\n",
              "      <td>654</td>\n",
              "      <td>985</td>\n",
              "    </tr>\n",
              "    <tr>\n",
              "      <th>1</th>\n",
              "      <td>2</td>\n",
              "      <td>02-01-2018</td>\n",
              "      <td>1</td>\n",
              "      <td>0</td>\n",
              "      <td>1</td>\n",
              "      <td>0</td>\n",
              "      <td>0</td>\n",
              "      <td>0</td>\n",
              "      <td>2</td>\n",
              "      <td>14.902598</td>\n",
              "      <td>17.68695</td>\n",
              "      <td>69.6087</td>\n",
              "      <td>16.652113</td>\n",
              "      <td>131</td>\n",
              "      <td>670</td>\n",
              "      <td>801</td>\n",
              "    </tr>\n",
              "    <tr>\n",
              "      <th>2</th>\n",
              "      <td>3</td>\n",
              "      <td>03-01-2018</td>\n",
              "      <td>1</td>\n",
              "      <td>0</td>\n",
              "      <td>1</td>\n",
              "      <td>0</td>\n",
              "      <td>1</td>\n",
              "      <td>1</td>\n",
              "      <td>1</td>\n",
              "      <td>8.050924</td>\n",
              "      <td>9.47025</td>\n",
              "      <td>43.7273</td>\n",
              "      <td>16.636703</td>\n",
              "      <td>120</td>\n",
              "      <td>1229</td>\n",
              "      <td>1349</td>\n",
              "    </tr>\n",
              "    <tr>\n",
              "      <th>3</th>\n",
              "      <td>4</td>\n",
              "      <td>04-01-2018</td>\n",
              "      <td>1</td>\n",
              "      <td>0</td>\n",
              "      <td>1</td>\n",
              "      <td>0</td>\n",
              "      <td>2</td>\n",
              "      <td>1</td>\n",
              "      <td>1</td>\n",
              "      <td>8.200000</td>\n",
              "      <td>10.60610</td>\n",
              "      <td>59.0435</td>\n",
              "      <td>10.739832</td>\n",
              "      <td>108</td>\n",
              "      <td>1454</td>\n",
              "      <td>1562</td>\n",
              "    </tr>\n",
              "    <tr>\n",
              "      <th>4</th>\n",
              "      <td>5</td>\n",
              "      <td>05-01-2018</td>\n",
              "      <td>1</td>\n",
              "      <td>0</td>\n",
              "      <td>1</td>\n",
              "      <td>0</td>\n",
              "      <td>3</td>\n",
              "      <td>1</td>\n",
              "      <td>1</td>\n",
              "      <td>9.305237</td>\n",
              "      <td>11.46350</td>\n",
              "      <td>43.6957</td>\n",
              "      <td>12.522300</td>\n",
              "      <td>82</td>\n",
              "      <td>1518</td>\n",
              "      <td>1600</td>\n",
              "    </tr>\n",
              "  </tbody>\n",
              "</table>\n",
              "</div>\n",
              "      <button class=\"colab-df-convert\" onclick=\"convertToInteractive('df-a582eff3-f10d-40ec-9723-a8755d93bcf8')\"\n",
              "              title=\"Convert this dataframe to an interactive table.\"\n",
              "              style=\"display:none;\">\n",
              "        \n",
              "  <svg xmlns=\"http://www.w3.org/2000/svg\" height=\"24px\"viewBox=\"0 0 24 24\"\n",
              "       width=\"24px\">\n",
              "    <path d=\"M0 0h24v24H0V0z\" fill=\"none\"/>\n",
              "    <path d=\"M18.56 5.44l.94 2.06.94-2.06 2.06-.94-2.06-.94-.94-2.06-.94 2.06-2.06.94zm-11 1L8.5 8.5l.94-2.06 2.06-.94-2.06-.94L8.5 2.5l-.94 2.06-2.06.94zm10 10l.94 2.06.94-2.06 2.06-.94-2.06-.94-.94-2.06-.94 2.06-2.06.94z\"/><path d=\"M17.41 7.96l-1.37-1.37c-.4-.4-.92-.59-1.43-.59-.52 0-1.04.2-1.43.59L10.3 9.45l-7.72 7.72c-.78.78-.78 2.05 0 2.83L4 21.41c.39.39.9.59 1.41.59.51 0 1.02-.2 1.41-.59l7.78-7.78 2.81-2.81c.8-.78.8-2.07 0-2.86zM5.41 20L4 18.59l7.72-7.72 1.47 1.35L5.41 20z\"/>\n",
              "  </svg>\n",
              "      </button>\n",
              "      \n",
              "  <style>\n",
              "    .colab-df-container {\n",
              "      display:flex;\n",
              "      flex-wrap:wrap;\n",
              "      gap: 12px;\n",
              "    }\n",
              "\n",
              "    .colab-df-convert {\n",
              "      background-color: #E8F0FE;\n",
              "      border: none;\n",
              "      border-radius: 50%;\n",
              "      cursor: pointer;\n",
              "      display: none;\n",
              "      fill: #1967D2;\n",
              "      height: 32px;\n",
              "      padding: 0 0 0 0;\n",
              "      width: 32px;\n",
              "    }\n",
              "\n",
              "    .colab-df-convert:hover {\n",
              "      background-color: #E2EBFA;\n",
              "      box-shadow: 0px 1px 2px rgba(60, 64, 67, 0.3), 0px 1px 3px 1px rgba(60, 64, 67, 0.15);\n",
              "      fill: #174EA6;\n",
              "    }\n",
              "\n",
              "    [theme=dark] .colab-df-convert {\n",
              "      background-color: #3B4455;\n",
              "      fill: #D2E3FC;\n",
              "    }\n",
              "\n",
              "    [theme=dark] .colab-df-convert:hover {\n",
              "      background-color: #434B5C;\n",
              "      box-shadow: 0px 1px 3px 1px rgba(0, 0, 0, 0.15);\n",
              "      filter: drop-shadow(0px 1px 2px rgba(0, 0, 0, 0.3));\n",
              "      fill: #FFFFFF;\n",
              "    }\n",
              "  </style>\n",
              "\n",
              "      <script>\n",
              "        const buttonEl =\n",
              "          document.querySelector('#df-a582eff3-f10d-40ec-9723-a8755d93bcf8 button.colab-df-convert');\n",
              "        buttonEl.style.display =\n",
              "          google.colab.kernel.accessAllowed ? 'block' : 'none';\n",
              "\n",
              "        async function convertToInteractive(key) {\n",
              "          const element = document.querySelector('#df-a582eff3-f10d-40ec-9723-a8755d93bcf8');\n",
              "          const dataTable =\n",
              "            await google.colab.kernel.invokeFunction('convertToInteractive',\n",
              "                                                     [key], {});\n",
              "          if (!dataTable) return;\n",
              "\n",
              "          const docLinkHtml = 'Like what you see? Visit the ' +\n",
              "            '<a target=\"_blank\" href=https://colab.research.google.com/notebooks/data_table.ipynb>data table notebook</a>'\n",
              "            + ' to learn more about interactive tables.';\n",
              "          element.innerHTML = '';\n",
              "          dataTable['output_type'] = 'display_data';\n",
              "          await google.colab.output.renderOutput(dataTable, element);\n",
              "          const docLink = document.createElement('div');\n",
              "          docLink.innerHTML = docLinkHtml;\n",
              "          element.appendChild(docLink);\n",
              "        }\n",
              "      </script>\n",
              "    </div>\n",
              "  </div>\n",
              "  "
            ]
          },
          "metadata": {},
          "execution_count": 6
        }
      ],
      "source": [
        "df = pd.read_csv(\"Dataset/day.csv\")\n",
        "df.head()"
      ]
    },
    {
      "cell_type": "markdown",
      "metadata": {
        "id": "OUM1IVTWkvfy"
      },
      "source": [
        "#### <font color = blue>Data shape"
      ]
    },
    {
      "cell_type": "code",
      "execution_count": null,
      "metadata": {
        "pycharm": {
          "name": "#%%\n"
        },
        "colab": {
          "base_uri": "https://localhost:8080/"
        },
        "id": "xqlZBuLqkvfz",
        "outputId": "15954ed5-f4c3-4d80-f372-af818d1d374e"
      },
      "outputs": [
        {
          "output_type": "stream",
          "name": "stdout",
          "text": [
            "Number of columns: 16\n",
            "Number of rows:  730\n"
          ]
        }
      ],
      "source": [
        "print(\"Number of columns:\", df.shape[1])\n",
        "print(\"Number of rows: \", df.shape[0])"
      ]
    },
    {
      "cell_type": "markdown",
      "metadata": {
        "id": "u0DAL4-zkvf0"
      },
      "source": [
        "#### <font color = blue>Data Info"
      ]
    },
    {
      "cell_type": "code",
      "execution_count": null,
      "metadata": {
        "colab": {
          "base_uri": "https://localhost:8080/"
        },
        "id": "KZFZujNKkvf0",
        "outputId": "8181dff2-eca5-44cb-8ab6-efe2c74a6612"
      },
      "outputs": [
        {
          "output_type": "stream",
          "name": "stdout",
          "text": [
            "<class 'pandas.core.frame.DataFrame'>\n",
            "RangeIndex: 730 entries, 0 to 729\n",
            "Data columns (total 16 columns):\n",
            " #   Column      Non-Null Count  Dtype  \n",
            "---  ------      --------------  -----  \n",
            " 0   instant     730 non-null    int64  \n",
            " 1   dteday      730 non-null    object \n",
            " 2   season      730 non-null    int64  \n",
            " 3   yr          730 non-null    int64  \n",
            " 4   mnth        730 non-null    int64  \n",
            " 5   holiday     730 non-null    int64  \n",
            " 6   weekday     730 non-null    int64  \n",
            " 7   workingday  730 non-null    int64  \n",
            " 8   weathersit  730 non-null    int64  \n",
            " 9   temp        730 non-null    float64\n",
            " 10  atemp       730 non-null    float64\n",
            " 11  hum         730 non-null    float64\n",
            " 12  windspeed   730 non-null    float64\n",
            " 13  casual      730 non-null    int64  \n",
            " 14  registered  730 non-null    int64  \n",
            " 15  cnt         730 non-null    int64  \n",
            "dtypes: float64(4), int64(11), object(1)\n",
            "memory usage: 91.4+ KB\n"
          ]
        }
      ],
      "source": [
        "df.info()"
      ]
    },
    {
      "cell_type": "markdown",
      "metadata": {
        "id": "3dvUhBqDkvf1"
      },
      "source": [
        "#### <font color = blue>Data Description"
      ]
    },
    {
      "cell_type": "code",
      "execution_count": null,
      "metadata": {
        "colab": {
          "base_uri": "https://localhost:8080/",
          "height": 364
        },
        "id": "eHjOVY2Mkvf2",
        "outputId": "3d9f20d6-4f9e-43d9-9556-f0ab179cf67c"
      },
      "outputs": [
        {
          "output_type": "execute_result",
          "data": {
            "text/plain": [
              "          instant      season          yr        mnth     holiday     weekday  \\\n",
              "count  730.000000  730.000000  730.000000  730.000000  730.000000  730.000000   \n",
              "mean   365.500000    2.498630    0.500000    6.526027    0.028767    2.997260   \n",
              "std    210.877136    1.110184    0.500343    3.450215    0.167266    2.006161   \n",
              "min      1.000000    1.000000    0.000000    1.000000    0.000000    0.000000   \n",
              "25%    183.250000    2.000000    0.000000    4.000000    0.000000    1.000000   \n",
              "50%    365.500000    3.000000    0.500000    7.000000    0.000000    3.000000   \n",
              "75%    547.750000    3.000000    1.000000   10.000000    0.000000    5.000000   \n",
              "max    730.000000    4.000000    1.000000   12.000000    1.000000    6.000000   \n",
              "\n",
              "       workingday  weathersit        temp       atemp         hum   windspeed  \\\n",
              "count  730.000000  730.000000  730.000000  730.000000  730.000000  730.000000   \n",
              "mean     0.683562    1.394521   20.319259   23.726322   62.765175   12.763620   \n",
              "std      0.465405    0.544807    7.506729    8.150308   14.237589    5.195841   \n",
              "min      0.000000    1.000000    2.424346    3.953480    0.000000    1.500244   \n",
              "25%      0.000000    1.000000   13.811885   16.889713   52.000000    9.041650   \n",
              "50%      1.000000    1.000000   20.465826   24.368225   62.625000   12.125325   \n",
              "75%      1.000000    2.000000   26.880615   30.445775   72.989575   15.625589   \n",
              "max      1.000000    3.000000   35.328347   42.044800   97.250000   34.000021   \n",
              "\n",
              "            casual   registered          cnt  \n",
              "count   730.000000   730.000000   730.000000  \n",
              "mean    849.249315  3658.757534  4508.006849  \n",
              "std     686.479875  1559.758728  1936.011647  \n",
              "min       2.000000    20.000000    22.000000  \n",
              "25%     316.250000  2502.250000  3169.750000  \n",
              "50%     717.000000  3664.500000  4548.500000  \n",
              "75%    1096.500000  4783.250000  5966.000000  \n",
              "max    3410.000000  6946.000000  8714.000000  "
            ],
            "text/html": [
              "\n",
              "  <div id=\"df-9d90cac8-93c0-4339-b297-502f1d0f8282\">\n",
              "    <div class=\"colab-df-container\">\n",
              "      <div>\n",
              "<style scoped>\n",
              "    .dataframe tbody tr th:only-of-type {\n",
              "        vertical-align: middle;\n",
              "    }\n",
              "\n",
              "    .dataframe tbody tr th {\n",
              "        vertical-align: top;\n",
              "    }\n",
              "\n",
              "    .dataframe thead th {\n",
              "        text-align: right;\n",
              "    }\n",
              "</style>\n",
              "<table border=\"1\" class=\"dataframe\">\n",
              "  <thead>\n",
              "    <tr style=\"text-align: right;\">\n",
              "      <th></th>\n",
              "      <th>instant</th>\n",
              "      <th>season</th>\n",
              "      <th>yr</th>\n",
              "      <th>mnth</th>\n",
              "      <th>holiday</th>\n",
              "      <th>weekday</th>\n",
              "      <th>workingday</th>\n",
              "      <th>weathersit</th>\n",
              "      <th>temp</th>\n",
              "      <th>atemp</th>\n",
              "      <th>hum</th>\n",
              "      <th>windspeed</th>\n",
              "      <th>casual</th>\n",
              "      <th>registered</th>\n",
              "      <th>cnt</th>\n",
              "    </tr>\n",
              "  </thead>\n",
              "  <tbody>\n",
              "    <tr>\n",
              "      <th>count</th>\n",
              "      <td>730.000000</td>\n",
              "      <td>730.000000</td>\n",
              "      <td>730.000000</td>\n",
              "      <td>730.000000</td>\n",
              "      <td>730.000000</td>\n",
              "      <td>730.000000</td>\n",
              "      <td>730.000000</td>\n",
              "      <td>730.000000</td>\n",
              "      <td>730.000000</td>\n",
              "      <td>730.000000</td>\n",
              "      <td>730.000000</td>\n",
              "      <td>730.000000</td>\n",
              "      <td>730.000000</td>\n",
              "      <td>730.000000</td>\n",
              "      <td>730.000000</td>\n",
              "    </tr>\n",
              "    <tr>\n",
              "      <th>mean</th>\n",
              "      <td>365.500000</td>\n",
              "      <td>2.498630</td>\n",
              "      <td>0.500000</td>\n",
              "      <td>6.526027</td>\n",
              "      <td>0.028767</td>\n",
              "      <td>2.997260</td>\n",
              "      <td>0.683562</td>\n",
              "      <td>1.394521</td>\n",
              "      <td>20.319259</td>\n",
              "      <td>23.726322</td>\n",
              "      <td>62.765175</td>\n",
              "      <td>12.763620</td>\n",
              "      <td>849.249315</td>\n",
              "      <td>3658.757534</td>\n",
              "      <td>4508.006849</td>\n",
              "    </tr>\n",
              "    <tr>\n",
              "      <th>std</th>\n",
              "      <td>210.877136</td>\n",
              "      <td>1.110184</td>\n",
              "      <td>0.500343</td>\n",
              "      <td>3.450215</td>\n",
              "      <td>0.167266</td>\n",
              "      <td>2.006161</td>\n",
              "      <td>0.465405</td>\n",
              "      <td>0.544807</td>\n",
              "      <td>7.506729</td>\n",
              "      <td>8.150308</td>\n",
              "      <td>14.237589</td>\n",
              "      <td>5.195841</td>\n",
              "      <td>686.479875</td>\n",
              "      <td>1559.758728</td>\n",
              "      <td>1936.011647</td>\n",
              "    </tr>\n",
              "    <tr>\n",
              "      <th>min</th>\n",
              "      <td>1.000000</td>\n",
              "      <td>1.000000</td>\n",
              "      <td>0.000000</td>\n",
              "      <td>1.000000</td>\n",
              "      <td>0.000000</td>\n",
              "      <td>0.000000</td>\n",
              "      <td>0.000000</td>\n",
              "      <td>1.000000</td>\n",
              "      <td>2.424346</td>\n",
              "      <td>3.953480</td>\n",
              "      <td>0.000000</td>\n",
              "      <td>1.500244</td>\n",
              "      <td>2.000000</td>\n",
              "      <td>20.000000</td>\n",
              "      <td>22.000000</td>\n",
              "    </tr>\n",
              "    <tr>\n",
              "      <th>25%</th>\n",
              "      <td>183.250000</td>\n",
              "      <td>2.000000</td>\n",
              "      <td>0.000000</td>\n",
              "      <td>4.000000</td>\n",
              "      <td>0.000000</td>\n",
              "      <td>1.000000</td>\n",
              "      <td>0.000000</td>\n",
              "      <td>1.000000</td>\n",
              "      <td>13.811885</td>\n",
              "      <td>16.889713</td>\n",
              "      <td>52.000000</td>\n",
              "      <td>9.041650</td>\n",
              "      <td>316.250000</td>\n",
              "      <td>2502.250000</td>\n",
              "      <td>3169.750000</td>\n",
              "    </tr>\n",
              "    <tr>\n",
              "      <th>50%</th>\n",
              "      <td>365.500000</td>\n",
              "      <td>3.000000</td>\n",
              "      <td>0.500000</td>\n",
              "      <td>7.000000</td>\n",
              "      <td>0.000000</td>\n",
              "      <td>3.000000</td>\n",
              "      <td>1.000000</td>\n",
              "      <td>1.000000</td>\n",
              "      <td>20.465826</td>\n",
              "      <td>24.368225</td>\n",
              "      <td>62.625000</td>\n",
              "      <td>12.125325</td>\n",
              "      <td>717.000000</td>\n",
              "      <td>3664.500000</td>\n",
              "      <td>4548.500000</td>\n",
              "    </tr>\n",
              "    <tr>\n",
              "      <th>75%</th>\n",
              "      <td>547.750000</td>\n",
              "      <td>3.000000</td>\n",
              "      <td>1.000000</td>\n",
              "      <td>10.000000</td>\n",
              "      <td>0.000000</td>\n",
              "      <td>5.000000</td>\n",
              "      <td>1.000000</td>\n",
              "      <td>2.000000</td>\n",
              "      <td>26.880615</td>\n",
              "      <td>30.445775</td>\n",
              "      <td>72.989575</td>\n",
              "      <td>15.625589</td>\n",
              "      <td>1096.500000</td>\n",
              "      <td>4783.250000</td>\n",
              "      <td>5966.000000</td>\n",
              "    </tr>\n",
              "    <tr>\n",
              "      <th>max</th>\n",
              "      <td>730.000000</td>\n",
              "      <td>4.000000</td>\n",
              "      <td>1.000000</td>\n",
              "      <td>12.000000</td>\n",
              "      <td>1.000000</td>\n",
              "      <td>6.000000</td>\n",
              "      <td>1.000000</td>\n",
              "      <td>3.000000</td>\n",
              "      <td>35.328347</td>\n",
              "      <td>42.044800</td>\n",
              "      <td>97.250000</td>\n",
              "      <td>34.000021</td>\n",
              "      <td>3410.000000</td>\n",
              "      <td>6946.000000</td>\n",
              "      <td>8714.000000</td>\n",
              "    </tr>\n",
              "  </tbody>\n",
              "</table>\n",
              "</div>\n",
              "      <button class=\"colab-df-convert\" onclick=\"convertToInteractive('df-9d90cac8-93c0-4339-b297-502f1d0f8282')\"\n",
              "              title=\"Convert this dataframe to an interactive table.\"\n",
              "              style=\"display:none;\">\n",
              "        \n",
              "  <svg xmlns=\"http://www.w3.org/2000/svg\" height=\"24px\"viewBox=\"0 0 24 24\"\n",
              "       width=\"24px\">\n",
              "    <path d=\"M0 0h24v24H0V0z\" fill=\"none\"/>\n",
              "    <path d=\"M18.56 5.44l.94 2.06.94-2.06 2.06-.94-2.06-.94-.94-2.06-.94 2.06-2.06.94zm-11 1L8.5 8.5l.94-2.06 2.06-.94-2.06-.94L8.5 2.5l-.94 2.06-2.06.94zm10 10l.94 2.06.94-2.06 2.06-.94-2.06-.94-.94-2.06-.94 2.06-2.06.94z\"/><path d=\"M17.41 7.96l-1.37-1.37c-.4-.4-.92-.59-1.43-.59-.52 0-1.04.2-1.43.59L10.3 9.45l-7.72 7.72c-.78.78-.78 2.05 0 2.83L4 21.41c.39.39.9.59 1.41.59.51 0 1.02-.2 1.41-.59l7.78-7.78 2.81-2.81c.8-.78.8-2.07 0-2.86zM5.41 20L4 18.59l7.72-7.72 1.47 1.35L5.41 20z\"/>\n",
              "  </svg>\n",
              "      </button>\n",
              "      \n",
              "  <style>\n",
              "    .colab-df-container {\n",
              "      display:flex;\n",
              "      flex-wrap:wrap;\n",
              "      gap: 12px;\n",
              "    }\n",
              "\n",
              "    .colab-df-convert {\n",
              "      background-color: #E8F0FE;\n",
              "      border: none;\n",
              "      border-radius: 50%;\n",
              "      cursor: pointer;\n",
              "      display: none;\n",
              "      fill: #1967D2;\n",
              "      height: 32px;\n",
              "      padding: 0 0 0 0;\n",
              "      width: 32px;\n",
              "    }\n",
              "\n",
              "    .colab-df-convert:hover {\n",
              "      background-color: #E2EBFA;\n",
              "      box-shadow: 0px 1px 2px rgba(60, 64, 67, 0.3), 0px 1px 3px 1px rgba(60, 64, 67, 0.15);\n",
              "      fill: #174EA6;\n",
              "    }\n",
              "\n",
              "    [theme=dark] .colab-df-convert {\n",
              "      background-color: #3B4455;\n",
              "      fill: #D2E3FC;\n",
              "    }\n",
              "\n",
              "    [theme=dark] .colab-df-convert:hover {\n",
              "      background-color: #434B5C;\n",
              "      box-shadow: 0px 1px 3px 1px rgba(0, 0, 0, 0.15);\n",
              "      filter: drop-shadow(0px 1px 2px rgba(0, 0, 0, 0.3));\n",
              "      fill: #FFFFFF;\n",
              "    }\n",
              "  </style>\n",
              "\n",
              "      <script>\n",
              "        const buttonEl =\n",
              "          document.querySelector('#df-9d90cac8-93c0-4339-b297-502f1d0f8282 button.colab-df-convert');\n",
              "        buttonEl.style.display =\n",
              "          google.colab.kernel.accessAllowed ? 'block' : 'none';\n",
              "\n",
              "        async function convertToInteractive(key) {\n",
              "          const element = document.querySelector('#df-9d90cac8-93c0-4339-b297-502f1d0f8282');\n",
              "          const dataTable =\n",
              "            await google.colab.kernel.invokeFunction('convertToInteractive',\n",
              "                                                     [key], {});\n",
              "          if (!dataTable) return;\n",
              "\n",
              "          const docLinkHtml = 'Like what you see? Visit the ' +\n",
              "            '<a target=\"_blank\" href=https://colab.research.google.com/notebooks/data_table.ipynb>data table notebook</a>'\n",
              "            + ' to learn more about interactive tables.';\n",
              "          element.innerHTML = '';\n",
              "          dataTable['output_type'] = 'display_data';\n",
              "          await google.colab.output.renderOutput(dataTable, element);\n",
              "          const docLink = document.createElement('div');\n",
              "          docLink.innerHTML = docLinkHtml;\n",
              "          element.appendChild(docLink);\n",
              "        }\n",
              "      </script>\n",
              "    </div>\n",
              "  </div>\n",
              "  "
            ]
          },
          "metadata": {},
          "execution_count": 9
        }
      ],
      "source": [
        "df.describe()"
      ]
    },
    {
      "cell_type": "markdown",
      "metadata": {
        "id": "zHWsCTR1kvf2"
      },
      "source": [
        "#### <font color = blue> Check the Correaltion of Features"
      ]
    },
    {
      "cell_type": "code",
      "execution_count": null,
      "metadata": {
        "colab": {
          "base_uri": "https://localhost:8080/",
          "height": 662
        },
        "id": "QgEM6Fojkvf3",
        "outputId": "f49f9c37-42fd-493c-cfdc-f453f7917746"
      },
      "outputs": [
        {
          "output_type": "display_data",
          "data": {
            "text/plain": [
              "<Figure size 1152x648 with 2 Axes>"
            ],
            "image/png": "[encoded data removed]"
          },
          "metadata": {}
        }
      ],
      "source": [
        "# Define the figure size\n",
        "plt.figure(figsize = (16, 9))\n",
        "\n",
        "# Cutomize the annot\n",
        "annot_kws={'fontsize':10,                      # To change the size of the font\n",
        "           'fontstyle':'italic',               # To change the style of font \n",
        "           'fontfamily': 'serif',              # To change the family of font \n",
        "           'alpha':1 }                         # To change the transparency of the text  \n",
        "\n",
        "\n",
        "# Customize the cbar\n",
        "cbar_kws = {\"shrink\":1,                        # To change the size of the color bar\n",
        "            'extend':'min',                    # To change the end of the color bar like pointed\n",
        "            'extendfrac':0.1,                  # To adjust the extension of the color bar\n",
        "            \"drawedges\":True,                  # To draw lines (edges) on the color bar\n",
        "           }\n",
        "\n",
        "# take upper correlation matrix\n",
        "matrix = np.triu(df.corr())\n",
        "\n",
        "# Generate heatmap correlation\n",
        "ax = sns.heatmap(df.corr(), mask = matrix, cmap = 'rainbow', annot = True, linewidth = 1.5 ,annot_kws= annot_kws, cbar_kws=cbar_kws)\n",
        "\n",
        "# Set the title etc\n",
        "plt.title('Correlation Matrix', fontsize = 20)\n",
        "\n",
        "# Set the size of text\n",
        "sns.set(font_scale = 1.2)"
      ]
    },
    {
      "cell_type": "markdown",
      "metadata": {
        "id": "hE_dhFGXkvf6"
      },
      "source": [
        "## <font color = #950CDF> Part 2: </font> <font color = #4854E8> Data Preprocessing </font>"
      ]
    },
    {
      "cell_type": "markdown",
      "metadata": {
        "id": "Zv2iwA37kvf7"
      },
      "source": [
        "### <font color = #27C3E5> 2.1: </font> <font color = #41EA46> Check Missing Value </font>"
      ]
    },
    {
      "cell_type": "code",
      "execution_count": null,
      "metadata": {
        "pycharm": {
          "name": "#%%\n"
        },
        "colab": {
          "base_uri": "https://localhost:8080/"
        },
        "id": "Y1PctiLWkvf8",
        "outputId": "525521e6-3f1f-4562-9332-0434263c844e"
      },
      "outputs": [
        {
          "output_type": "execute_result",
          "data": {
            "text/plain": [
              "instant       0\n",
              "dteday        0\n",
              "season        0\n",
              "yr            0\n",
              "mnth          0\n",
              "holiday       0\n",
              "weekday       0\n",
              "workingday    0\n",
              "weathersit    0\n",
              "temp          0\n",
              "atemp         0\n",
              "hum           0\n",
              "windspeed     0\n",
              "casual        0\n",
              "registered    0\n",
              "cnt           0\n",
              "dtype: int64"
            ]
          },
          "metadata": {},
          "execution_count": 11
        }
      ],
      "source": [
        "df.isnull().sum()"
      ]
    },
    {
      "cell_type": "markdown",
      "metadata": {
        "id": "2z8FuBjkkvf8"
      },
      "source": [
        "no missig value found"
      ]
    },
    {
      "cell_type": "markdown",
      "metadata": {
        "id": "nuKbmhWgkvf9"
      },
      "source": [
        "### <font color = #27C3E5> 2.2: </font> <font color = #41EA46> Remove Unwanted Columns </font>"
      ]
    },
    {
      "cell_type": "code",
      "execution_count": null,
      "metadata": {
        "colab": {
          "base_uri": "https://localhost:8080/",
          "height": 206
        },
        "id": "nDXF5lxikvf9",
        "outputId": "6c36da63-3182-4dc4-c9bd-de0a6dadfaf9"
      },
      "outputs": [
        {
          "output_type": "execute_result",
          "data": {
            "text/plain": [
              "   season  yr  mnth  holiday  weekday  workingday  weathersit       temp  \\\n",
              "0       1   0     1        0        6           0           2  14.110847   \n",
              "1       1   0     1        0        0           0           2  14.902598   \n",
              "2       1   0     1        0        1           1           1   8.050924   \n",
              "3       1   0     1        0        2           1           1   8.200000   \n",
              "4       1   0     1        0        3           1           1   9.305237   \n",
              "\n",
              "      atemp      hum  windspeed  casual  registered   cnt  \n",
              "0  18.18125  80.5833  10.749882     331         654   985  \n",
              "1  17.68695  69.6087  16.652113     131         670   801  \n",
              "2   9.47025  43.7273  16.636703     120        1229  1349  \n",
              "3  10.60610  59.0435  10.739832     108        1454  1562  \n",
              "4  11.46350  43.6957  12.522300      82        1518  1600  "
            ],
            "text/html": [
              "\n",
              "  <div id=\"df-187265b7-3d08-4ffc-82e0-9951f3d99a45\">\n",
              "    <div class=\"colab-df-container\">\n",
              "      <div>\n",
              "<style scoped>\n",
              "    .dataframe tbody tr th:only-of-type {\n",
              "        vertical-align: middle;\n",
              "    }\n",
              "\n",
              "    .dataframe tbody tr th {\n",
              "        vertical-align: top;\n",
              "    }\n",
              "\n",
              "    .dataframe thead th {\n",
              "        text-align: right;\n",
              "    }\n",
              "</style>\n",
              "<table border=\"1\" class=\"dataframe\">\n",
              "  <thead>\n",
              "    <tr style=\"text-align: right;\">\n",
              "      <th></th>\n",
              "      <th>season</th>\n",
              "      <th>yr</th>\n",
              "      <th>mnth</th>\n",
              "      <th>holiday</th>\n",
              "      <th>weekday</th>\n",
              "      <th>workingday</th>\n",
              "      <th>weathersit</th>\n",
              "      <th>temp</th>\n",
              "      <th>atemp</th>\n",
              "      <th>hum</th>\n",
              "      <th>windspeed</th>\n",
              "      <th>casual</th>\n",
              "      <th>registered</th>\n",
              "      <th>cnt</th>\n",
              "    </tr>\n",
              "  </thead>\n",
              "  <tbody>\n",
              "    <tr>\n",
              "      <th>0</th>\n",
              "      <td>1</td>\n",
              "      <td>0</td>\n",
              "      <td>1</td>\n",
              "      <td>0</td>\n",
              "      <td>6</td>\n",
              "      <td>0</td>\n",
              "      <td>2</td>\n",
              "      <td>14.110847</td>\n",
              "      <td>18.18125</td>\n",
              "      <td>80.5833</td>\n",
              "      <td>10.749882</td>\n",
              "      <td>331</td>\n",
              "      <td>654</td>\n",
              "      <td>985</td>\n",
              "    </tr>\n",
              "    <tr>\n",
              "      <th>1</th>\n",
              "      <td>1</td>\n",
              "      <td>0</td>\n",
              "      <td>1</td>\n",
              "      <td>0</td>\n",
              "      <td>0</td>\n",
              "      <td>0</td>\n",
              "      <td>2</td>\n",
              "      <td>14.902598</td>\n",
              "      <td>17.68695</td>\n",
              "      <td>69.6087</td>\n",
              "      <td>16.652113</td>\n",
              "      <td>131</td>\n",
              "      <td>670</td>\n",
              "      <td>801</td>\n",
              "    </tr>\n",
              "    <tr>\n",
              "      <th>2</th>\n",
              "      <td>1</td>\n",
              "      <td>0</td>\n",
              "      <td>1</td>\n",
              "      <td>0</td>\n",
              "      <td>1</td>\n",
              "      <td>1</td>\n",
              "      <td>1</td>\n",
              "      <td>8.050924</td>\n",
              "      <td>9.47025</td>\n",
              "      <td>43.7273</td>\n",
              "      <td>16.636703</td>\n",
              "      <td>120</td>\n",
              "      <td>1229</td>\n",
              "      <td>1349</td>\n",
              "    </tr>\n",
              "    <tr>\n",
              "      <th>3</th>\n",
              "      <td>1</td>\n",
              "      <td>0</td>\n",
              "      <td>1</td>\n",
              "      <td>0</td>\n",
              "      <td>2</td>\n",
              "      <td>1</td>\n",
              "      <td>1</td>\n",
              "      <td>8.200000</td>\n",
              "      <td>10.60610</td>\n",
              "      <td>59.0435</td>\n",
              "      <td>10.739832</td>\n",
              "      <td>108</td>\n",
              "      <td>1454</td>\n",
              "      <td>1562</td>\n",
              "    </tr>\n",
              "    <tr>\n",
              "      <th>4</th>\n",
              "      <td>1</td>\n",
              "      <td>0</td>\n",
              "      <td>1</td>\n",
              "      <td>0</td>\n",
              "      <td>3</td>\n",
              "      <td>1</td>\n",
              "      <td>1</td>\n",
              "      <td>9.305237</td>\n",
              "      <td>11.46350</td>\n",
              "      <td>43.6957</td>\n",
              "      <td>12.522300</td>\n",
              "      <td>82</td>\n",
              "      <td>1518</td>\n",
              "      <td>1600</td>\n",
              "    </tr>\n",
              "  </tbody>\n",
              "</table>\n",
              "</div>\n",
              "      <button class=\"colab-df-convert\" onclick=\"convertToInteractive('df-187265b7-3d08-4ffc-82e0-9951f3d99a45')\"\n",
              "              title=\"Convert this dataframe to an interactive table.\"\n",
              "              style=\"display:none;\">\n",
              "        \n",
              "  <svg xmlns=\"http://www.w3.org/2000/svg\" height=\"24px\"viewBox=\"0 0 24 24\"\n",
              "       width=\"24px\">\n",
              "    <path d=\"M0 0h24v24H0V0z\" fill=\"none\"/>\n",
              "    <path d=\"M18.56 5.44l.94 2.06.94-2.06 2.06-.94-2.06-.94-.94-2.06-.94 2.06-2.06.94zm-11 1L8.5 8.5l.94-2.06 2.06-.94-2.06-.94L8.5 2.5l-.94 2.06-2.06.94zm10 10l.94 2.06.94-2.06 2.06-.94-2.06-.94-.94-2.06-.94 2.06-2.06.94z\"/><path d=\"M17.41 7.96l-1.37-1.37c-.4-.4-.92-.59-1.43-.59-.52 0-1.04.2-1.43.59L10.3 9.45l-7.72 7.72c-.78.78-.78 2.05 0 2.83L4 21.41c.39.39.9.59 1.41.59.51 0 1.02-.2 1.41-.59l7.78-7.78 2.81-2.81c.8-.78.8-2.07 0-2.86zM5.41 20L4 18.59l7.72-7.72 1.47 1.35L5.41 20z\"/>\n",
              "  </svg>\n",
              "      </button>\n",
              "      \n",
              "  <style>\n",
              "    .colab-df-container {\n",
              "      display:flex;\n",
              "      flex-wrap:wrap;\n",
              "      gap: 12px;\n",
              "    }\n",
              "\n",
              "    .colab-df-convert {\n",
              "      background-color: #E8F0FE;\n",
              "      border: none;\n",
              "      border-radius: 50%;\n",
              "      cursor: pointer;\n",
              "      display: none;\n",
              "      fill: #1967D2;\n",
              "      height: 32px;\n",
              "      padding: 0 0 0 0;\n",
              "      width: 32px;\n",
              "    }\n",
              "\n",
              "    .colab-df-convert:hover {\n",
              "      background-color: #E2EBFA;\n",
              "      box-shadow: 0px 1px 2px rgba(60, 64, 67, 0.3), 0px 1px 3px 1px rgba(60, 64, 67, 0.15);\n",
              "      fill: #174EA6;\n",
              "    }\n",
              "\n",
              "    [theme=dark] .colab-df-convert {\n",
              "      background-color: #3B4455;\n",
              "      fill: #D2E3FC;\n",
              "    }\n",
              "\n",
              "    [theme=dark] .colab-df-convert:hover {\n",
              "      background-color: #434B5C;\n",
              "      box-shadow: 0px 1px 3px 1px rgba(0, 0, 0, 0.15);\n",
              "      filter: drop-shadow(0px 1px 2px rgba(0, 0, 0, 0.3));\n",
              "      fill: #FFFFFF;\n",
              "    }\n",
              "  </style>\n",
              "\n",
              "      <script>\n",
              "        const buttonEl =\n",
              "          document.querySelector('#df-187265b7-3d08-4ffc-82e0-9951f3d99a45 button.colab-df-convert');\n",
              "        buttonEl.style.display =\n",
              "          google.colab.kernel.accessAllowed ? 'block' : 'none';\n",
              "\n",
              "        async function convertToInteractive(key) {\n",
              "          const element = document.querySelector('#df-187265b7-3d08-4ffc-82e0-9951f3d99a45');\n",
              "          const dataTable =\n",
              "            await google.colab.kernel.invokeFunction('convertToInteractive',\n",
              "                                                     [key], {});\n",
              "          if (!dataTable) return;\n",
              "\n",
              "          const docLinkHtml = 'Like what you see? Visit the ' +\n",
              "            '<a target=\"_blank\" href=https://colab.research.google.com/notebooks/data_table.ipynb>data table notebook</a>'\n",
              "            + ' to learn more about interactive tables.';\n",
              "          element.innerHTML = '';\n",
              "          dataTable['output_type'] = 'display_data';\n",
              "          await google.colab.output.renderOutput(dataTable, element);\n",
              "          const docLink = document.createElement('div');\n",
              "          docLink.innerHTML = docLinkHtml;\n",
              "          element.appendChild(docLink);\n",
              "        }\n",
              "      </script>\n",
              "    </div>\n",
              "  </div>\n",
              "  "
            ]
          },
          "metadata": {},
          "execution_count": 12
        }
      ],
      "source": [
        "df = df.drop(['instant', 'dteday'], axis=1)\n",
        "df.head()"
      ]
    },
    {
      "cell_type": "markdown",
      "metadata": {
        "id": "nri-R8IHkvf-"
      },
      "source": [
        "### <font color = #27C3E5> 2.3: </font> <font color = #41EA46> Define Predictor and Target Attribute </font>"
      ]
    },
    {
      "cell_type": "code",
      "execution_count": null,
      "metadata": {
        "id": "k668CMK6kvf_"
      },
      "outputs": [],
      "source": [
        "X = df.iloc[:, :-1]\n",
        "Y = df.iloc[:, -1]"
      ]
    },
    {
      "cell_type": "markdown",
      "metadata": {
        "id": "Oh-uGM8hkvf_"
      },
      "source": [
        "#### <font color = blue> Predictor Attribute"
      ]
    },
    {
      "cell_type": "code",
      "execution_count": null,
      "metadata": {
        "colab": {
          "base_uri": "https://localhost:8080/",
          "height": 206
        },
        "id": "Fi6BnIDwkvgA",
        "outputId": "52b32c05-e70f-42cb-beae-ed86c0360e47"
      },
      "outputs": [
        {
          "output_type": "execute_result",
          "data": {
            "text/plain": [
              "   season  yr  mnth  holiday  weekday  workingday  weathersit       temp  \\\n",
              "0       1   0     1        0        6           0           2  14.110847   \n",
              "1       1   0     1        0        0           0           2  14.902598   \n",
              "2       1   0     1        0        1           1           1   8.050924   \n",
              "3       1   0     1        0        2           1           1   8.200000   \n",
              "4       1   0     1        0        3           1           1   9.305237   \n",
              "\n",
              "      atemp      hum  windspeed  casual  registered  \n",
              "0  18.18125  80.5833  10.749882     331         654  \n",
              "1  17.68695  69.6087  16.652113     131         670  \n",
              "2   9.47025  43.7273  16.636703     120        1229  \n",
              "3  10.60610  59.0435  10.739832     108        1454  \n",
              "4  11.46350  43.6957  12.522300      82        1518  "
            ],
            "text/html": [
              "\n",
              "  <div id=\"df-0053f3e7-18c5-46c5-b05c-1f65a2eff91f\">\n",
              "    <div class=\"colab-df-container\">\n",
              "      <div>\n",
              "<style scoped>\n",
              "    .dataframe tbody tr th:only-of-type {\n",
              "        vertical-align: middle;\n",
              "    }\n",
              "\n",
              "    .dataframe tbody tr th {\n",
              "        vertical-align: top;\n",
              "    }\n",
              "\n",
              "    .dataframe thead th {\n",
              "        text-align: right;\n",
              "    }\n",
              "</style>\n",
              "<table border=\"1\" class=\"dataframe\">\n",
              "  <thead>\n",
              "    <tr style=\"text-align: right;\">\n",
              "      <th></th>\n",
              "      <th>season</th>\n",
              "      <th>yr</th>\n",
              "      <th>mnth</th>\n",
              "      <th>holiday</th>\n",
              "      <th>weekday</th>\n",
              "      <th>workingday</th>\n",
              "      <th>weathersit</th>\n",
              "      <th>temp</th>\n",
              "      <th>atemp</th>\n",
              "      <th>hum</th>\n",
              "      <th>windspeed</th>\n",
              "      <th>casual</th>\n",
              "      <th>registered</th>\n",
              "    </tr>\n",
              "  </thead>\n",
              "  <tbody>\n",
              "    <tr>\n",
              "      <th>0</th>\n",
              "      <td>1</td>\n",
              "      <td>0</td>\n",
              "      <td>1</td>\n",
              "      <td>0</td>\n",
              "      <td>6</td>\n",
              "      <td>0</td>\n",
              "      <td>2</td>\n",
              "      <td>14.110847</td>\n",
              "      <td>18.18125</td>\n",
              "      <td>80.5833</td>\n",
              "      <td>10.749882</td>\n",
              "      <td>331</td>\n",
              "      <td>654</td>\n",
              "    </tr>\n",
              "    <tr>\n",
              "      <th>1</th>\n",
              "      <td>1</td>\n",
              "      <td>0</td>\n",
              "      <td>1</td>\n",
              "      <td>0</td>\n",
              "      <td>0</td>\n",
              "      <td>0</td>\n",
              "      <td>2</td>\n",
              "      <td>14.902598</td>\n",
              "      <td>17.68695</td>\n",
              "      <td>69.6087</td>\n",
              "      <td>16.652113</td>\n",
              "      <td>131</td>\n",
              "      <td>670</td>\n",
              "    </tr>\n",
              "    <tr>\n",
              "      <th>2</th>\n",
              "      <td>1</td>\n",
              "      <td>0</td>\n",
              "      <td>1</td>\n",
              "      <td>0</td>\n",
              "      <td>1</td>\n",
              "      <td>1</td>\n",
              "      <td>1</td>\n",
              "      <td>8.050924</td>\n",
              "      <td>9.47025</td>\n",
              "      <td>43.7273</td>\n",
              "      <td>16.636703</td>\n",
              "      <td>120</td>\n",
              "      <td>1229</td>\n",
              "    </tr>\n",
              "    <tr>\n",
              "      <th>3</th>\n",
              "      <td>1</td>\n",
              "      <td>0</td>\n",
              "      <td>1</td>\n",
              "      <td>0</td>\n",
              "      <td>2</td>\n",
              "      <td>1</td>\n",
              "      <td>1</td>\n",
              "      <td>8.200000</td>\n",
              "      <td>10.60610</td>\n",
              "      <td>59.0435</td>\n",
              "      <td>10.739832</td>\n",
              "      <td>108</td>\n",
              "      <td>1454</td>\n",
              "    </tr>\n",
              "    <tr>\n",
              "      <th>4</th>\n",
              "      <td>1</td>\n",
              "      <td>0</td>\n",
              "      <td>1</td>\n",
              "      <td>0</td>\n",
              "      <td>3</td>\n",
              "      <td>1</td>\n",
              "      <td>1</td>\n",
              "      <td>9.305237</td>\n",
              "      <td>11.46350</td>\n",
              "      <td>43.6957</td>\n",
              "      <td>12.522300</td>\n",
              "      <td>82</td>\n",
              "      <td>1518</td>\n",
              "    </tr>\n",
              "  </tbody>\n",
              "</table>\n",
              "</div>\n",
              "      <button class=\"colab-df-convert\" onclick=\"convertToInteractive('df-0053f3e7-18c5-46c5-b05c-1f65a2eff91f')\"\n",
              "              title=\"Convert this dataframe to an interactive table.\"\n",
              "              style=\"display:none;\">\n",
              "        \n",
              "  <svg xmlns=\"http://www.w3.org/2000/svg\" height=\"24px\"viewBox=\"0 0 24 24\"\n",
              "       width=\"24px\">\n",
              "    <path d=\"M0 0h24v24H0V0z\" fill=\"none\"/>\n",
              "    <path d=\"M18.56 5.44l.94 2.06.94-2.06 2.06-.94-2.06-.94-.94-2.06-.94 2.06-2.06.94zm-11 1L8.5 8.5l.94-2.06 2.06-.94-2.06-.94L8.5 2.5l-.94 2.06-2.06.94zm10 10l.94 2.06.94-2.06 2.06-.94-2.06-.94-.94-2.06-.94 2.06-2.06.94z\"/><path d=\"M17.41 7.96l-1.37-1.37c-.4-.4-.92-.59-1.43-.59-.52 0-1.04.2-1.43.59L10.3 9.45l-7.72 7.72c-.78.78-.78 2.05 0 2.83L4 21.41c.39.39.9.59 1.41.59.51 0 1.02-.2 1.41-.59l7.78-7.78 2.81-2.81c.8-.78.8-2.07 0-2.86zM5.41 20L4 18.59l7.72-7.72 1.47 1.35L5.41 20z\"/>\n",
              "  </svg>\n",
              "      </button>\n",
              "      \n",
              "  <style>\n",
              "    .colab-df-container {\n",
              "      display:flex;\n",
              "      flex-wrap:wrap;\n",
              "      gap: 12px;\n",
              "    }\n",
              "\n",
              "    .colab-df-convert {\n",
              "      background-color: #E8F0FE;\n",
              "      border: none;\n",
              "      border-radius: 50%;\n",
              "      cursor: pointer;\n",
              "      display: none;\n",
              "      fill: #1967D2;\n",
              "      height: 32px;\n",
              "      padding: 0 0 0 0;\n",
              "      width: 32px;\n",
              "    }\n",
              "\n",
              "    .colab-df-convert:hover {\n",
              "      background-color: #E2EBFA;\n",
              "      box-shadow: 0px 1px 2px rgba(60, 64, 67, 0.3), 0px 1px 3px 1px rgba(60, 64, 67, 0.15);\n",
              "      fill: #174EA6;\n",
              "    }\n",
              "\n",
              "    [theme=dark] .colab-df-convert {\n",
              "      background-color: #3B4455;\n",
              "      fill: #D2E3FC;\n",
              "    }\n",
              "\n",
              "    [theme=dark] .colab-df-convert:hover {\n",
              "      background-color: #434B5C;\n",
              "      box-shadow: 0px 1px 3px 1px rgba(0, 0, 0, 0.15);\n",
              "      filter: drop-shadow(0px 1px 2px rgba(0, 0, 0, 0.3));\n",
              "      fill: #FFFFFF;\n",
              "    }\n",
              "  </style>\n",
              "\n",
              "      <script>\n",
              "        const buttonEl =\n",
              "          document.querySelector('#df-0053f3e7-18c5-46c5-b05c-1f65a2eff91f button.colab-df-convert');\n",
              "        buttonEl.style.display =\n",
              "          google.colab.kernel.accessAllowed ? 'block' : 'none';\n",
              "\n",
              "        async function convertToInteractive(key) {\n",
              "          const element = document.querySelector('#df-0053f3e7-18c5-46c5-b05c-1f65a2eff91f');\n",
              "          const dataTable =\n",
              "            await google.colab.kernel.invokeFunction('convertToInteractive',\n",
              "                                                     [key], {});\n",
              "          if (!dataTable) return;\n",
              "\n",
              "          const docLinkHtml = 'Like what you see? Visit the ' +\n",
              "            '<a target=\"_blank\" href=https://colab.research.google.com/notebooks/data_table.ipynb>data table notebook</a>'\n",
              "            + ' to learn more about interactive tables.';\n",
              "          element.innerHTML = '';\n",
              "          dataTable['output_type'] = 'display_data';\n",
              "          await google.colab.output.renderOutput(dataTable, element);\n",
              "          const docLink = document.createElement('div');\n",
              "          docLink.innerHTML = docLinkHtml;\n",
              "          element.appendChild(docLink);\n",
              "        }\n",
              "      </script>\n",
              "    </div>\n",
              "  </div>\n",
              "  "
            ]
          },
          "metadata": {},
          "execution_count": 14
        }
      ],
      "source": [
        "X.head()"
      ]
    },
    {
      "cell_type": "markdown",
      "metadata": {
        "id": "_RKNDNb0kvgA"
      },
      "source": [
        "#### <font color = blue> Target Attribute"
      ]
    },
    {
      "cell_type": "code",
      "execution_count": null,
      "metadata": {
        "colab": {
          "base_uri": "https://localhost:8080/"
        },
        "id": "LFqhnzPakvgA",
        "outputId": "499a7554-fbe9-4856-f16f-37e18daf6866"
      },
      "outputs": [
        {
          "output_type": "execute_result",
          "data": {
            "text/plain": [
              "0     985\n",
              "1     801\n",
              "2    1349\n",
              "3    1562\n",
              "4    1600\n",
              "Name: cnt, dtype: int64"
            ]
          },
          "metadata": {},
          "execution_count": 15
        }
      ],
      "source": [
        "Y.head()"
      ]
    },
    {
      "cell_type": "markdown",
      "metadata": {
        "id": "FEWDAnMckvgB"
      },
      "source": [
        "### <font color = #27C3E5> 2.5: </font> <font color = #41EA46> Split the Data into Train and Test </font>"
      ]
    },
    {
      "cell_type": "code",
      "execution_count": null,
      "metadata": {
        "id": "eXzCIjNDkvgB"
      },
      "outputs": [],
      "source": [
        "X_train, X_test, y_train, y_test = train_test_split(X, Y, test_size = 0.2, random_state = 0)"
      ]
    },
    {
      "cell_type": "markdown",
      "metadata": {
        "id": "RGSTuIerkvgC"
      },
      "source": [
        "#### <font color = blue> Training Data"
      ]
    },
    {
      "cell_type": "code",
      "execution_count": null,
      "metadata": {
        "colab": {
          "base_uri": "https://localhost:8080/"
        },
        "id": "CCI6BG1mkvgD",
        "outputId": "a9c74a64-8dd0-4a03-9b79-f01144d47ffc"
      },
      "outputs": [
        {
          "output_type": "stream",
          "name": "stdout",
          "text": [
            "X_test (584, 13)\n",
            "X_test (584,)\n"
          ]
        }
      ],
      "source": [
        "print(\"X_test\", X_train.shape)\n",
        "print(\"X_test\", y_train.shape)"
      ]
    },
    {
      "cell_type": "markdown",
      "metadata": {
        "id": "QSY3CfgVkvgD"
      },
      "source": [
        "#### <font color = blue> Testing Data"
      ]
    },
    {
      "cell_type": "code",
      "execution_count": null,
      "metadata": {
        "colab": {
          "base_uri": "https://localhost:8080/"
        },
        "id": "jGwaDGHckvgE",
        "outputId": "197da6e3-153f-480e-c8d2-493ff3e8feaa"
      },
      "outputs": [
        {
          "output_type": "stream",
          "name": "stdout",
          "text": [
            "X_test (146, 13)\n",
            "X_test (146,)\n"
          ]
        }
      ],
      "source": [
        "print(\"X_test\", X_test.shape)\n",
        "print(\"X_test\", y_test.shape)"
      ]
    },
    {
      "cell_type": "markdown",
      "metadata": {
        "id": "J131EIP4kvgE"
      },
      "source": [
        "### <font color = #27C3E5> 2.6: </font> <font color = #41EA46> Feature Scaling </font>"
      ]
    },
    {
      "cell_type": "code",
      "execution_count": null,
      "metadata": {
        "colab": {
          "base_uri": "https://localhost:8080/",
          "height": 206
        },
        "id": "N85AR2Y4kvgF",
        "outputId": "9cbdcaf8-144f-47e5-969a-0975b3f52cbb"
      },
      "outputs": [
        {
          "output_type": "execute_result",
          "data": {
            "text/plain": [
              "         0         1         2         3         4         5         6   \\\n",
              "0  0.439227 -0.989778  0.129950 -0.167836  1.491381 -1.486200 -0.719250   \n",
              "1  0.439227 -0.989778  0.129950 -0.167836  0.491993  0.672857 -0.719250   \n",
              "2 -1.367170 -0.989778 -1.608006 -0.167836  1.491381 -1.486200  1.155938   \n",
              "3 -1.367170 -0.989778 -1.318347 -0.167836 -0.507395  0.672857  1.155938   \n",
              "4 -1.367170  1.010327 -1.608006 -0.167836  0.491993  0.672857  1.155938   \n",
              "\n",
              "         7         8         9         10        11        12  \n",
              "0  1.058888  1.020640 -0.294204  0.237423  2.298627 -0.092996  \n",
              "1  1.403349  1.317666  0.178544 -0.403795 -0.134854  0.126157  \n",
              "2 -1.406745 -1.363429 -0.909667 -0.419936 -0.912866 -1.724467  \n",
              "3 -1.630605 -1.446424  1.450965 -1.786740 -1.168791 -1.535588  \n",
              "4 -0.817529 -0.703860  1.022945 -1.523390 -0.880692  0.121550  "
            ],
            "text/html": [
              "\n",
              "  <div id=\"df-5710ddb3-e339-47af-8359-aaf53c5a1d04\">\n",
              "    <div class=\"colab-df-container\">\n",
              "      <div>\n",
              "<style scoped>\n",
              "    .dataframe tbody tr th:only-of-type {\n",
              "        vertical-align: middle;\n",
              "    }\n",
              "\n",
              "    .dataframe tbody tr th {\n",
              "        vertical-align: top;\n",
              "    }\n",
              "\n",
              "    .dataframe thead th {\n",
              "        text-align: right;\n",
              "    }\n",
              "</style>\n",
              "<table border=\"1\" class=\"dataframe\">\n",
              "  <thead>\n",
              "    <tr style=\"text-align: right;\">\n",
              "      <th></th>\n",
              "      <th>0</th>\n",
              "      <th>1</th>\n",
              "      <th>2</th>\n",
              "      <th>3</th>\n",
              "      <th>4</th>\n",
              "      <th>5</th>\n",
              "      <th>6</th>\n",
              "      <th>7</th>\n",
              "      <th>8</th>\n",
              "      <th>9</th>\n",
              "      <th>10</th>\n",
              "      <th>11</th>\n",
              "      <th>12</th>\n",
              "    </tr>\n",
              "  </thead>\n",
              "  <tbody>\n",
              "    <tr>\n",
              "      <th>0</th>\n",
              "      <td>0.439227</td>\n",
              "      <td>-0.989778</td>\n",
              "      <td>0.129950</td>\n",
              "      <td>-0.167836</td>\n",
              "      <td>1.491381</td>\n",
              "      <td>-1.486200</td>\n",
              "      <td>-0.719250</td>\n",
              "      <td>1.058888</td>\n",
              "      <td>1.020640</td>\n",
              "      <td>-0.294204</td>\n",
              "      <td>0.237423</td>\n",
              "      <td>2.298627</td>\n",
              "      <td>-0.092996</td>\n",
              "    </tr>\n",
              "    <tr>\n",
              "      <th>1</th>\n",
              "      <td>0.439227</td>\n",
              "      <td>-0.989778</td>\n",
              "      <td>0.129950</td>\n",
              "      <td>-0.167836</td>\n",
              "      <td>0.491993</td>\n",
              "      <td>0.672857</td>\n",
              "      <td>-0.719250</td>\n",
              "      <td>1.403349</td>\n",
              "      <td>1.317666</td>\n",
              "      <td>0.178544</td>\n",
              "      <td>-0.403795</td>\n",
              "      <td>-0.134854</td>\n",
              "      <td>0.126157</td>\n",
              "    </tr>\n",
              "    <tr>\n",
              "      <th>2</th>\n",
              "      <td>-1.367170</td>\n",
              "      <td>-0.989778</td>\n",
              "      <td>-1.608006</td>\n",
              "      <td>-0.167836</td>\n",
              "      <td>1.491381</td>\n",
              "      <td>-1.486200</td>\n",
              "      <td>1.155938</td>\n",
              "      <td>-1.406745</td>\n",
              "      <td>-1.363429</td>\n",
              "      <td>-0.909667</td>\n",
              "      <td>-0.419936</td>\n",
              "      <td>-0.912866</td>\n",
              "      <td>-1.724467</td>\n",
              "    </tr>\n",
              "    <tr>\n",
              "      <th>3</th>\n",
              "      <td>-1.367170</td>\n",
              "      <td>-0.989778</td>\n",
              "      <td>-1.318347</td>\n",
              "      <td>-0.167836</td>\n",
              "      <td>-0.507395</td>\n",
              "      <td>0.672857</td>\n",
              "      <td>1.155938</td>\n",
              "      <td>-1.630605</td>\n",
              "      <td>-1.446424</td>\n",
              "      <td>1.450965</td>\n",
              "      <td>-1.786740</td>\n",
              "      <td>-1.168791</td>\n",
              "      <td>-1.535588</td>\n",
              "    </tr>\n",
              "    <tr>\n",
              "      <th>4</th>\n",
              "      <td>-1.367170</td>\n",
              "      <td>1.010327</td>\n",
              "      <td>-1.608006</td>\n",
              "      <td>-0.167836</td>\n",
              "      <td>0.491993</td>\n",
              "      <td>0.672857</td>\n",
              "      <td>1.155938</td>\n",
              "      <td>-0.817529</td>\n",
              "      <td>-0.703860</td>\n",
              "      <td>1.022945</td>\n",
              "      <td>-1.523390</td>\n",
              "      <td>-0.880692</td>\n",
              "      <td>0.121550</td>\n",
              "    </tr>\n",
              "  </tbody>\n",
              "</table>\n",
              "</div>\n",
              "      <button class=\"colab-df-convert\" onclick=\"convertToInteractive('df-5710ddb3-e339-47af-8359-aaf53c5a1d04')\"\n",
              "              title=\"Convert this dataframe to an interactive table.\"\n",
              "              style=\"display:none;\">\n",
              "        \n",
              "  <svg xmlns=\"http://www.w3.org/2000/svg\" height=\"24px\"viewBox=\"0 0 24 24\"\n",
              "       width=\"24px\">\n",
              "    <path d=\"M0 0h24v24H0V0z\" fill=\"none\"/>\n",
              "    <path d=\"M18.56 5.44l.94 2.06.94-2.06 2.06-.94-2.06-.94-.94-2.06-.94 2.06-2.06.94zm-11 1L8.5 8.5l.94-2.06 2.06-.94-2.06-.94L8.5 2.5l-.94 2.06-2.06.94zm10 10l.94 2.06.94-2.06 2.06-.94-2.06-.94-.94-2.06-.94 2.06-2.06.94z\"/><path d=\"M17.41 7.96l-1.37-1.37c-.4-.4-.92-.59-1.43-.59-.52 0-1.04.2-1.43.59L10.3 9.45l-7.72 7.72c-.78.78-.78 2.05 0 2.83L4 21.41c.39.39.9.59 1.41.59.51 0 1.02-.2 1.41-.59l7.78-7.78 2.81-2.81c.8-.78.8-2.07 0-2.86zM5.41 20L4 18.59l7.72-7.72 1.47 1.35L5.41 20z\"/>\n",
              "  </svg>\n",
              "      </button>\n",
              "      \n",
              "  <style>\n",
              "    .colab-df-container {\n",
              "      display:flex;\n",
              "      flex-wrap:wrap;\n",
              "      gap: 12px;\n",
              "    }\n",
              "\n",
              "    .colab-df-convert {\n",
              "      background-color: #E8F0FE;\n",
              "      border: none;\n",
              "      border-radius: 50%;\n",
              "      cursor: pointer;\n",
              "      display: none;\n",
              "      fill: #1967D2;\n",
              "      height: 32px;\n",
              "      padding: 0 0 0 0;\n",
              "      width: 32px;\n",
              "    }\n",
              "\n",
              "    .colab-df-convert:hover {\n",
              "      background-color: #E2EBFA;\n",
              "      box-shadow: 0px 1px 2px rgba(60, 64, 67, 0.3), 0px 1px 3px 1px rgba(60, 64, 67, 0.15);\n",
              "      fill: #174EA6;\n",
              "    }\n",
              "\n",
              "    [theme=dark] .colab-df-convert {\n",
              "      background-color: #3B4455;\n",
              "      fill: #D2E3FC;\n",
              "    }\n",
              "\n",
              "    [theme=dark] .colab-df-convert:hover {\n",
              "      background-color: #434B5C;\n",
              "      box-shadow: 0px 1px 3px 1px rgba(0, 0, 0, 0.15);\n",
              "      filter: drop-shadow(0px 1px 2px rgba(0, 0, 0, 0.3));\n",
              "      fill: #FFFFFF;\n",
              "    }\n",
              "  </style>\n",
              "\n",
              "      <script>\n",
              "        const buttonEl =\n",
              "          document.querySelector('#df-5710ddb3-e339-47af-8359-aaf53c5a1d04 button.colab-df-convert');\n",
              "        buttonEl.style.display =\n",
              "          google.colab.kernel.accessAllowed ? 'block' : 'none';\n",
              "\n",
              "        async function convertToInteractive(key) {\n",
              "          const element = document.querySelector('#df-5710ddb3-e339-47af-8359-aaf53c5a1d04');\n",
              "          const dataTable =\n",
              "            await google.colab.kernel.invokeFunction('convertToInteractive',\n",
              "                                                     [key], {});\n",
              "          if (!dataTable) return;\n",
              "\n",
              "          const docLinkHtml = 'Like what you see? Visit the ' +\n",
              "            '<a target=\"_blank\" href=https://colab.research.google.com/notebooks/data_table.ipynb>data table notebook</a>'\n",
              "            + ' to learn more about interactive tables.';\n",
              "          element.innerHTML = '';\n",
              "          dataTable['output_type'] = 'display_data';\n",
              "          await google.colab.output.renderOutput(dataTable, element);\n",
              "          const docLink = document.createElement('div');\n",
              "          docLink.innerHTML = docLinkHtml;\n",
              "          element.appendChild(docLink);\n",
              "        }\n",
              "      </script>\n",
              "    </div>\n",
              "  </div>\n",
              "  "
            ]
          },
          "metadata": {},
          "execution_count": 19
        }
      ],
      "source": [
        "SS = StandardScaler()\n",
        "X_train = SS.fit_transform(X_train)\n",
        "X_test = SS.transform(X_test)\n",
        "\n",
        "pd.DataFrame(X_test).head()  # Same Scale"
      ]
    },
    {
      "cell_type": "markdown",
      "metadata": {
        "id": "vqzjp2HkkvgG"
      },
      "source": [
        "## <font color = #950CDF> Part 4: </font> <font color = #4854E8> Build the Support Vector Regression </font>\n",
        "In this part, we build the Support Vector Regression Model using Scikit-Learn"
      ]
    },
    {
      "cell_type": "markdown",
      "metadata": {
        "id": "4r2pyzy-kvgG"
      },
      "source": [
        "![ML](https://user-images.githubusercontent.com/7065401/52071924-c003ad80-2562-11e9-8297-1c6595f8a7ff.png)"
      ]
    },
    {
      "cell_type": "markdown",
      "metadata": {
        "id": "kb3dUvhukvgH"
      },
      "source": [
        "#### <font color = blue> Import Model from Sklearn"
      ]
    },
    {
      "cell_type": "code",
      "source": [
        "from sklearn.svm import SVR,LinearSVR\n",
        "# Use GridSearchCV to search for the best hyperparameters\n",
        "from sklearn.model_selection import GridSearchCV\n"
      ],
      "metadata": {
        "id": "DFt_rO4Xq-pI"
      },
      "execution_count": null,
      "outputs": []
    },
    {
      "cell_type": "markdown",
      "source": [
        "#### <font color = blue> Initialize the Model"
      ],
      "metadata": {
        "id": "wubF1xQrq7x-"
      }
    },
    {
      "cell_type": "code",
      "execution_count": null,
      "metadata": {
        "id": "swN_HP74kvgH"
      },
      "outputs": [],
      "source": [
        "\n",
        "def experiment_model(X_train,y_train,X_test):\n",
        "\n",
        "    result_list = []\n",
        "\n",
        "\n",
        "    # Initialize the SVM with a rbf kernel\n",
        "    svm_model = SVR(kernel='rbf')\n",
        "\n",
        "    # Define the parameter grid for gamma and C\n",
        "    param_grid = {\"gamma\": [\"auto\", \"scale\"], 'C': [0.0001, 0.001, 0.1, 1, 10, 100, 1000]}\n",
        "    clf_one = GridSearchCV(estimator=svm_model, param_grid=param_grid)\n",
        "    clf_one.fit(X_train, y_train)\n",
        "    Predicted_labels= clf_one.predict(X_test)\n",
        "    result_list.append((Predicted_labels,clf_one))\n",
        "    print(f\"SVM , Kernal = RBF , Best parameters: {clf_one.best_params_}\")\n",
        "\n",
        "\n",
        "\n",
        "    print(\"SVM , Kernel = Linear \")\n",
        "    param_grid = {'C': [0.0001, 0.001, 0.1, 1, 10, 100, 1000]}\n",
        "    svm_model = LinearSVR()\n",
        "    clf_two = GridSearchCV(estimator=svm_model, param_grid=param_grid)\n",
        "    clf_two.fit(X_train, y_train)\n",
        "    Predicted_labels= clf_two.predict(X_test)\n",
        "    result_list.append((Predicted_labels,clf_two))\n",
        "    print(f\"SVM , Kernal = Linear , Best parameters: {clf_two.best_params_}\")\n",
        "\n",
        "\n",
        "\n",
        "\n",
        "    #Initialize the SVM with a polynomial kernel\n",
        "    param_grid = {\"degree\": [2, 3, 4],\"C\": [0.0001, 0.001, 0.1, 1, 10, 100, 1000]}\n",
        "    svm_model = SVR(kernel='poly')\n",
        "    clf_three = GridSearchCV(estimator=svm_model, param_grid=param_grid,cv=5)\n",
        "    clf_three.fit(X_train, y_train)\n",
        "    Predicted_labels= clf_three.predict(X_test)\n",
        "    result_list.append((Predicted_labels,clf_three))\n",
        "    print(f\"SVM , Kernel = Poly , Best parameters: {clf_three.best_params_}\")\n",
        "\n",
        "\n",
        "    # Initialize the SVM with a Sigmoid kernel\n",
        "    param_grid = {'gamma': [0.1, 1, 10], 'C': [0.0001, 0.001, 0.1, 1, 10, 100, 1000]}\n",
        "    svm_model = SVR(kernel='sigmoid')\n",
        "    clf_four = GridSearchCV(estimator=svm_model, param_grid=param_grid,cv=5)\n",
        "    clf_four.fit(X_train, y_train)\n",
        "    Predicted_labels= clf_four.predict(X_test)\n",
        "    result_list.append((Predicted_labels,clf_four))\n",
        "    print(f\"SVM , Kernel = Sigmoid , Best parameters: {clf_four.best_params_}\")\n",
        "\n",
        "\n",
        "\n",
        "\n",
        "    return result_list"
      ]
    },
    {
      "cell_type": "markdown",
      "metadata": {
        "id": "rgqyx1TZkvgJ"
      },
      "source": [
        "#### <font color = blue> Fit the Model"
      ]
    },
    {
      "cell_type": "code",
      "execution_count": null,
      "metadata": {
        "colab": {
          "base_uri": "https://localhost:8080/"
        },
        "id": "xVC3KQsbkvgK",
        "outputId": "d5c83c97-f294-4869-ba6b-15b927e2c6a8"
      },
      "outputs": [
        {
          "output_type": "stream",
          "name": "stdout",
          "text": [
            "SVM , Kernal = RBF , Best parameters: {'C': 1000, 'gamma': 'auto'}\n",
            "SVM , Kernel = Linear \n",
            "SVM , Kernal = Linear , Best parameters: {'C': 1000}\n",
            "SVM , Kernel = Poly , Best parameters: {'C': 1000, 'degree': 3}\n",
            "SVM , Kernel = Sigmoid , Best parameters: {'C': 100, 'gamma': 0.1}\n"
          ]
        }
      ],
      "source": [
        "result = experiment_model(X_train, y_train,X_test)"
      ]
    },
    {
      "cell_type": "markdown",
      "metadata": {
        "id": "xp6N2jxakvgK"
      },
      "source": [
        "#### <font color = blue> Predict the Test Data</font>"
      ]
    },
    {
      "cell_type": "markdown",
      "source": [
        "## <font color = #950CDF> Part 4: </font> <font color = #4854E8> Evaluate the Result </font>\n",
        "In this part, we evaluate the Decision Tree Regression Model. And for evaluation we will use three metrics. <br>\n",
        "`R Square`: R Square measures how much variability in dependent variable can be explained by the model. <br>\n",
        "`Mean Square Error`: MSE is calculated by the sum of square of prediction error which is real output minus predicted output and then divide by the number of data points. It gives you an absolute number on how much your predicted results deviate from the actual number. <br>\n",
        "`Mean Absolute Error`: Mean Absolute Error(MAE) is similar to Mean Square Error(MSE). However, instead of the sum of square of error in MSE, MAE is taking the sum of the absolute value of error.\n"
      ],
      "metadata": {
        "id": "TSP_nBCi7H-V"
      }
    },
    {
      "cell_type": "code",
      "source": [
        "from sklearn.metrics import mean_squared_error\n",
        "from sklearn.metrics import mean_absolute_error\n",
        "import math\n",
        "def find_metic_for_reqerssion(y_true,y_pred,score,model_name):\n",
        "    print(f\"{model_name} :\")\n",
        "    print(f\"score: {score}\")\n",
        "    print(f\"MSE: {mean_squared_error(y_true, y_pred)}\")\n",
        "    print(f\"RMSE: {math.sqrt(mean_squared_error(y_true, y_pred))}\")\n",
        "    print(f\"MAE: {mean_absolute_error(y_true, y_pred)}\")"
      ],
      "metadata": {
        "id": "jPRWLEifr5xL"
      },
      "execution_count": null,
      "outputs": []
    },
    {
      "cell_type": "code",
      "execution_count": null,
      "metadata": {
        "colab": {
          "base_uri": "https://localhost:8080/"
        },
        "id": "tWZqXSqNkvgK",
        "outputId": "24e51f47-c313-49f0-9d15-61f92db3032d"
      },
      "outputs": [
        {
          "output_type": "stream",
          "name": "stdout",
          "text": [
            "RBF :\n",
            "score: 0.9652371853444817\n",
            "MSE: 153903.90113095395\n",
            "RMSE: 392.3058770028228\n",
            "MAE: 186.62444251074908\n"
          ]
        }
      ],
      "source": [
        "find_metic_for_reqerssion(y_test,result[0][0],result[0][1].score(X_test,y_test),\"RBF\")"
      ]
    },
    {
      "cell_type": "code",
      "source": [
        "find_metic_for_reqerssion(y_test,result[1][0],result[1][1].score(X_test,y_test),\"Linner\")"
      ],
      "metadata": {
        "colab": {
          "base_uri": "https://localhost:8080/"
        },
        "id": "kaS82lpRr-2k",
        "outputId": "31458066-402b-4c78-8413-bf2a3e6aaf85"
      },
      "execution_count": null,
      "outputs": [
        {
          "output_type": "stream",
          "name": "stdout",
          "text": [
            "Linner :\n",
            "score: 0.9999999999778757\n",
            "MSE: 9.795008403361586e-05\n",
            "RMSE: 0.009896973478473904\n",
            "MAE: 0.007657639315346088\n"
          ]
        }
      ]
    },
    {
      "cell_type": "code",
      "source": [
        "find_metic_for_reqerssion(y_test,result[2][0],result[2][1].score(X_test,y_test),\"Poly\")"
      ],
      "metadata": {
        "colab": {
          "base_uri": "https://localhost:8080/"
        },
        "id": "_M3B0bHtsDW8",
        "outputId": "9eb41aac-e0ee-4382-d264-5f855b5f73d1"
      },
      "execution_count": null,
      "outputs": [
        {
          "output_type": "stream",
          "name": "stdout",
          "text": [
            "Poly :\n",
            "score: 0.8989604107161324\n",
            "MSE: 447328.19000857405\n",
            "RMSE: 668.8259788678771\n",
            "MAE: 362.43799167683363\n"
          ]
        }
      ]
    },
    {
      "cell_type": "code",
      "source": [
        "find_metic_for_reqerssion(y_test,result[3][0],result[3][1].score(X_test,y_test),\"Sigmoid\")"
      ],
      "metadata": {
        "colab": {
          "base_uri": "https://localhost:8080/"
        },
        "id": "kS3yqRzcsHGd",
        "outputId": "a30b618c-d81d-4e29-d518-1c43d50316b0"
      },
      "execution_count": null,
      "outputs": [
        {
          "output_type": "stream",
          "name": "stdout",
          "text": [
            "Sigmoid :\n",
            "score: 0.9227324958889135\n",
            "MSE: 342083.06868099066\n",
            "RMSE: 584.8786786000928\n",
            "MAE: 404.5202923827171\n"
          ]
        }
      ]
    },
    {
      "cell_type": "markdown",
      "metadata": {
        "id": "1PWetfwNkvgL"
      },
      "source": [
        "![Machine Learning Project](https://user-images.githubusercontent.com/7065401/52071927-c1cd7100-2562-11e9-908a-dde91ba14e59.png)"
      ]
    },
    {
      "cell_type": "markdown",
      "metadata": {
        "id": "CRY2iz2HkvgM"
      },
      "source": [
        "![ML](https://user-images.githubusercontent.com/7065401/52071924-c003ad80-2562-11e9-8297-1c6595f8a7ff.png)"
      ]
    },
    {
      "cell_type": "markdown",
      "metadata": {
        "id": "sEoMk7y5kvgM"
      },
      "source": [
        "### <font color = #27C3E5> 4.1: </font> <font color = #41EA46>  Show correlation of Results  And True value\n",
        " </font>"
      ]
    },
    {
      "cell_type": "code",
      "source": [
        "from sklearn.svm import SVR\n",
        "import matplotlib.pyplot as plt\n",
        "import numpy as np\n",
        "from mlxtend.plotting import plot_decision_regions\n",
        "\n",
        "\n",
        "# Fit the SVR model with RBF kernels\n",
        "rbf = SVR(kernel='rbf',C=100,gamma='scale').fit(X_train,y_train)\n",
        "\n",
        "# Plot the actual target values against the predicted values\n",
        "plt.scatter(y_test, rbf.predict(X_test))\n",
        "plt.scatter(y_test,y_test)\n",
        "plt.xlabel('Actual values')\n",
        "plt.ylabel('Predicted values')\n",
        "plt.show()"
      ],
      "metadata": {
        "colab": {
          "base_uri": "https://localhost:8080/",
          "height": 305
        },
        "id": "OgEEPqge7peL",
        "outputId": "32ea601f-5c91-417c-b398-2dc2795c5858"
      },
      "execution_count": null,
      "outputs": [
        {
          "output_type": "display_data",
          "data": {
            "text/plain": [
              "<Figure size 432x288 with 1 Axes>"
            ],
            "image/png": "[encoded data removed]"
          },
          "metadata": {}
        }
      ]
    },
    {
      "cell_type": "code",
      "source": [
        "from sklearn.svm import SVR\n",
        "import matplotlib.pyplot as plt\n",
        "import numpy as np\n",
        "from mlxtend.plotting import plot_decision_regions\n",
        "\n",
        "# poly = SVR(kernel='poly',C=100,degree=2).fit(X,y)\n",
        "# sigmoid = SVR(kernel='sigmoid',C=1,gamma=0.1).fit(X,y)\n",
        "\n",
        "\n",
        "# Fit the SVR model with Linear kernels\n",
        "linear = SVR(kernel='linear',C=100).fit(X_train,y_train)\n",
        "\n",
        "# Plot the actual target values against the predicted values\n",
        "plt.scatter(y_test, linear.predict(X_test))\n",
        "plt.scatter(y_test,y_test)\n",
        "plt.xlabel('Actual values')\n",
        "plt.ylabel('Predicted values')\n",
        "plt.show()"
      ],
      "metadata": {
        "colab": {
          "base_uri": "https://localhost:8080/",
          "height": 305
        },
        "id": "kd9cabN_70ou",
        "outputId": "05c032d4-8094-4a93-a7d1-d242c42a8de6"
      },
      "execution_count": null,
      "outputs": [
        {
          "output_type": "display_data",
          "data": {
            "text/plain": [
              "<Figure size 432x288 with 1 Axes>"
            ],
            "image/png": "[encoded data removed]"
          },
          "metadata": {}
        }
      ]
    },
    {
      "cell_type": "code",
      "source": [
        "from sklearn.svm import SVR\n",
        "import matplotlib.pyplot as plt\n",
        "import numpy as np\n",
        "from mlxtend.plotting import plot_decision_regions\n",
        "\n",
        "# sigmoid = SVR(kernel='sigmoid',C=1,gamma=0.1).fit(X,y)\n",
        "\n",
        "\n",
        "# Fit the SVR model with poly kernels\n",
        "poly = SVR(kernel='poly',C=100,degree=2).fit(X_train,y_train)\n",
        "\n",
        "# Plot the actual target values against the predicted values\n",
        "plt.scatter(y_test, poly.predict(X_test))\n",
        "plt.scatter(y_test,y_test)\n",
        "plt.xlabel('Actual values')\n",
        "plt.ylabel('Predicted values')\n",
        "plt.show()"
      ],
      "metadata": {
        "colab": {
          "base_uri": "https://localhost:8080/",
          "height": 305
        },
        "id": "xpRWeEKy74tN",
        "outputId": "56e57323-8075-4804-ea26-fbf9faa63813"
      },
      "execution_count": null,
      "outputs": [
        {
          "output_type": "display_data",
          "data": {
            "text/plain": [
              "<Figure size 432x288 with 1 Axes>"
            ],
            "image/png": "[encoded data removed]"
          },
          "metadata": {}
        }
      ]
    },
    {
      "cell_type": "code",
      "source": [
        "from sklearn.svm import SVR\n",
        "import matplotlib.pyplot as plt\n",
        "import numpy as np\n",
        "from mlxtend.plotting import plot_decision_regions\n",
        "\n",
        "\n",
        "\n",
        "# Fit the SVR model with poly kernels\n",
        "sigmoid = SVR(kernel='sigmoid',C=1,gamma=0.1).fit(X_train,y_train)\n",
        "\n",
        "# Plot the actual target values against the predicted values\n",
        "plt.scatter(y_test, poly.predict(X_test))\n",
        "plt.scatter(y_test,y_test)\n",
        "plt.xlabel('Actual values')\n",
        "plt.ylabel('Predicted values')\n",
        "plt.show()"
      ],
      "metadata": {
        "colab": {
          "base_uri": "https://localhost:8080/",
          "height": 305
        },
        "id": "GRb0QDJd8ENy",
        "outputId": "7417e827-94f5-41c6-95fe-eab8b1723071"
      },
      "execution_count": null,
      "outputs": [
        {
          "output_type": "display_data",
          "data": {
            "text/plain": [
              "<Figure size 432x288 with 1 Axes>"
            ],
            "image/png": "[encoded data removed]"
          },
          "metadata": {}
        }
      ]
    },
    {
      "cell_type": "markdown",
      "metadata": {
        "id": "1IHWvi1YkvgN"
      },
      "source": [
        "![Machine Learning Project](https://user-images.githubusercontent.com/7065401/52071927-c1cd7100-2562-11e9-908a-dde91ba14e59.png)"
      ]
    }
  ],
  "metadata": {
    "kernelspec": {
      "display_name": "Python 3 (ipykernel)",
      "language": "python",
      "name": "python3"
    },
    "language_info": {
      "codemirror_mode": {
        "name": "ipython",
        "version": 3
      },
      "file_extension": ".py",
      "mimetype": "text/x-python",
      "name": "python",
      "nbconvert_exporter": "python",
      "pygments_lexer": "ipython3",
      "version": "3.9.7"
    },
    "colab": {
      "provenance": []
    }
  },
  "nbformat": 4,
  "nbformat_minor": 0
}