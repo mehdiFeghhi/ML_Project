{
  "nbformat": 4,
  "nbformat_minor": 0,
  "metadata": {
    "colab": {
      "provenance": []
    },
    "kernelspec": {
      "name": "python3",
      "display_name": "Python 3"
    },
    "language_info": {
      "name": "python"
    }
  },
  "cells": [
    {
      "cell_type": "code",
      "source": [
        "import numpy as np\n",
        "import pandas as pd\n",
        "import gzip\n",
        "import os\n",
        "from sklearn.pipeline import make_pipeline\n",
        "from sklearn.preprocessing import StandardScaler\n",
        "from sklearn.svm import SVR,LinearSVR\n",
        "from sklearn.manifold import TSNE\n",
        "import random\n",
        "from sklearn.datasets import make_gaussian_quantiles\n",
        "from sklearn.datasets import make_blobs\n",
        "from sklearn.datasets import make_classification\n",
        "from sklearn.datasets import make_moons\n",
        "from sklearn.model_selection import train_test_split\n",
        "from skimage import color\n",
        "from sklearn.model_selection import GridSearchCV\n",
        "\n",
        "from sklearn.decomposition import PCA\n",
        "import cv2\n",
        "from sklearn.multiclass import OneVsRestClassifier\n",
        "from sklearn.tree import DecisionTreeClassifier\n",
        "from sklearn.metrics import confusion_matrix,ConfusionMatrixDisplay,precision_score,recall_score,f1_score,RocCurveDisplay\n",
        "import matplotlib.pyplot as plt\n",
        "from sklearn.model_selection import cross_val_score\n",
        "from sklearn import metrics\n",
        "from sklearn.preprocessing import label_binarize\n",
        "from sklearn.metrics import roc_curve, auc\n",
        "from sklearn.calibration import CalibratedClassifierCV\n",
        "import time\n"
      ],
      "metadata": {
        "id": "N-rcXqKv50gz"
      },
      "execution_count": null,
      "outputs": []
    },
    {
      "cell_type": "code",
      "execution_count": null,
      "metadata": {
        "id": "haI-G1nUf01n"
      },
      "outputs": [],
      "source": [
        "import math\n",
        "\n",
        "def function_rez_complex(x, y):\n",
        "    \"\"\"\n",
        "    This function takes in three arguments, x, y, and returns the result of x cubed plus the sine of y.\n",
        "    \"\"\"\n",
        "    return x**3 + math.sin(y) \n",
        "\n"
      ]
    },
    {
      "cell_type": "code",
      "source": [
        "def function_rez_simple(x,y):\n",
        "\n",
        "\n",
        "    return x**2+3*y"
      ],
      "metadata": {
        "id": "_Po7fncN4pUF"
      },
      "execution_count": null,
      "outputs": []
    },
    {
      "cell_type": "code",
      "source": [
        "import numpy as np\n",
        "\n",
        "# set the seed for reproducibility\n",
        "np.random.seed(42)\n",
        "\n",
        "# create a random numpy array with 2   features and 5000 rows\n",
        "array_3x5000 = np.random.randint(-100, 101, size=(5000, 1))\n",
        "\n",
        "function_res_simple = np.array([function_rez_simple(item[0],item[1]) for item in array_3x5000])\n",
        "print(function_res_simple)\n"
      ],
      "metadata": {
        "colab": {
          "base_uri": "https://localhost:8080/"
        },
        "id": "rQHVWhbpp7Q6",
        "outputId": "6ccb6d26-e871-445f-aa7f-bf49de20151a"
      },
      "execution_count": null,
      "outputs": [
        {
          "output_type": "stream",
          "name": "stdout",
          "text": [
            "[ 241 -194  -51 ... 6415  -41 8878]\n"
          ]
        }
      ]
    },
    {
      "cell_type": "code",
      "source": [
        "X_train, X_test, y_train, y_test = train_test_split(array_3x5000, function_res_simple, test_size=0.3, random_state=42)\n",
        "print(X_train.shape,X_test.shape,y_train.shape,y_test.shape)"
      ],
      "metadata": {
        "colab": {
          "base_uri": "https://localhost:8080/"
        },
        "id": "GAWzZ8Gk5mry",
        "outputId": "bda5e188-7bd6-4a6a-ef00-1c6dc6681547"
      },
      "execution_count": null,
      "outputs": [
        {
          "output_type": "stream",
          "name": "stdout",
          "text": [
            "(3500, 2) (1500, 2) (3500,) (1500,)\n"
          ]
        }
      ]
    },
    {
      "cell_type": "code",
      "source": [
        "\n",
        "\n",
        "# Use GridSearchCV to search for the best hyperparameters\n",
        "from sklearn.model_selection import GridSearchCV\n",
        "\n",
        "\n",
        "def experiment_model(X_train,y_train,X_test):\n",
        "\n",
        "    result_list = []\n",
        "\n",
        "\n",
        "    # Initialize the SVM with a rbf kernel\n",
        "    svm_model = SVR(kernel='rbf')\n",
        "\n",
        "    # Define the parameter grid for gamma and C\n",
        "    param_grid = {\"gamma\": [\"auto\", \"scale\"], 'C': [0.0001, 0.001, 0.1, 1, 10, 100, 1000]}\n",
        "    clf_one = GridSearchCV(estimator=svm_model, param_grid=param_grid)\n",
        "    clf_one.fit(X_train, y_train)\n",
        "    Predicted_labels= clf_one.predict(X_test)\n",
        "    result_list.append((Predicted_labels,clf_one))\n",
        "    print(f\"SVM , Kernal = RBF , Best parameters: {clf_one.best_params_}\")\n",
        "\n",
        "\n",
        "\n",
        "    print(\"SVM , Kernel = Linear \")\n",
        "    param_grid = {'C': [0.0001, 0.001, 0.1, 1, 10, 100, 1000]}\n",
        "    svm_model = LinearSVR()\n",
        "    clf_two = GridSearchCV(estimator=svm_model, param_grid=param_grid)\n",
        "    clf_two.fit(X_train, y_train)\n",
        "    Predicted_labels= clf_two.predict(X_test)\n",
        "    result_list.append((Predicted_labels,clf_two))\n",
        "    print(f\"SVM , Kernal = Linear , Best parameters: {clf_two.best_params_}\")\n",
        "\n",
        "\n",
        "\n",
        "\n",
        "    #Initialize the SVM with a polynomial kernel\n",
        "    param_grid = {\"degree\": [2, 3, 4],\"C\": [0.0001, 0.001, 0.1, 1, 10, 100, 1000]}\n",
        "    svm_model = SVR(kernel='poly')\n",
        "    clf_three = GridSearchCV(estimator=svm_model, param_grid=param_grid,cv=5)\n",
        "    clf_three.fit(X_train, y_train)\n",
        "    Predicted_labels= clf_three.predict(X_test)\n",
        "    result_list.append((Predicted_labels,clf_three))\n",
        "    print(f\"SVM , Kernel = Poly , Best parameters: {clf_three.best_params_}\")\n",
        "\n",
        "\n",
        "    # Initialize the SVM with a Sigmoid kernel\n",
        "    param_grid = {'gamma': [0.1, 1, 10], 'C': [0.0001, 0.001, 0.1, 1, 10, 100, 1000]}\n",
        "    svm_model = SVR(kernel='sigmoid')\n",
        "    clf_four = GridSearchCV(estimator=svm_model, param_grid=param_grid,cv=5)\n",
        "    clf_four.fit(X_train, y_train)\n",
        "    Predicted_labels= clf_four.predict(X_test)\n",
        "    result_list.append((Predicted_labels,clf_four))\n",
        "    print(f\"SVM , Kernel = Sigmoid , Best parameters: {clf_four.best_params_}\")\n",
        "\n",
        "\n",
        "\n",
        "\n",
        "    return result_list"
      ],
      "metadata": {
        "id": "kBXzTL-057Hz"
      },
      "execution_count": null,
      "outputs": []
    },
    {
      "cell_type": "code",
      "source": [
        "result = experiment_model(X_train, y_train,X_test)"
      ],
      "metadata": {
        "colab": {
          "base_uri": "https://localhost:8080/"
        },
        "id": "nfzec3ghSZAU",
        "outputId": "cd83ef10-93ad-4593-d5c1-b1b09f5ec20a"
      },
      "execution_count": null,
      "outputs": [
        {
          "output_type": "stream",
          "name": "stdout",
          "text": [
            "SVM , Kernal = RBF , Best parameters: {'C': 1000, 'gamma': 'scale'}\n",
            "SVM , Kernel = Linear \n"
          ]
        },
        {
          "output_type": "stream",
          "name": "stderr",
          "text": [
            "/usr/local/lib/python3.9/dist-packages/sklearn/svm/_base.py:1244: ConvergenceWarning: Liblinear failed to converge, increase the number of iterations.\n",
            "  warnings.warn(\n",
            "/usr/local/lib/python3.9/dist-packages/sklearn/svm/_base.py:1244: ConvergenceWarning: Liblinear failed to converge, increase the number of iterations.\n",
            "  warnings.warn(\n",
            "/usr/local/lib/python3.9/dist-packages/sklearn/svm/_base.py:1244: ConvergenceWarning: Liblinear failed to converge, increase the number of iterations.\n",
            "  warnings.warn(\n",
            "/usr/local/lib/python3.9/dist-packages/sklearn/svm/_base.py:1244: ConvergenceWarning: Liblinear failed to converge, increase the number of iterations.\n",
            "  warnings.warn(\n",
            "/usr/local/lib/python3.9/dist-packages/sklearn/svm/_base.py:1244: ConvergenceWarning: Liblinear failed to converge, increase the number of iterations.\n",
            "  warnings.warn(\n",
            "/usr/local/lib/python3.9/dist-packages/sklearn/svm/_base.py:1244: ConvergenceWarning: Liblinear failed to converge, increase the number of iterations.\n",
            "  warnings.warn(\n",
            "/usr/local/lib/python3.9/dist-packages/sklearn/svm/_base.py:1244: ConvergenceWarning: Liblinear failed to converge, increase the number of iterations.\n",
            "  warnings.warn(\n",
            "/usr/local/lib/python3.9/dist-packages/sklearn/svm/_base.py:1244: ConvergenceWarning: Liblinear failed to converge, increase the number of iterations.\n",
            "  warnings.warn(\n",
            "/usr/local/lib/python3.9/dist-packages/sklearn/svm/_base.py:1244: ConvergenceWarning: Liblinear failed to converge, increase the number of iterations.\n",
            "  warnings.warn(\n",
            "/usr/local/lib/python3.9/dist-packages/sklearn/svm/_base.py:1244: ConvergenceWarning: Liblinear failed to converge, increase the number of iterations.\n",
            "  warnings.warn(\n",
            "/usr/local/lib/python3.9/dist-packages/sklearn/svm/_base.py:1244: ConvergenceWarning: Liblinear failed to converge, increase the number of iterations.\n",
            "  warnings.warn(\n",
            "/usr/local/lib/python3.9/dist-packages/sklearn/svm/_base.py:1244: ConvergenceWarning: Liblinear failed to converge, increase the number of iterations.\n",
            "  warnings.warn(\n",
            "/usr/local/lib/python3.9/dist-packages/sklearn/svm/_base.py:1244: ConvergenceWarning: Liblinear failed to converge, increase the number of iterations.\n",
            "  warnings.warn(\n",
            "/usr/local/lib/python3.9/dist-packages/sklearn/svm/_base.py:1244: ConvergenceWarning: Liblinear failed to converge, increase the number of iterations.\n",
            "  warnings.warn(\n",
            "/usr/local/lib/python3.9/dist-packages/sklearn/svm/_base.py:1244: ConvergenceWarning: Liblinear failed to converge, increase the number of iterations.\n",
            "  warnings.warn(\n",
            "/usr/local/lib/python3.9/dist-packages/sklearn/svm/_base.py:1244: ConvergenceWarning: Liblinear failed to converge, increase the number of iterations.\n",
            "  warnings.warn(\n"
          ]
        },
        {
          "output_type": "stream",
          "name": "stdout",
          "text": [
            "SVM , Kernal = Linear , Best parameters: {'C': 100}\n",
            "SVM , Kernel = Poly , Best parameters: {'C': 100, 'degree': 2}\n",
            "SVM , Kernel = Sigmoid , Best parameters: {'C': 1, 'gamma': 0.1}\n"
          ]
        }
      ]
    },
    {
      "cell_type": "code",
      "source": [
        "from sklearn.metrics import mean_squared_error\n",
        "from sklearn.metrics import mean_absolute_error\n",
        "import math\n",
        "def find_metic_for_reqerssion(y_true,y_pred,score,model_name):\n",
        "    print(f\"{model_name} :\")\n",
        "    print(f\"score: {score}\")\n",
        "    print(f\"MSE: {mean_squared_error(y_true, y_pred)}\")\n",
        "    print(f\"RMSE: {math.sqrt(mean_squared_error(y_true, y_pred))}\")\n",
        "    print(f\"MAE: {mean_absolute_error(y_true, y_pred)}\")"
      ],
      "metadata": {
        "id": "mw8tVpNuXbx9"
      },
      "execution_count": null,
      "outputs": []
    },
    {
      "cell_type": "code",
      "source": [
        "\n",
        "find_metic_for_reqerssion(y_test,result[0][0],result[0][1].score(X_test,y_test),\"RBF\")"
      ],
      "metadata": {
        "colab": {
          "base_uri": "https://localhost:8080/"
        },
        "id": "BbZliaxRvdGu",
        "outputId": "fb1c6d53-f920-41bb-f006-9074b64be564"
      },
      "execution_count": null,
      "outputs": [
        {
          "output_type": "stream",
          "name": "stdout",
          "text": [
            "RBF :\n",
            "score: 0.9996941039139171\n",
            "MSE: 2758.478988561318\n",
            "RMSE: 52.521224172341206\n",
            "MAE: 20.40949657488448\n"
          ]
        }
      ]
    },
    {
      "cell_type": "code",
      "source": [
        "find_metic_for_reqerssion(y_test,result[1][0],result[1][1].score(X_test,y_test),\"Linner\")"
      ],
      "metadata": {
        "colab": {
          "base_uri": "https://localhost:8080/"
        },
        "id": "ikUAdOeYwEul",
        "outputId": "9358397e-9ef3-42c6-96a7-5d9e089789f2"
      },
      "execution_count": null,
      "outputs": [
        {
          "output_type": "stream",
          "name": "stdout",
          "text": [
            "Linner :\n",
            "score: -0.09164987858789275\n",
            "MSE: 9844170.585870633\n",
            "RMSE: 3137.542124955557\n",
            "MAE: 2533.7612747774447\n"
          ]
        }
      ]
    },
    {
      "cell_type": "code",
      "source": [
        "find_metic_for_reqerssion(y_test,result[2][0],result[2][1].score(X_test,y_test),\"Poly\")"
      ],
      "metadata": {
        "colab": {
          "base_uri": "https://localhost:8080/"
        },
        "id": "QeqfFnwjwSN4",
        "outputId": "fd5a75e6-67df-4b53-c4ca-f56645e74782"
      },
      "execution_count": null,
      "outputs": [
        {
          "output_type": "stream",
          "name": "stdout",
          "text": [
            "Poly :\n",
            "score: 0.994814537138211\n",
            "MSE: 46760.94595840491\n",
            "RMSE: 216.24279400341857\n",
            "MAE: 149.13274499514225\n"
          ]
        }
      ]
    },
    {
      "cell_type": "code",
      "source": [
        "find_metic_for_reqerssion(y_test,result[3][0],result[3][1].score(X_test,y_test),\"Sigmoid\")"
      ],
      "metadata": {
        "colab": {
          "base_uri": "https://localhost:8080/"
        },
        "id": "aXI2ex6QwjJD",
        "outputId": "8110768d-37ba-41c4-d192-989cbbb0222e"
      },
      "execution_count": null,
      "outputs": [
        {
          "output_type": "stream",
          "name": "stdout",
          "text": [
            "Sigmoid :\n",
            "score: -0.07171844982742703\n",
            "MSE: 9664434.95030957\n",
            "RMSE: 3108.7674326506913\n",
            "MAE: 2523.8823638949107\n"
          ]
        }
      ]
    },
    {
      "cell_type": "code",
      "source": [
        "from sklearn.svm import SVR\n",
        "import matplotlib.pyplot as plt\n",
        "import numpy as np\n",
        "from mlxtend.plotting import plot_decision_regions\n",
        "\n",
        "\n",
        "# Fit the SVR model with RBF kernels\n",
        "rbf = SVR(kernel='rbf',C=100,gamma='scale').fit(X_train,y_train)\n",
        "\n",
        "# Plot the actual target values against the predicted values\n",
        "plt.scatter(y_test, rbf.predict(X_test))\n",
        "plt.scatter(y_test,y_test)\n",
        "plt.xlabel('Actual values')\n",
        "plt.ylabel('Predicted values')\n",
        "plt.show()"
      ],
      "metadata": {
        "colab": {
          "base_uri": "https://localhost:8080/",
          "height": 279
        },
        "id": "5Ct0QaaY75jy",
        "outputId": "074d00c8-3398-41bb-e231-638ebf32f528"
      },
      "execution_count": null,
      "outputs": [
        {
          "output_type": "display_data",
          "data": {
            "text/plain": [
              "<Figure size 432x288 with 1 Axes>"
            ],
            "image/png": "[encoded data removed]"
          },
          "metadata": {
            "needs_background": "light"
          }
        }
      ]
    },
    {
      "cell_type": "code",
      "source": [
        "from sklearn.svm import SVR\n",
        "import matplotlib.pyplot as plt\n",
        "import numpy as np\n",
        "from mlxtend.plotting import plot_decision_regions\n",
        "\n",
        "# poly = SVR(kernel='poly',C=100,degree=2).fit(X,y)\n",
        "# sigmoid = SVR(kernel='sigmoid',C=1,gamma=0.1).fit(X,y)\n",
        "\n",
        "\n",
        "# Fit the SVR model with Linear kernels\n",
        "linear = SVR(kernel='linear',C=100).fit(X_train,y_train)\n",
        "\n",
        "# Plot the actual target values against the predicted values\n",
        "plt.scatter(y_test, linear.predict(X_test))\n",
        "plt.scatter(y_test,y_test)\n",
        "plt.xlabel('Actual values')\n",
        "plt.ylabel('Predicted values')\n",
        "plt.show()"
      ],
      "metadata": {
        "colab": {
          "base_uri": "https://localhost:8080/",
          "height": 279
        },
        "id": "KD61HzS_SipW",
        "outputId": "b0902d4a-af62-4b88-9ac3-eea27abe3707"
      },
      "execution_count": null,
      "outputs": [
        {
          "output_type": "display_data",
          "data": {
            "text/plain": [
              "<Figure size 432x288 with 1 Axes>"
            ],
            "image/png": "[encoded data removed]"
          },
          "metadata": {
            "needs_background": "light"
          }
        }
      ]
    },
    {
      "cell_type": "code",
      "source": [
        "from sklearn.svm import SVR\n",
        "import matplotlib.pyplot as plt\n",
        "import numpy as np\n",
        "from mlxtend.plotting import plot_decision_regions\n",
        "\n",
        "# sigmoid = SVR(kernel='sigmoid',C=1,gamma=0.1).fit(X,y)\n",
        "\n",
        "\n",
        "# Fit the SVR model with poly kernels\n",
        "poly = SVR(kernel='poly',C=100,degree=2).fit(X_train,y_train)\n",
        "\n",
        "# Plot the actual target values against the predicted values\n",
        "plt.scatter(y_test, poly.predict(X_test))\n",
        "plt.scatter(y_test,y_test)\n",
        "plt.xlabel('Actual values')\n",
        "plt.ylabel('Predicted values')\n",
        "plt.show()"
      ],
      "metadata": {
        "colab": {
          "base_uri": "https://localhost:8080/",
          "height": 279
        },
        "id": "MPE7jaELSv_b",
        "outputId": "50956046-3fb6-4743-c933-ce7433032762"
      },
      "execution_count": null,
      "outputs": [
        {
          "output_type": "display_data",
          "data": {
            "text/plain": [
              "<Figure size 432x288 with 1 Axes>"
            ],
            "image/png": "[encoded data removed]"
          },
          "metadata": {
            "needs_background": "light"
          }
        }
      ]
    },
    {
      "cell_type": "code",
      "source": [
        "from sklearn.svm import SVR\n",
        "import matplotlib.pyplot as plt\n",
        "import numpy as np\n",
        "from mlxtend.plotting import plot_decision_regions\n",
        "\n",
        "\n",
        "\n",
        "# Fit the SVR model with poly kernels\n",
        "sigmoid = SVR(kernel='sigmoid',C=1,gamma=0.1).fit(X_train,y_train)\n",
        "\n",
        "# Plot the actual target values against the predicted values\n",
        "plt.scatter(y_test, poly.predict(X_test))\n",
        "plt.scatter(y_test,y_test)\n",
        "plt.xlabel('Actual values')\n",
        "plt.ylabel('Predicted values')\n",
        "plt.show()"
      ],
      "metadata": {
        "colab": {
          "base_uri": "https://localhost:8080/",
          "height": 279
        },
        "id": "S60zFnKiInnq",
        "outputId": "7dea5490-7227-403b-badf-26d34e7f9099"
      },
      "execution_count": null,
      "outputs": [
        {
          "output_type": "display_data",
          "data": {
            "text/plain": [
              "<Figure size 432x288 with 1 Axes>"
            ],
            "image/png": "[encoded data removed]"
          },
          "metadata": {
            "needs_background": "light"
          }
        }
      ]
    },
    {
      "cell_type": "code",
      "source": [
        "import numpy as np\n",
        "\n",
        "# set the seed for reproducibility\n",
        "np.random.seed(42)\n",
        "\n",
        "# create a random numpy array with 3 features and 5000 rows\n",
        "array_3x5000 = np.random.randint(-100, 101, size=(5000, 2))\n",
        "\n",
        "function_res_simple = np.array([function_rez_complex(item[0],item[1]) for item in array_3x5000])\n",
        "print(function_res_simple)\n"
      ],
      "metadata": {
        "colab": {
          "base_uri": "https://localhost:8080/"
        },
        "id": "vtug7g87ZmOa",
        "outputId": "2b7ae559-2496-4da8-8ae8-8a05a9c9efe1"
      },
      "execution_count": null,
      "outputs": [
        {
          "output_type": "stream",
          "name": "stdout",
          "text": [
            "[ 7.55588733e+00 -5.11076542e+02  2.16663634e+02 ...  4.93039993e+05\n",
            "  9.39264431e-03  8.57375954e+05]\n"
          ]
        }
      ]
    },
    {
      "cell_type": "code",
      "source": [
        "X_train, X_test, y_train, y_test = train_test_split(array_3x5000, function_res_simple, test_size=0.3, random_state=42)\n",
        "print(X_train.shape,X_test.shape,y_train.shape,y_test.shape)"
      ],
      "metadata": {
        "colab": {
          "base_uri": "https://localhost:8080/"
        },
        "id": "LjhmzgQqZpOE",
        "outputId": "ca661b3b-698e-4eed-a3e2-a9e707d72b78"
      },
      "execution_count": null,
      "outputs": [
        {
          "output_type": "stream",
          "name": "stdout",
          "text": [
            "(3500, 2) (1500, 2) (3500,) (1500,)\n"
          ]
        }
      ]
    },
    {
      "cell_type": "code",
      "source": [
        "result = experiment_model(X_train, y_train,X_test)"
      ],
      "metadata": {
        "colab": {
          "base_uri": "https://localhost:8080/"
        },
        "id": "f2YhtLAJZrww",
        "outputId": "e8c1c531-7fb2-47ce-dbd0-71c8a1f208a6"
      },
      "execution_count": null,
      "outputs": [
        {
          "output_type": "stream",
          "name": "stdout",
          "text": [
            "SVM , Kernal = RBF , Best parameters: {'C': 1000, 'gamma': 'scale'}\n",
            "SVM , Kernel = Linear \n"
          ]
        },
        {
          "output_type": "stream",
          "name": "stderr",
          "text": [
            "/usr/local/lib/python3.9/dist-packages/sklearn/svm/_base.py:1244: ConvergenceWarning: Liblinear failed to converge, increase the number of iterations.\n",
            "  warnings.warn(\n",
            "/usr/local/lib/python3.9/dist-packages/sklearn/svm/_base.py:1244: ConvergenceWarning: Liblinear failed to converge, increase the number of iterations.\n",
            "  warnings.warn(\n",
            "/usr/local/lib/python3.9/dist-packages/sklearn/svm/_base.py:1244: ConvergenceWarning: Liblinear failed to converge, increase the number of iterations.\n",
            "  warnings.warn(\n",
            "/usr/local/lib/python3.9/dist-packages/sklearn/svm/_base.py:1244: ConvergenceWarning: Liblinear failed to converge, increase the number of iterations.\n",
            "  warnings.warn(\n",
            "/usr/local/lib/python3.9/dist-packages/sklearn/svm/_base.py:1244: ConvergenceWarning: Liblinear failed to converge, increase the number of iterations.\n",
            "  warnings.warn(\n"
          ]
        },
        {
          "output_type": "stream",
          "name": "stdout",
          "text": [
            "SVM , Kernal = Linear , Best parameters: {'C': 100}\n",
            "SVM , Kernel = Poly , Best parameters: {'C': 1000, 'degree': 3}\n",
            "SVM , Kernel = Sigmoid , Best parameters: {'C': 100, 'gamma': 0.1}\n"
          ]
        }
      ]
    },
    {
      "cell_type": "code",
      "source": [
        "find_metic_for_reqerssion(y_test,result[0][0],result[0][1].score(X_test,y_test),\"RBF\")"
      ],
      "metadata": {
        "colab": {
          "base_uri": "https://localhost:8080/"
        },
        "id": "dHkna-H5ZzJU",
        "outputId": "a94c8ede-0157-431c-a214-712815c1d84a"
      },
      "execution_count": null,
      "outputs": [
        {
          "output_type": "stream",
          "name": "stdout",
          "text": [
            "RBF :\n",
            "score: 0.5629096164772925\n",
            "MSE: 63904168535.264565\n",
            "RMSE: 252792.73829614758\n",
            "MAE: 153251.9044338921\n"
          ]
        }
      ]
    },
    {
      "cell_type": "code",
      "source": [
        "find_metic_for_reqerssion(y_test,result[1][0],result[1][1].score(X_test,y_test),\"Linner\")"
      ],
      "metadata": {
        "colab": {
          "base_uri": "https://localhost:8080/"
        },
        "id": "LEmN9uKxZzrq",
        "outputId": "2ec600f8-d1e0-4864-9015-cd5760c91105"
      },
      "execution_count": null,
      "outputs": [
        {
          "output_type": "stream",
          "name": "stdout",
          "text": [
            "Linner :\n",
            "score: 0.8247297852091499\n",
            "MSE: 25625128731.812115\n",
            "RMSE: 160078.50802594368\n",
            "MAE: 125780.14237595045\n"
          ]
        }
      ]
    },
    {
      "cell_type": "code",
      "source": [
        "find_metic_for_reqerssion(y_test,result[2][0],result[2][1].score(X_test,y_test),\"Poly\")"
      ],
      "metadata": {
        "colab": {
          "base_uri": "https://localhost:8080/"
        },
        "id": "53sQaXHoZ2mN",
        "outputId": "54c7033b-aa86-49ca-db1b-c44ccc2fd723"
      },
      "execution_count": null,
      "outputs": [
        {
          "output_type": "stream",
          "name": "stdout",
          "text": [
            "Poly :\n",
            "score: 0.9999999999954751\n",
            "MSE: 0.6615660160938548\n",
            "RMSE: 0.813367085696154\n",
            "MAE: 0.6961928603838737\n"
          ]
        }
      ]
    },
    {
      "cell_type": "code",
      "source": [
        "find_metic_for_reqerssion(y_test,result[3][0],result[3][1].score(X_test,y_test),\"Sigmoid\")"
      ],
      "metadata": {
        "colab": {
          "base_uri": "https://localhost:8080/"
        },
        "id": "CRdibC_-Z7vU",
        "outputId": "8764f9d8-cd4e-4fd7-c083-1e01a3503aeb"
      },
      "execution_count": null,
      "outputs": [
        {
          "output_type": "stream",
          "name": "stdout",
          "text": [
            "Sigmoid :\n",
            "score: 0.3036208170768757\n",
            "MSE: 101813113139.92166\n",
            "RMSE: 319081.67158256157\n",
            "MAE: 204222.15463810778\n"
          ]
        }
      ]
    },
    {
      "cell_type": "code",
      "source": [
        "from sklearn.svm import SVR\n",
        "import matplotlib.pyplot as plt\n",
        "import numpy as np\n",
        "from mlxtend.plotting import plot_decision_regions\n",
        "\n",
        "\n",
        "# Fit the SVR model with RBF kernels\n",
        "rbf = SVR(kernel='rbf',C=1000,gamma='scale').fit(X_train,y_train)\n",
        "\n",
        "# Plot the actual target values against the predicted values\n",
        "plt.scatter(y_test, rbf.predict(X_test))\n",
        "plt.scatter(y_test,y_test)\n",
        "plt.xlabel('Actual values')\n",
        "plt.ylabel('Predicted values')\n",
        "plt.show()"
      ],
      "metadata": {
        "colab": {
          "base_uri": "https://localhost:8080/",
          "height": 290
        },
        "id": "rk5QtuSzaEOy",
        "outputId": "ee0cf718-4fdb-448c-aeed-e63dce17403b"
      },
      "execution_count": null,
      "outputs": [
        {
          "output_type": "display_data",
          "data": {
            "text/plain": [
              "<Figure size 432x288 with 1 Axes>"
            ],
            "image/png": "[encoded data removed]"
          },
          "metadata": {
            "needs_background": "light"
          }
        }
      ]
    },
    {
      "cell_type": "code",
      "source": [
        "from sklearn.svm import SVR\n",
        "import matplotlib.pyplot as plt\n",
        "import numpy as np\n",
        "from mlxtend.plotting import plot_decision_regions\n",
        "\n",
        "# poly = SVR(kernel='poly',C=100,degree=2).fit(X,y)\n",
        "# sigmoid = SVR(kernel='sigmoid',C=1,gamma=0.1).fit(X,y)\n",
        "\n",
        "\n",
        "# Fit the SVR model with Linear kernels\n",
        "linear = SVR(kernel='linear',C=100).fit(X_train,y_train)\n",
        "\n",
        "# Plot the actual target values against the predicted values\n",
        "plt.scatter(y_test, linear.predict(X_test))\n",
        "plt.scatter(y_test,y_test)\n",
        "plt.xlabel('Actual values')\n",
        "plt.ylabel('Predicted values')\n",
        "plt.show()"
      ],
      "metadata": {
        "colab": {
          "base_uri": "https://localhost:8080/",
          "height": 290
        },
        "id": "cxWGJJ1laE1M",
        "outputId": "cb8cb461-ac6d-4e33-a40a-249d47ffffc5"
      },
      "execution_count": null,
      "outputs": [
        {
          "output_type": "display_data",
          "data": {
            "text/plain": [
              "<Figure size 432x288 with 1 Axes>"
            ],
            "image/png": "[encoded data removed]"
          },
          "metadata": {
            "needs_background": "light"
          }
        }
      ]
    },
    {
      "cell_type": "code",
      "source": [
        "from sklearn.svm import SVR\n",
        "import matplotlib.pyplot as plt\n",
        "import numpy as np\n",
        "from mlxtend.plotting import plot_decision_regions\n",
        "\n",
        "# sigmoid = SVR(kernel='sigmoid',C=1,gamma=0.1).fit(X,y)\n",
        "\n",
        "\n",
        "# Fit the SVR model with poly kernels\n",
        "poly = SVR(kernel='poly',C=1000,degree=3).fit(X_train,y_train)\n",
        "\n",
        "# Plot the actual target values against the predicted values\n",
        "plt.scatter(y_test, poly.predict(X_test))\n",
        "plt.scatter(y_test,y_test)\n",
        "plt.xlabel('Actual values')\n",
        "plt.ylabel('Predicted values')\n",
        "plt.show()"
      ],
      "metadata": {
        "colab": {
          "base_uri": "https://localhost:8080/",
          "height": 290
        },
        "id": "iKl4j8iNaI_H",
        "outputId": "773ced3a-5090-4bec-ce45-cec8f1d1c544"
      },
      "execution_count": null,
      "outputs": [
        {
          "output_type": "display_data",
          "data": {
            "text/plain": [
              "<Figure size 432x288 with 1 Axes>"
            ],
            "image/png": "[encoded data removed]"
          },
          "metadata": {
            "needs_background": "light"
          }
        }
      ]
    },
    {
      "cell_type": "code",
      "source": [
        "from sklearn.svm import SVR\n",
        "import matplotlib.pyplot as plt\n",
        "import numpy as np\n",
        "from mlxtend.plotting import plot_decision_regions\n",
        "\n",
        "\n",
        "\n",
        "# Fit the SVR model with poly kernels\n",
        "sigmoid = SVR(kernel='sigmoid',C=1,gamma=0.1).fit(X_train,y_train)\n",
        "\n",
        "# Plot the actual target values against the predicted values\n",
        "plt.scatter(y_test, sigmoid.predict(X_test))\n",
        "plt.scatter(y_test,y_test)\n",
        "plt.xlabel('Actual values')\n",
        "plt.ylabel('Predicted values')\n",
        "plt.show()"
      ],
      "metadata": {
        "colab": {
          "base_uri": "https://localhost:8080/",
          "height": 290
        },
        "id": "svpimJA2aLcj",
        "outputId": "f78f7499-4da4-4189-cfaf-9689397d0ad7"
      },
      "execution_count": null,
      "outputs": [
        {
          "output_type": "display_data",
          "data": {
            "text/plain": [
              "<Figure size 432x288 with 1 Axes>"
            ],
            "image/png": "[encoded data removed]"
          },
          "metadata": {
            "needs_background": "light"
          }
        }
      ]
    }
  ]
}